{
 "cells": [
  {
   "cell_type": "code",
   "execution_count": 14,
   "metadata": {},
   "outputs": [],
   "source": [
    "import os\n",
    "import pandas as pd\n",
    "import numpy as np\n",
    "import matplotlib.pyplot as plt\n",
    "import seaborn as sns\n",
    "%matplotlib inline"
   ]
  },
  {
   "cell_type": "markdown",
   "metadata": {},
   "source": [
    "# load data"
   ]
  },
  {
   "cell_type": "code",
   "execution_count": 2,
   "metadata": {},
   "outputs": [],
   "source": [
    "data_dir = '/home/lzhao/data/tmp/optiver'"
   ]
  },
  {
   "cell_type": "code",
   "execution_count": 3,
   "metadata": {},
   "outputs": [],
   "source": [
    "train_df = pd.read_csv(os.path.join(data_dir, 'train.csv'))\n",
    "book_example = pd.read_parquet(os.path.join(data_dir, 'book_train.parquet/stock_id=0'))\n",
    "trade_example = pd.read_parquet(os.path.join(data_dir, 'trade_train.parquet/stock_id=0'))"
   ]
  },
  {
   "cell_type": "code",
   "execution_count": 15,
   "metadata": {},
   "outputs": [
    {
     "name": "stdout",
     "output_type": "stream",
     "text": [
      "CPU times: user 148 µs, sys: 100 µs, total: 248 µs\n",
      "Wall time: 268 µs\n"
     ]
    },
    {
     "data": {
      "text/plain": "   stock_id  time_id    target\n0         0        5  0.004136\n1         0       11  0.001445\n2         0       16  0.002168\n3         0       31  0.002195\n4         0       62  0.001747",
      "text/html": "<div>\n<style scoped>\n    .dataframe tbody tr th:only-of-type {\n        vertical-align: middle;\n    }\n\n    .dataframe tbody tr th {\n        vertical-align: top;\n    }\n\n    .dataframe thead th {\n        text-align: right;\n    }\n</style>\n<table border=\"1\" class=\"dataframe\">\n  <thead>\n    <tr style=\"text-align: right;\">\n      <th></th>\n      <th>stock_id</th>\n      <th>time_id</th>\n      <th>target</th>\n    </tr>\n  </thead>\n  <tbody>\n    <tr>\n      <th>0</th>\n      <td>0</td>\n      <td>5</td>\n      <td>0.004136</td>\n    </tr>\n    <tr>\n      <th>1</th>\n      <td>0</td>\n      <td>11</td>\n      <td>0.001445</td>\n    </tr>\n    <tr>\n      <th>2</th>\n      <td>0</td>\n      <td>16</td>\n      <td>0.002168</td>\n    </tr>\n    <tr>\n      <th>3</th>\n      <td>0</td>\n      <td>31</td>\n      <td>0.002195</td>\n    </tr>\n    <tr>\n      <th>4</th>\n      <td>0</td>\n      <td>62</td>\n      <td>0.001747</td>\n    </tr>\n  </tbody>\n</table>\n</div>"
     },
     "execution_count": 15,
     "metadata": {},
     "output_type": "execute_result"
    }
   ],
   "source": [
    "%%time\n",
    "train_df.head(5)"
   ]
  },
  {
   "cell_type": "code",
   "execution_count": 5,
   "metadata": {},
   "outputs": [
    {
     "data": {
      "text/plain": "     time_id  seconds_in_bucket  bid_price1  ask_price1  bid_price2  \\\n0          5                  0    1.001422    1.002301    1.001370   \n1          5                  1    1.001422    1.002301    1.001370   \n2          5                  5    1.001422    1.002301    1.001370   \n3          5                  6    1.001422    1.002301    1.001370   \n4          5                  7    1.001422    1.002301    1.001370   \n..       ...                ...         ...         ...         ...   \n297        5                585    1.003129    1.003749    1.003025   \n298        5                586    1.003129    1.003749    1.002612   \n299        5                587    1.003129    1.003749    1.003025   \n300        5                588    1.003129    1.003749    1.002612   \n301        5                593    1.003129    1.003749    1.003025   \n\n     ask_price2  bid_size1  ask_size1  bid_size2  ask_size2  \n0      1.002353          3        226          2        100  \n1      1.002353          3        100          2        100  \n2      1.002405          3        100          2        100  \n3      1.002405          3        126          2        100  \n4      1.002405          3        126          2        100  \n..          ...        ...        ...        ...        ...  \n297    1.003801        100          3         26          3  \n298    1.003801        100          3          2          3  \n299    1.003801        100          3         26          3  \n300    1.003801        100          3          2          3  \n301    1.003801        100          3         26          3  \n\n[302 rows x 10 columns]",
      "text/html": "<div>\n<style scoped>\n    .dataframe tbody tr th:only-of-type {\n        vertical-align: middle;\n    }\n\n    .dataframe tbody tr th {\n        vertical-align: top;\n    }\n\n    .dataframe thead th {\n        text-align: right;\n    }\n</style>\n<table border=\"1\" class=\"dataframe\">\n  <thead>\n    <tr style=\"text-align: right;\">\n      <th></th>\n      <th>time_id</th>\n      <th>seconds_in_bucket</th>\n      <th>bid_price1</th>\n      <th>ask_price1</th>\n      <th>bid_price2</th>\n      <th>ask_price2</th>\n      <th>bid_size1</th>\n      <th>ask_size1</th>\n      <th>bid_size2</th>\n      <th>ask_size2</th>\n    </tr>\n  </thead>\n  <tbody>\n    <tr>\n      <th>0</th>\n      <td>5</td>\n      <td>0</td>\n      <td>1.001422</td>\n      <td>1.002301</td>\n      <td>1.001370</td>\n      <td>1.002353</td>\n      <td>3</td>\n      <td>226</td>\n      <td>2</td>\n      <td>100</td>\n    </tr>\n    <tr>\n      <th>1</th>\n      <td>5</td>\n      <td>1</td>\n      <td>1.001422</td>\n      <td>1.002301</td>\n      <td>1.001370</td>\n      <td>1.002353</td>\n      <td>3</td>\n      <td>100</td>\n      <td>2</td>\n      <td>100</td>\n    </tr>\n    <tr>\n      <th>2</th>\n      <td>5</td>\n      <td>5</td>\n      <td>1.001422</td>\n      <td>1.002301</td>\n      <td>1.001370</td>\n      <td>1.002405</td>\n      <td>3</td>\n      <td>100</td>\n      <td>2</td>\n      <td>100</td>\n    </tr>\n    <tr>\n      <th>3</th>\n      <td>5</td>\n      <td>6</td>\n      <td>1.001422</td>\n      <td>1.002301</td>\n      <td>1.001370</td>\n      <td>1.002405</td>\n      <td>3</td>\n      <td>126</td>\n      <td>2</td>\n      <td>100</td>\n    </tr>\n    <tr>\n      <th>4</th>\n      <td>5</td>\n      <td>7</td>\n      <td>1.001422</td>\n      <td>1.002301</td>\n      <td>1.001370</td>\n      <td>1.002405</td>\n      <td>3</td>\n      <td>126</td>\n      <td>2</td>\n      <td>100</td>\n    </tr>\n    <tr>\n      <th>...</th>\n      <td>...</td>\n      <td>...</td>\n      <td>...</td>\n      <td>...</td>\n      <td>...</td>\n      <td>...</td>\n      <td>...</td>\n      <td>...</td>\n      <td>...</td>\n      <td>...</td>\n    </tr>\n    <tr>\n      <th>297</th>\n      <td>5</td>\n      <td>585</td>\n      <td>1.003129</td>\n      <td>1.003749</td>\n      <td>1.003025</td>\n      <td>1.003801</td>\n      <td>100</td>\n      <td>3</td>\n      <td>26</td>\n      <td>3</td>\n    </tr>\n    <tr>\n      <th>298</th>\n      <td>5</td>\n      <td>586</td>\n      <td>1.003129</td>\n      <td>1.003749</td>\n      <td>1.002612</td>\n      <td>1.003801</td>\n      <td>100</td>\n      <td>3</td>\n      <td>2</td>\n      <td>3</td>\n    </tr>\n    <tr>\n      <th>299</th>\n      <td>5</td>\n      <td>587</td>\n      <td>1.003129</td>\n      <td>1.003749</td>\n      <td>1.003025</td>\n      <td>1.003801</td>\n      <td>100</td>\n      <td>3</td>\n      <td>26</td>\n      <td>3</td>\n    </tr>\n    <tr>\n      <th>300</th>\n      <td>5</td>\n      <td>588</td>\n      <td>1.003129</td>\n      <td>1.003749</td>\n      <td>1.002612</td>\n      <td>1.003801</td>\n      <td>100</td>\n      <td>3</td>\n      <td>2</td>\n      <td>3</td>\n    </tr>\n    <tr>\n      <th>301</th>\n      <td>5</td>\n      <td>593</td>\n      <td>1.003129</td>\n      <td>1.003749</td>\n      <td>1.003025</td>\n      <td>1.003801</td>\n      <td>100</td>\n      <td>3</td>\n      <td>26</td>\n      <td>3</td>\n    </tr>\n  </tbody>\n</table>\n<p>302 rows × 10 columns</p>\n</div>"
     },
     "execution_count": 5,
     "metadata": {},
     "output_type": "execute_result"
    }
   ],
   "source": [
    "book_test = book_example[book_example.time_id == 5]\n",
    "book_test"
   ]
  },
  {
   "cell_type": "markdown",
   "metadata": {},
   "source": [
    "# feature engineer"
   ]
  },
  {
   "cell_type": "code",
   "execution_count": 6,
   "metadata": {},
   "outputs": [],
   "source": [
    "# 计算对数收益率\n",
    "def log_return(list_stock_prices):\n",
    "    '''log(s2/s1) = log(s2) - log(s1)'''\n",
    "    return np.log(list_stock_prices).diff()\n",
    "\n",
    "# 计算已实现波动率\n",
    "def realized_volatility(series_log_return):\n",
    "    return np.sqrt(np.sum(series_log_return**2))\n",
    "\n",
    "# 计算wap价格\n",
    "def calc_wap(df):\n",
    "    wap = (df['bid_price1'] * df['ask_size1'] + df['ask_price1'] * df['bid_size1']) / (df['bid_size1'] + df['ask_size1'])\n",
    "    return wap\n",
    "\n",
    "def calc_wap2(df):\n",
    "    wap = (df['bid_price2'] * df['ask_size2'] + df['ask_price2'] * df['bid_size2']) / (df['bid_size2'] + df['ask_size2'])\n",
    "    return wap\n"
   ]
  },
  {
   "cell_type": "code",
   "execution_count": 7,
   "metadata": {},
   "outputs": [
    {
     "data": {
      "text/plain": "   time_id  seconds_in_bucket  bid_price1  ask_price1  bid_price2  ask_price2  \\\n0        5                  0    1.001422    1.002301     1.00137    1.002353   \n1        5                  1    1.001422    1.002301     1.00137    1.002353   \n2        5                  5    1.001422    1.002301     1.00137    1.002405   \n3        5                  6    1.001422    1.002301     1.00137    1.002405   \n4        5                  7    1.001422    1.002301     1.00137    1.002405   \n\n   bid_size1  ask_size1  bid_size2  ask_size2       wap  log_return      wap2  \\\n0          3        226          2        100  1.001434         NaN  1.001390   \n1          3        100          2        100  1.001448    0.000014  1.001390   \n2          3        100          2        100  1.001448    0.000000  1.001391   \n3          3        126          2        100  1.001443   -0.000005  1.001391   \n4          3        126          2        100  1.001443    0.000000  1.001391   \n\n   log_return2  wap_balance  price_spread  bid_spread  ask_spread  \\\n0          NaN     0.000044      0.000878    0.000052   -0.000052   \n1     0.000000     0.000058      0.000878    0.000052   -0.000052   \n2     0.000001     0.000057      0.000878    0.000052   -0.000103   \n3     0.000000     0.000052      0.000878    0.000052   -0.000103   \n4     0.000000     0.000052      0.000878    0.000052   -0.000103   \n\n   total_volume  volume_imbalance  \n0           331               321  \n1           205               195  \n2           205               195  \n3           231               221  \n4           231               221  ",
      "text/html": "<div>\n<style scoped>\n    .dataframe tbody tr th:only-of-type {\n        vertical-align: middle;\n    }\n\n    .dataframe tbody tr th {\n        vertical-align: top;\n    }\n\n    .dataframe thead th {\n        text-align: right;\n    }\n</style>\n<table border=\"1\" class=\"dataframe\">\n  <thead>\n    <tr style=\"text-align: right;\">\n      <th></th>\n      <th>time_id</th>\n      <th>seconds_in_bucket</th>\n      <th>bid_price1</th>\n      <th>ask_price1</th>\n      <th>bid_price2</th>\n      <th>ask_price2</th>\n      <th>bid_size1</th>\n      <th>ask_size1</th>\n      <th>bid_size2</th>\n      <th>ask_size2</th>\n      <th>wap</th>\n      <th>log_return</th>\n      <th>wap2</th>\n      <th>log_return2</th>\n      <th>wap_balance</th>\n      <th>price_spread</th>\n      <th>bid_spread</th>\n      <th>ask_spread</th>\n      <th>total_volume</th>\n      <th>volume_imbalance</th>\n    </tr>\n  </thead>\n  <tbody>\n    <tr>\n      <th>0</th>\n      <td>5</td>\n      <td>0</td>\n      <td>1.001422</td>\n      <td>1.002301</td>\n      <td>1.00137</td>\n      <td>1.002353</td>\n      <td>3</td>\n      <td>226</td>\n      <td>2</td>\n      <td>100</td>\n      <td>1.001434</td>\n      <td>NaN</td>\n      <td>1.001390</td>\n      <td>NaN</td>\n      <td>0.000044</td>\n      <td>0.000878</td>\n      <td>0.000052</td>\n      <td>-0.000052</td>\n      <td>331</td>\n      <td>321</td>\n    </tr>\n    <tr>\n      <th>1</th>\n      <td>5</td>\n      <td>1</td>\n      <td>1.001422</td>\n      <td>1.002301</td>\n      <td>1.00137</td>\n      <td>1.002353</td>\n      <td>3</td>\n      <td>100</td>\n      <td>2</td>\n      <td>100</td>\n      <td>1.001448</td>\n      <td>0.000014</td>\n      <td>1.001390</td>\n      <td>0.000000</td>\n      <td>0.000058</td>\n      <td>0.000878</td>\n      <td>0.000052</td>\n      <td>-0.000052</td>\n      <td>205</td>\n      <td>195</td>\n    </tr>\n    <tr>\n      <th>2</th>\n      <td>5</td>\n      <td>5</td>\n      <td>1.001422</td>\n      <td>1.002301</td>\n      <td>1.00137</td>\n      <td>1.002405</td>\n      <td>3</td>\n      <td>100</td>\n      <td>2</td>\n      <td>100</td>\n      <td>1.001448</td>\n      <td>0.000000</td>\n      <td>1.001391</td>\n      <td>0.000001</td>\n      <td>0.000057</td>\n      <td>0.000878</td>\n      <td>0.000052</td>\n      <td>-0.000103</td>\n      <td>205</td>\n      <td>195</td>\n    </tr>\n    <tr>\n      <th>3</th>\n      <td>5</td>\n      <td>6</td>\n      <td>1.001422</td>\n      <td>1.002301</td>\n      <td>1.00137</td>\n      <td>1.002405</td>\n      <td>3</td>\n      <td>126</td>\n      <td>2</td>\n      <td>100</td>\n      <td>1.001443</td>\n      <td>-0.000005</td>\n      <td>1.001391</td>\n      <td>0.000000</td>\n      <td>0.000052</td>\n      <td>0.000878</td>\n      <td>0.000052</td>\n      <td>-0.000103</td>\n      <td>231</td>\n      <td>221</td>\n    </tr>\n    <tr>\n      <th>4</th>\n      <td>5</td>\n      <td>7</td>\n      <td>1.001422</td>\n      <td>1.002301</td>\n      <td>1.00137</td>\n      <td>1.002405</td>\n      <td>3</td>\n      <td>126</td>\n      <td>2</td>\n      <td>100</td>\n      <td>1.001443</td>\n      <td>0.000000</td>\n      <td>1.001391</td>\n      <td>0.000000</td>\n      <td>0.000052</td>\n      <td>0.000878</td>\n      <td>0.000052</td>\n      <td>-0.000103</td>\n      <td>231</td>\n      <td>221</td>\n    </tr>\n  </tbody>\n</table>\n</div>"
     },
     "execution_count": 7,
     "metadata": {},
     "output_type": "execute_result"
    }
   ],
   "source": [
    "book_example['wap'] = calc_wap(book_example)\n",
    "book_example['log_return'] = book_example.groupby('time_id')['wap'].apply(log_return)\n",
    "\n",
    "book_example['wap2'] = calc_wap2(book_example)\n",
    "book_example['log_return2'] = book_example.groupby('time_id')['wap2'].apply(log_return)\n",
    "\n",
    "book_example['wap_balance'] = np.abs(book_example.wap - book_example.wap2)\n",
    "\n",
    "book_example['price_spread'] = (book_example['ask_price1']- book_example['bid_price1']) / ((book_example['ask_price1'] + book_example['bid_price1'])/2)\n",
    "book_example['bid_spread'] = book_example['bid_price1'] - book_example['bid_price2']\n",
    "book_example['ask_spread'] = book_example['ask_price1'] - book_example['ask_price2']\n",
    "book_example['total_volume'] = book_example['ask_size1'] + book_example['ask_size2'] + book_example['bid_size1'] + book_example['bid_size2']\n",
    "\n",
    "book_example['volume_imbalance'] = np.abs((book_example['ask_size1'] + book_example['ask_size2']) - (book_example['bid_size1'] + book_example['bid_size2']))\n",
    "\n",
    "book_example.head(5)\n"
   ]
  },
  {
   "cell_type": "code",
   "execution_count": 8,
   "metadata": {},
   "outputs": [],
   "source": [
    "feature_dict = {\n",
    "    'log_return' : [realized_volatility],\n",
    "    'log_return2' : [realized_volatility], \n",
    "    'wap_balance' : [np.mean], \n",
    "    'price_spread' : [np.mean], \n",
    "    'ask_spread' : [np.mean], \n",
    "    'bid_spread' : [np.mean], \n",
    "    'volume_imbalance': [np.mean], \n",
    "    'total_volume' : [np.mean], \n",
    "    'wap' : [np.mean]\n",
    "}"
   ]
  },
  {
   "cell_type": "code",
   "execution_count": 9,
   "metadata": {},
   "outputs": [],
   "source": [
    "df_feature = pd.DataFrame(book_example.groupby('time_id').agg(feature_dict)).reset_index()"
   ]
  },
  {
   "cell_type": "code",
   "execution_count": 10,
   "metadata": {},
   "outputs": [],
   "source": [
    "df_feature.columns = ['_'.join(col) for col in df_feature.columns]"
   ]
  },
  {
   "cell_type": "code",
   "execution_count": null,
   "outputs": [],
   "source": [],
   "metadata": {
    "collapsed": false,
    "pycharm": {
     "name": "#%%\n"
    }
   }
  },
  {
   "cell_type": "code",
   "execution_count": 11,
   "metadata": {
    "pycharm": {
     "name": "#%%\n"
    }
   },
   "outputs": [],
   "source": [
    "last_seconds = [300]\n",
    "\n",
    "for second in last_seconds:\n",
    "    second = 600 - second\n",
    "    df_feature_sec = book_example.query(f'seconds_in_bucket >= {second}').groupby('time_id').agg(feature_dict).reset_index()\n",
    "    df_feature_sec.columns = ['_'.join(col) for col in df_feature_sec.columns]\n",
    "    df_feature_sec = df_feature_sec.add_suffix('_' + str(second))\n",
    "    df_feature = pd.merge(df_feature, df_feature_sec, how='left', left_on='time_id_', right_on=f'time_id__{second}')\n",
    "    df_feature = df_feature.drop([f'time_id__{second}'], axis=1)\n",
    "\n",
    "\n"
   ]
  }
 ],
 "metadata": {
  "kernelspec": {
   "display_name": "Python 3",
   "language": "python",
   "name": "python3"
  },
  "language_info": {
   "codemirror_mode": {
    "name": "ipython",
    "version": 3
   },
   "file_extension": ".py",
   "mimetype": "text/x-python",
   "name": "python",
   "nbconvert_exporter": "python",
   "pygments_lexer": "ipython3",
   "version": "3.6.13"
  },
  "orig_nbformat": 4
 },
 "nbformat": 4,
 "nbformat_minor": 2
}