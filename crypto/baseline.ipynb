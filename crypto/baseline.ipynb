{
 "cells": [
  {
   "cell_type": "code",
   "execution_count": 1,
   "metadata": {},
   "outputs": [],
   "source": [
    "import os\n",
    "import pandas as pd\n",
    "import numpy as np\n",
    "import seaborn as sns\n",
    "import matplotlib.pyplot as plt\n",
    "%matplotlib inline"
   ]
  },
  {
   "cell_type": "code",
   "execution_count": 2,
   "metadata": {},
   "outputs": [],
   "source": [
    "data_dir = '/home/lzhao/data/tmp/crypto'"
   ]
  },
  {
   "cell_type": "code",
   "execution_count": 3,
   "metadata": {},
   "outputs": [],
   "source": [
    "origin_train_df = pd.read_csv(os.path.join(data_dir, 'train.csv'))\n",
    "supp_train_df = pd.read_csv(os.path.join(data_dir, 'supplemental_train.csv'))\n",
    "asset_details_df = pd.read_csv(os.path.join(data_dir, 'asset_details.csv'))"
   ]
  },
  {
   "cell_type": "code",
   "execution_count": 4,
   "metadata": {},
   "outputs": [
    {
     "data": {
      "text/html": [
       "<div>\n",
       "<style scoped>\n",
       "    .dataframe tbody tr th:only-of-type {\n",
       "        vertical-align: middle;\n",
       "    }\n",
       "\n",
       "    .dataframe tbody tr th {\n",
       "        vertical-align: top;\n",
       "    }\n",
       "\n",
       "    .dataframe thead th {\n",
       "        text-align: right;\n",
       "    }\n",
       "</style>\n",
       "<table border=\"1\" class=\"dataframe\">\n",
       "  <thead>\n",
       "    <tr style=\"text-align: right;\">\n",
       "      <th></th>\n",
       "      <th>timestamp</th>\n",
       "      <th>Asset_ID</th>\n",
       "      <th>Count</th>\n",
       "      <th>Open</th>\n",
       "      <th>High</th>\n",
       "      <th>Low</th>\n",
       "      <th>Close</th>\n",
       "      <th>Volume</th>\n",
       "      <th>VWAP</th>\n",
       "      <th>Target</th>\n",
       "    </tr>\n",
       "  </thead>\n",
       "  <tbody>\n",
       "    <tr>\n",
       "      <th>0</th>\n",
       "      <td>1514764860</td>\n",
       "      <td>2</td>\n",
       "      <td>40.0</td>\n",
       "      <td>2376.5800</td>\n",
       "      <td>2399.5000</td>\n",
       "      <td>2357.1400</td>\n",
       "      <td>2374.5900</td>\n",
       "      <td>19.233005</td>\n",
       "      <td>2373.116392</td>\n",
       "      <td>-0.004218</td>\n",
       "    </tr>\n",
       "    <tr>\n",
       "      <th>1</th>\n",
       "      <td>1514764860</td>\n",
       "      <td>0</td>\n",
       "      <td>5.0</td>\n",
       "      <td>8.5300</td>\n",
       "      <td>8.5300</td>\n",
       "      <td>8.5300</td>\n",
       "      <td>8.5300</td>\n",
       "      <td>78.380000</td>\n",
       "      <td>8.530000</td>\n",
       "      <td>-0.014399</td>\n",
       "    </tr>\n",
       "    <tr>\n",
       "      <th>2</th>\n",
       "      <td>1514764860</td>\n",
       "      <td>1</td>\n",
       "      <td>229.0</td>\n",
       "      <td>13835.1940</td>\n",
       "      <td>14013.8000</td>\n",
       "      <td>13666.1100</td>\n",
       "      <td>13850.1760</td>\n",
       "      <td>31.550062</td>\n",
       "      <td>13827.062093</td>\n",
       "      <td>-0.014643</td>\n",
       "    </tr>\n",
       "    <tr>\n",
       "      <th>3</th>\n",
       "      <td>1514764860</td>\n",
       "      <td>5</td>\n",
       "      <td>32.0</td>\n",
       "      <td>7.6596</td>\n",
       "      <td>7.6596</td>\n",
       "      <td>7.6567</td>\n",
       "      <td>7.6576</td>\n",
       "      <td>6626.713370</td>\n",
       "      <td>7.657713</td>\n",
       "      <td>-0.013922</td>\n",
       "    </tr>\n",
       "    <tr>\n",
       "      <th>4</th>\n",
       "      <td>1514764860</td>\n",
       "      <td>7</td>\n",
       "      <td>5.0</td>\n",
       "      <td>25.9200</td>\n",
       "      <td>25.9200</td>\n",
       "      <td>25.8740</td>\n",
       "      <td>25.8770</td>\n",
       "      <td>121.087310</td>\n",
       "      <td>25.891363</td>\n",
       "      <td>-0.008264</td>\n",
       "    </tr>\n",
       "  </tbody>\n",
       "</table>\n",
       "</div>"
      ],
      "text/plain": [
       "    timestamp  Asset_ID  Count        Open        High         Low  \\\n",
       "0  1514764860         2   40.0   2376.5800   2399.5000   2357.1400   \n",
       "1  1514764860         0    5.0      8.5300      8.5300      8.5300   \n",
       "2  1514764860         1  229.0  13835.1940  14013.8000  13666.1100   \n",
       "3  1514764860         5   32.0      7.6596      7.6596      7.6567   \n",
       "4  1514764860         7    5.0     25.9200     25.9200     25.8740   \n",
       "\n",
       "        Close       Volume          VWAP    Target  \n",
       "0   2374.5900    19.233005   2373.116392 -0.004218  \n",
       "1      8.5300    78.380000      8.530000 -0.014399  \n",
       "2  13850.1760    31.550062  13827.062093 -0.014643  \n",
       "3      7.6576  6626.713370      7.657713 -0.013922  \n",
       "4     25.8770   121.087310     25.891363 -0.008264  "
      ]
     },
     "execution_count": 4,
     "metadata": {},
     "output_type": "execute_result"
    }
   ],
   "source": [
    "origin_train_df.head(5)"
   ]
  },
  {
   "cell_type": "code",
   "execution_count": 5,
   "metadata": {},
   "outputs": [
    {
     "data": {
      "text/html": [
       "<div>\n",
       "<style scoped>\n",
       "    .dataframe tbody tr th:only-of-type {\n",
       "        vertical-align: middle;\n",
       "    }\n",
       "\n",
       "    .dataframe tbody tr th {\n",
       "        vertical-align: top;\n",
       "    }\n",
       "\n",
       "    .dataframe thead th {\n",
       "        text-align: right;\n",
       "    }\n",
       "</style>\n",
       "<table border=\"1\" class=\"dataframe\">\n",
       "  <thead>\n",
       "    <tr style=\"text-align: right;\">\n",
       "      <th></th>\n",
       "      <th>timestamp</th>\n",
       "      <th>Asset_ID</th>\n",
       "      <th>Count</th>\n",
       "      <th>Open</th>\n",
       "      <th>High</th>\n",
       "      <th>Low</th>\n",
       "      <th>Close</th>\n",
       "      <th>Volume</th>\n",
       "      <th>VWAP</th>\n",
       "      <th>Target</th>\n",
       "    </tr>\n",
       "  </thead>\n",
       "  <tbody>\n",
       "    <tr>\n",
       "      <th>0</th>\n",
       "      <td>1623542400</td>\n",
       "      <td>3</td>\n",
       "      <td>1201.0</td>\n",
       "      <td>1.478556</td>\n",
       "      <td>1.48603</td>\n",
       "      <td>1.47800</td>\n",
       "      <td>1.483681</td>\n",
       "      <td>654799.561103</td>\n",
       "      <td>1.481439</td>\n",
       "      <td>-0.002594</td>\n",
       "    </tr>\n",
       "    <tr>\n",
       "      <th>1</th>\n",
       "      <td>1623542400</td>\n",
       "      <td>2</td>\n",
       "      <td>1020.0</td>\n",
       "      <td>580.306667</td>\n",
       "      <td>583.89000</td>\n",
       "      <td>579.91000</td>\n",
       "      <td>582.276667</td>\n",
       "      <td>1227.988328</td>\n",
       "      <td>581.697038</td>\n",
       "      <td>-0.009143</td>\n",
       "    </tr>\n",
       "    <tr>\n",
       "      <th>2</th>\n",
       "      <td>1623542400</td>\n",
       "      <td>0</td>\n",
       "      <td>626.0</td>\n",
       "      <td>343.789500</td>\n",
       "      <td>345.10800</td>\n",
       "      <td>343.64000</td>\n",
       "      <td>344.598000</td>\n",
       "      <td>1718.832569</td>\n",
       "      <td>344.441729</td>\n",
       "      <td>-0.004525</td>\n",
       "    </tr>\n",
       "    <tr>\n",
       "      <th>3</th>\n",
       "      <td>1623542400</td>\n",
       "      <td>1</td>\n",
       "      <td>2888.0</td>\n",
       "      <td>35554.289632</td>\n",
       "      <td>35652.46465</td>\n",
       "      <td>35502.67000</td>\n",
       "      <td>35602.004286</td>\n",
       "      <td>163.811537</td>\n",
       "      <td>35583.469303</td>\n",
       "      <td>0.003096</td>\n",
       "    </tr>\n",
       "    <tr>\n",
       "      <th>4</th>\n",
       "      <td>1623542400</td>\n",
       "      <td>4</td>\n",
       "      <td>433.0</td>\n",
       "      <td>0.312167</td>\n",
       "      <td>0.31260</td>\n",
       "      <td>0.31192</td>\n",
       "      <td>0.312208</td>\n",
       "      <td>585577.410442</td>\n",
       "      <td>0.312154</td>\n",
       "      <td>0.001426</td>\n",
       "    </tr>\n",
       "  </tbody>\n",
       "</table>\n",
       "</div>"
      ],
      "text/plain": [
       "    timestamp  Asset_ID   Count          Open         High          Low  \\\n",
       "0  1623542400         3  1201.0      1.478556      1.48603      1.47800   \n",
       "1  1623542400         2  1020.0    580.306667    583.89000    579.91000   \n",
       "2  1623542400         0   626.0    343.789500    345.10800    343.64000   \n",
       "3  1623542400         1  2888.0  35554.289632  35652.46465  35502.67000   \n",
       "4  1623542400         4   433.0      0.312167      0.31260      0.31192   \n",
       "\n",
       "          Close         Volume          VWAP    Target  \n",
       "0      1.483681  654799.561103      1.481439 -0.002594  \n",
       "1    582.276667    1227.988328    581.697038 -0.009143  \n",
       "2    344.598000    1718.832569    344.441729 -0.004525  \n",
       "3  35602.004286     163.811537  35583.469303  0.003096  \n",
       "4      0.312208  585577.410442      0.312154  0.001426  "
      ]
     },
     "execution_count": 5,
     "metadata": {},
     "output_type": "execute_result"
    }
   ],
   "source": [
    "supp_train_df.head(5)"
   ]
  },
  {
   "cell_type": "code",
   "execution_count": 6,
   "metadata": {},
   "outputs": [],
   "source": [
    "train_df = pd.concat([origin_train_df, supp_train_df]).drop_duplicates()"
   ]
  },
  {
   "cell_type": "code",
   "execution_count": 7,
   "metadata": {},
   "outputs": [
    {
     "data": {
      "text/html": [
       "<div>\n",
       "<style scoped>\n",
       "    .dataframe tbody tr th:only-of-type {\n",
       "        vertical-align: middle;\n",
       "    }\n",
       "\n",
       "    .dataframe tbody tr th {\n",
       "        vertical-align: top;\n",
       "    }\n",
       "\n",
       "    .dataframe thead th {\n",
       "        text-align: right;\n",
       "    }\n",
       "</style>\n",
       "<table border=\"1\" class=\"dataframe\">\n",
       "  <thead>\n",
       "    <tr style=\"text-align: right;\">\n",
       "      <th></th>\n",
       "      <th>Asset_ID</th>\n",
       "      <th>Weight</th>\n",
       "      <th>Asset_Name</th>\n",
       "    </tr>\n",
       "  </thead>\n",
       "  <tbody>\n",
       "    <tr>\n",
       "      <th>0</th>\n",
       "      <td>2</td>\n",
       "      <td>2.397895</td>\n",
       "      <td>Bitcoin Cash</td>\n",
       "    </tr>\n",
       "    <tr>\n",
       "      <th>1</th>\n",
       "      <td>0</td>\n",
       "      <td>4.304065</td>\n",
       "      <td>Binance Coin</td>\n",
       "    </tr>\n",
       "  </tbody>\n",
       "</table>\n",
       "</div>"
      ],
      "text/plain": [
       "   Asset_ID    Weight    Asset_Name\n",
       "0         2  2.397895  Bitcoin Cash\n",
       "1         0  4.304065  Binance Coin"
      ]
     },
     "execution_count": 7,
     "metadata": {},
     "output_type": "execute_result"
    }
   ],
   "source": [
    "asset_details_df.head(2)"
   ]
  },
  {
   "cell_type": "code",
   "execution_count": 5,
   "metadata": {},
   "outputs": [
    {
     "data": {
      "text/plain": [
       "array([ 2,  0,  1,  5,  7,  6,  9, 11, 13, 12,  3,  8, 10,  4])"
      ]
     },
     "execution_count": 5,
     "metadata": {},
     "output_type": "execute_result"
    }
   ],
   "source": [
    "asset_details_df.Asset_ID.unique()"
   ]
  },
  {
   "cell_type": "markdown",
   "metadata": {},
   "source": [
    "# 2. Feature Engineering"
   ]
  },
  {
   "cell_type": "code",
   "execution_count": 14,
   "metadata": {},
   "outputs": [],
   "source": [
    "# Two features from the competition tutorial\n",
    "def upper_shadow(df): \n",
    "    return df['High'] - np.maximum(df['Close'], df['Open'])\n",
    "    \n",
    "def lower_shadow(df): \n",
    "    return np.minimum(df['Close'], df['Open']) - df['Low']"
   ]
  },
  {
   "cell_type": "code",
   "execution_count": 8,
   "metadata": {},
   "outputs": [],
   "source": [
    "train_df['date'] = pd.to_datetime(train_df.timestamp, unit='s')\n",
    "train_df = train_df.sort_values(by='date')"
   ]
  },
  {
   "cell_type": "code",
   "execution_count": 9,
   "metadata": {},
   "outputs": [],
   "source": [
    "groups, _ = pd.factorize(train_df.date.dt.year.astype(str) + '_'  \\\n",
    "    + train_df.date.dt.month.astype(str) + '_' \\\n",
    "    + train_df.date.dt.day.astype(str))\n",
    "\n",
    "train_df['groups'] = groups\n"
   ]
  },
  {
   "cell_type": "code",
   "execution_count": 12,
   "metadata": {},
   "outputs": [
    {
     "data": {
      "text/html": [
       "<div>\n",
       "<style scoped>\n",
       "    .dataframe tbody tr th:only-of-type {\n",
       "        vertical-align: middle;\n",
       "    }\n",
       "\n",
       "    .dataframe tbody tr th {\n",
       "        vertical-align: top;\n",
       "    }\n",
       "\n",
       "    .dataframe thead th {\n",
       "        text-align: right;\n",
       "    }\n",
       "</style>\n",
       "<table border=\"1\" class=\"dataframe\">\n",
       "  <thead>\n",
       "    <tr style=\"text-align: right;\">\n",
       "      <th></th>\n",
       "      <th>Asset_ID</th>\n",
       "      <th>Count</th>\n",
       "      <th>Open</th>\n",
       "      <th>High</th>\n",
       "      <th>Low</th>\n",
       "      <th>Close</th>\n",
       "      <th>Volume</th>\n",
       "      <th>VWAP</th>\n",
       "      <th>Target</th>\n",
       "      <th>groups</th>\n",
       "    </tr>\n",
       "  </thead>\n",
       "  <tbody>\n",
       "    <tr>\n",
       "      <th>0</th>\n",
       "      <td>2</td>\n",
       "      <td>40.0</td>\n",
       "      <td>2376.5800</td>\n",
       "      <td>2399.5000</td>\n",
       "      <td>2357.1400</td>\n",
       "      <td>2374.5900</td>\n",
       "      <td>19.233005</td>\n",
       "      <td>2373.116392</td>\n",
       "      <td>-0.004218</td>\n",
       "      <td>0</td>\n",
       "    </tr>\n",
       "    <tr>\n",
       "      <th>1</th>\n",
       "      <td>0</td>\n",
       "      <td>5.0</td>\n",
       "      <td>8.5300</td>\n",
       "      <td>8.5300</td>\n",
       "      <td>8.5300</td>\n",
       "      <td>8.5300</td>\n",
       "      <td>78.380000</td>\n",
       "      <td>8.530000</td>\n",
       "      <td>-0.014399</td>\n",
       "      <td>0</td>\n",
       "    </tr>\n",
       "    <tr>\n",
       "      <th>2</th>\n",
       "      <td>1</td>\n",
       "      <td>229.0</td>\n",
       "      <td>13835.1940</td>\n",
       "      <td>14013.8000</td>\n",
       "      <td>13666.1100</td>\n",
       "      <td>13850.1760</td>\n",
       "      <td>31.550062</td>\n",
       "      <td>13827.062093</td>\n",
       "      <td>-0.014643</td>\n",
       "      <td>0</td>\n",
       "    </tr>\n",
       "    <tr>\n",
       "      <th>3</th>\n",
       "      <td>5</td>\n",
       "      <td>32.0</td>\n",
       "      <td>7.6596</td>\n",
       "      <td>7.6596</td>\n",
       "      <td>7.6567</td>\n",
       "      <td>7.6576</td>\n",
       "      <td>6626.713370</td>\n",
       "      <td>7.657713</td>\n",
       "      <td>-0.013922</td>\n",
       "      <td>0</td>\n",
       "    </tr>\n",
       "    <tr>\n",
       "      <th>4</th>\n",
       "      <td>7</td>\n",
       "      <td>5.0</td>\n",
       "      <td>25.9200</td>\n",
       "      <td>25.9200</td>\n",
       "      <td>25.8740</td>\n",
       "      <td>25.8770</td>\n",
       "      <td>121.087310</td>\n",
       "      <td>25.891363</td>\n",
       "      <td>-0.008264</td>\n",
       "      <td>0</td>\n",
       "    </tr>\n",
       "  </tbody>\n",
       "</table>\n",
       "</div>"
      ],
      "text/plain": [
       "   Asset_ID  Count        Open        High         Low       Close  \\\n",
       "0         2   40.0   2376.5800   2399.5000   2357.1400   2374.5900   \n",
       "1         0    5.0      8.5300      8.5300      8.5300      8.5300   \n",
       "2         1  229.0  13835.1940  14013.8000  13666.1100  13850.1760   \n",
       "3         5   32.0      7.6596      7.6596      7.6567      7.6576   \n",
       "4         7    5.0     25.9200     25.9200     25.8740     25.8770   \n",
       "\n",
       "        Volume          VWAP    Target  groups  \n",
       "0    19.233005   2373.116392 -0.004218       0  \n",
       "1    78.380000      8.530000 -0.014399       0  \n",
       "2    31.550062  13827.062093 -0.014643       0  \n",
       "3  6626.713370      7.657713 -0.013922       0  \n",
       "4   121.087310     25.891363 -0.008264       0  "
      ]
     },
     "execution_count": 12,
     "metadata": {},
     "output_type": "execute_result"
    }
   ],
   "source": [
    "train_df.head(5)"
   ]
  },
  {
   "cell_type": "code",
   "execution_count": 11,
   "metadata": {},
   "outputs": [],
   "source": [
    "train_df.drop(columns=['timestamp', 'date'], inplace=True)"
   ]
  },
  {
   "cell_type": "code",
   "execution_count": 15,
   "metadata": {},
   "outputs": [],
   "source": [
    "train_df['upper_Shadow'] = upper_shadow(train_df)\n",
    "train_df['lower_Shadow'] = lower_shadow(train_df)\n",
    "train_df[\"high_div_low\"] = train_df[\"High\"] / train_df[\"Low\"]\n",
    "train_df[\"open_sub_close\"] = train_df[\"Open\"] - train_df[\"Close\"]"
   ]
  },
  {
   "cell_type": "code",
   "execution_count": 16,
   "metadata": {},
   "outputs": [],
   "source": [
    "# 填充空值 以及 极值\n",
    "train_df = train_df.fillna(0)\n",
    "train_df = train_df.replace([np.inf, -np.inf], 0)"
   ]
  },
  {
   "cell_type": "code",
   "execution_count": 22,
   "metadata": {},
   "outputs": [
    {
     "data": {
      "text/html": [
       "<div>\n",
       "<style scoped>\n",
       "    .dataframe tbody tr th:only-of-type {\n",
       "        vertical-align: middle;\n",
       "    }\n",
       "\n",
       "    .dataframe tbody tr th {\n",
       "        vertical-align: top;\n",
       "    }\n",
       "\n",
       "    .dataframe thead th {\n",
       "        text-align: right;\n",
       "    }\n",
       "</style>\n",
       "<table border=\"1\" class=\"dataframe\">\n",
       "  <thead>\n",
       "    <tr style=\"text-align: right;\">\n",
       "      <th></th>\n",
       "      <th>Asset_ID</th>\n",
       "      <th>Count</th>\n",
       "      <th>Open</th>\n",
       "      <th>High</th>\n",
       "      <th>Low</th>\n",
       "      <th>Close</th>\n",
       "      <th>Volume</th>\n",
       "      <th>VWAP</th>\n",
       "      <th>Target</th>\n",
       "      <th>groups</th>\n",
       "      <th>upper_Shadow</th>\n",
       "      <th>lower_Shadow</th>\n",
       "      <th>high_div_low</th>\n",
       "      <th>open_sub_close</th>\n",
       "    </tr>\n",
       "  </thead>\n",
       "  <tbody>\n",
       "    <tr>\n",
       "      <th>0</th>\n",
       "      <td>2</td>\n",
       "      <td>40.0</td>\n",
       "      <td>2376.5800</td>\n",
       "      <td>2399.5000</td>\n",
       "      <td>2357.1400</td>\n",
       "      <td>2374.5900</td>\n",
       "      <td>19.233005</td>\n",
       "      <td>2373.116392</td>\n",
       "      <td>-0.004218</td>\n",
       "      <td>0</td>\n",
       "      <td>22.920</td>\n",
       "      <td>17.4500</td>\n",
       "      <td>1.017971</td>\n",
       "      <td>1.990</td>\n",
       "    </tr>\n",
       "    <tr>\n",
       "      <th>1</th>\n",
       "      <td>0</td>\n",
       "      <td>5.0</td>\n",
       "      <td>8.5300</td>\n",
       "      <td>8.5300</td>\n",
       "      <td>8.5300</td>\n",
       "      <td>8.5300</td>\n",
       "      <td>78.380000</td>\n",
       "      <td>8.530000</td>\n",
       "      <td>-0.014399</td>\n",
       "      <td>0</td>\n",
       "      <td>0.000</td>\n",
       "      <td>0.0000</td>\n",
       "      <td>1.000000</td>\n",
       "      <td>0.000</td>\n",
       "    </tr>\n",
       "    <tr>\n",
       "      <th>2</th>\n",
       "      <td>1</td>\n",
       "      <td>229.0</td>\n",
       "      <td>13835.1940</td>\n",
       "      <td>14013.8000</td>\n",
       "      <td>13666.1100</td>\n",
       "      <td>13850.1760</td>\n",
       "      <td>31.550062</td>\n",
       "      <td>13827.062093</td>\n",
       "      <td>-0.014643</td>\n",
       "      <td>0</td>\n",
       "      <td>163.624</td>\n",
       "      <td>169.0840</td>\n",
       "      <td>1.025442</td>\n",
       "      <td>-14.982</td>\n",
       "    </tr>\n",
       "    <tr>\n",
       "      <th>3</th>\n",
       "      <td>5</td>\n",
       "      <td>32.0</td>\n",
       "      <td>7.6596</td>\n",
       "      <td>7.6596</td>\n",
       "      <td>7.6567</td>\n",
       "      <td>7.6576</td>\n",
       "      <td>6626.713370</td>\n",
       "      <td>7.657713</td>\n",
       "      <td>-0.013922</td>\n",
       "      <td>0</td>\n",
       "      <td>0.000</td>\n",
       "      <td>0.0009</td>\n",
       "      <td>1.000379</td>\n",
       "      <td>0.002</td>\n",
       "    </tr>\n",
       "    <tr>\n",
       "      <th>4</th>\n",
       "      <td>7</td>\n",
       "      <td>5.0</td>\n",
       "      <td>25.9200</td>\n",
       "      <td>25.9200</td>\n",
       "      <td>25.8740</td>\n",
       "      <td>25.8770</td>\n",
       "      <td>121.087310</td>\n",
       "      <td>25.891363</td>\n",
       "      <td>-0.008264</td>\n",
       "      <td>0</td>\n",
       "      <td>0.000</td>\n",
       "      <td>0.0030</td>\n",
       "      <td>1.001778</td>\n",
       "      <td>0.043</td>\n",
       "    </tr>\n",
       "  </tbody>\n",
       "</table>\n",
       "</div>"
      ],
      "text/plain": [
       "   Asset_ID  Count        Open        High         Low       Close  \\\n",
       "0         2   40.0   2376.5800   2399.5000   2357.1400   2374.5900   \n",
       "1         0    5.0      8.5300      8.5300      8.5300      8.5300   \n",
       "2         1  229.0  13835.1940  14013.8000  13666.1100  13850.1760   \n",
       "3         5   32.0      7.6596      7.6596      7.6567      7.6576   \n",
       "4         7    5.0     25.9200     25.9200     25.8740     25.8770   \n",
       "\n",
       "        Volume          VWAP    Target  groups  upper_Shadow  lower_Shadow  \\\n",
       "0    19.233005   2373.116392 -0.004218       0        22.920       17.4500   \n",
       "1    78.380000      8.530000 -0.014399       0         0.000        0.0000   \n",
       "2    31.550062  13827.062093 -0.014643       0       163.624      169.0840   \n",
       "3  6626.713370      7.657713 -0.013922       0         0.000        0.0009   \n",
       "4   121.087310     25.891363 -0.008264       0         0.000        0.0030   \n",
       "\n",
       "   high_div_low  open_sub_close  \n",
       "0      1.017971           1.990  \n",
       "1      1.000000           0.000  \n",
       "2      1.025442         -14.982  \n",
       "3      1.000379           0.002  \n",
       "4      1.001778           0.043  "
      ]
     },
     "execution_count": 22,
     "metadata": {},
     "output_type": "execute_result"
    }
   ],
   "source": [
    "train_df.head(5)"
   ]
  },
  {
   "cell_type": "markdown",
   "metadata": {},
   "source": [
    "# 3. Train"
   ]
  },
  {
   "cell_type": "code",
   "execution_count": 23,
   "metadata": {},
   "outputs": [],
   "source": [
    "feature_names = [i for i in train_df.columns if i not in ['Target', 'date', 'timestamp', 'VWAP', 'Asset_ID', 'groups']]"
   ]
  },
  {
   "cell_type": "code",
   "execution_count": 28,
   "metadata": {},
   "outputs": [],
   "source": [
    "import numpy as np\n",
    "from sklearn.pipeline import Pipeline\n",
    "from sklearn.impute import SimpleImputer\n",
    "from sklearn.preprocessing import StandardScaler\n",
    "from sklearn.model_selection import GridSearchCV\n",
    "from sklearn.metrics import roc_auc_score, mean_absolute_error\n",
    "from sklearn.model_selection import KFold\n",
    "from sklearn.utils.validation import _deprecate_positional_args\n",
    "from sklearn.model_selection._split import _BaseKFold, indexable, _num_samples\n",
    "from lightgbm import LGBMRegressor\n",
    "import optuna\n"
   ]
  },
  {
   "cell_type": "code",
   "execution_count": 25,
   "metadata": {},
   "outputs": [],
   "source": [
    "class PurgedGroupTimeSeriesSplit(_BaseKFold):\n",
    "    @_deprecate_positional_args\n",
    "    def __init__(self,\n",
    "                 n_splits=5,\n",
    "                 *,\n",
    "                 max_train_group_size=np.inf,\n",
    "                 max_test_group_size=np.inf,\n",
    "                 group_gap=None,\n",
    "                 verbose=False\n",
    "                 ):\n",
    "        super().__init__(n_splits, shuffle=False, random_state=None)\n",
    "        self.max_train_group_size = max_train_group_size\n",
    "        self.group_gap = group_gap\n",
    "        self.max_test_group_size = max_test_group_size\n",
    "        self.verbose = verbose\n",
    "\n",
    "    def split(self, X, y=None, groups=None):\n",
    "        if groups is None:\n",
    "            raise ValueError(\n",
    "                \"The 'groups' parameter should not be None\")\n",
    "        X, y, groups = indexable(X, y, groups)\n",
    "        n_samples = _num_samples(X)\n",
    "        n_splits = self.n_splits\n",
    "        group_gap = self.group_gap\n",
    "        max_test_group_size = self.max_test_group_size\n",
    "        max_train_group_size = self.max_train_group_size\n",
    "        n_folds = n_splits + 1\n",
    "        group_dict = {}\n",
    "        u, ind = np.unique(groups, return_index=True)\n",
    "        unique_groups = u[np.argsort(ind)]\n",
    "        n_samples = _num_samples(X)\n",
    "        n_groups = _num_samples(unique_groups)\n",
    "        for idx in np.arange(n_samples):\n",
    "            if (groups[idx] in group_dict):\n",
    "                group_dict[groups[idx]].append(idx)\n",
    "            else:\n",
    "                group_dict[groups[idx]] = [idx]\n",
    "        if n_folds > n_groups:\n",
    "            raise ValueError(\n",
    "                (\"Cannot have number of folds={0} greater than\"\n",
    "                 \" the number of groups={1}\").format(n_folds,\n",
    "                                                     n_groups))\n",
    "\n",
    "        group_test_size = min(n_groups // n_folds, max_test_group_size)\n",
    "        group_test_starts = range(n_groups - n_splits * group_test_size,\n",
    "                                  n_groups, group_test_size)\n",
    "        for group_test_start in group_test_starts:\n",
    "            train_array = []\n",
    "            test_array = []\n",
    "\n",
    "            group_st = max(0, group_test_start - group_gap - max_train_group_size)\n",
    "            for train_group_idx in unique_groups[group_st:(group_test_start - group_gap)]:\n",
    "                train_array_tmp = group_dict[train_group_idx]\n",
    "                \n",
    "                train_array = np.sort(np.unique(\n",
    "                                      np.concatenate((train_array,\n",
    "                                                      train_array_tmp)),\n",
    "                                      axis=None), axis=None)\n",
    "\n",
    "            train_end = train_array.size\n",
    " \n",
    "            for test_group_idx in unique_groups[group_test_start:\n",
    "                                                group_test_start +\n",
    "                                                group_test_size]:\n",
    "                test_array_tmp = group_dict[test_group_idx]\n",
    "                test_array = np.sort(np.unique(\n",
    "                                              np.concatenate((test_array,\n",
    "                                                              test_array_tmp)),\n",
    "                                     axis=None), axis=None)\n",
    "\n",
    "            test_array  = test_array[group_gap:]\n",
    "            \n",
    "            \n",
    "            if self.verbose > 0:\n",
    "                    pass\n",
    "                    \n",
    "            yield [int(i) for i in train_array], [int(i) for i in test_array]"
   ]
  },
  {
   "cell_type": "code",
   "execution_count": 26,
   "metadata": {},
   "outputs": [],
   "source": [
    "y_labels = train_df['Target'].values\n",
    "X_train = train_df[feature_names].values\n",
    "groups = train_df['groups'].values"
   ]
  },
  {
   "cell_type": "code",
   "execution_count": 27,
   "metadata": {},
   "outputs": [],
   "source": [
    "cv = PurgedGroupTimeSeriesSplit(\n",
    "    n_splits = 3,\n",
    "    max_train_group_size = 50, \n",
    "    group_gap = 20, \n",
    "    max_test_group_size=60\n",
    ")"
   ]
  },
  {
   "cell_type": "code",
   "execution_count": 29,
   "metadata": {},
   "outputs": [],
   "source": [
    "def objective(trial, cv=cv, cv_fold_func=np.average):\n",
    "\n",
    "    # Optuna suggest params\n",
    "    param_lgb = {\n",
    "        \"verbosity\": -1,\n",
    "        \"boosting_type\": \"gbdt\",\n",
    "        \"lambda_l1\": trial.suggest_float(\"lambda_l1\", 1e-8, 10.0, log=True),\n",
    "        \"lambda_l2\": trial.suggest_float(\"lambda_l2\", 1e-8, 10.0, log=True),\n",
    "        \"num_leaves\": trial.suggest_int(\"num_leaves\", 2, 256),\n",
    "        \"feature_fraction\": trial.suggest_float(\"feature_fraction\", 0.4, 1.0),\n",
    "        \"bagging_fraction\": trial.suggest_float(\"bagging_fraction\", 0.4, 1.0),\n",
    "        \"bagging_freq\": trial.suggest_int(\"bagging_freq\", 1, 7),\n",
    "        \"min_child_samples\": trial.suggest_int(\"min_child_samples\", 5, 100),\n",
    "    }    \n",
    "    # setup the pieline\n",
    "    imp_mean = SimpleImputer(missing_values=np.nan, strategy='mean')\n",
    "    scaler = StandardScaler()\n",
    "    \n",
    "    clf = LGBMRegressor(**param_lgb)\n",
    "\n",
    "    pipe = Pipeline(steps=[\n",
    "        ('imputer', imp_mean),\n",
    "        ('scaler', scaler),\n",
    "        ('catb', clf)\n",
    "    ])\n",
    "\n",
    "    # fit for all folds and return composite MAE score\n",
    "    maes = []\n",
    "    for i, (train_idx, valid_idx) in enumerate(cv.split(\n",
    "        X_train,\n",
    "        y_labels,\n",
    "        groups=groups)):\n",
    "        \n",
    "        #train_data = X_train[train_idx, :], y_labels[train_idx]\n",
    "        #valid_data = X_train[valid_idx, :], y_labels[valid_idx]\n",
    "        \n",
    "        _ = pipe.fit(X_train[train_idx, :], y_labels[train_idx])\n",
    "        preds = pipe.predict(X_train[valid_idx, :])\n",
    "        mae = mean_absolute_error(y_labels[valid_idx], preds)\n",
    "        maes.append(mae)\n",
    "    \n",
    "    print(f'Trial done: mae values on folds: {maes}')\n",
    "    return -1.0 * cv_fold_func(maes)"
   ]
  },
  {
   "cell_type": "code",
   "execution_count": 30,
   "metadata": {},
   "outputs": [
    {
     "name": "stderr",
     "output_type": "stream",
     "text": [
      "\u001b[32m[I 2021-11-24 00:36:07,255]\u001b[0m A new study created in memory with name: no-name-db08749b-2748-4072-aec2-3133c4fccef3\u001b[0m\n"
     ]
    },
    {
     "name": "stdout",
     "output_type": "stream",
     "text": [
      "[LightGBM] [Warning] bagging_fraction is set=0.9303019260823465, subsample=1.0 will be ignored. Current value: bagging_fraction=0.9303019260823465\n",
      "[LightGBM] [Warning] lambda_l2 is set=1.2861876229819642e-07, reg_lambda=0.0 will be ignored. Current value: lambda_l2=1.2861876229819642e-07\n",
      "[LightGBM] [Warning] lambda_l1 is set=9.009247939993385e-08, reg_alpha=0.0 will be ignored. Current value: lambda_l1=9.009247939993385e-08\n",
      "[LightGBM] [Warning] bagging_freq is set=1, subsample_freq=0 will be ignored. Current value: bagging_freq=1\n",
      "[LightGBM] [Warning] feature_fraction is set=0.743514710219249, colsample_bytree=1.0 will be ignored. Current value: feature_fraction=0.743514710219249\n",
      "[LightGBM] [Warning] bagging_fraction is set=0.9303019260823465, subsample=1.0 will be ignored. Current value: bagging_fraction=0.9303019260823465\n",
      "[LightGBM] [Warning] lambda_l2 is set=1.2861876229819642e-07, reg_lambda=0.0 will be ignored. Current value: lambda_l2=1.2861876229819642e-07\n",
      "[LightGBM] [Warning] lambda_l1 is set=9.009247939993385e-08, reg_alpha=0.0 will be ignored. Current value: lambda_l1=9.009247939993385e-08\n",
      "[LightGBM] [Warning] bagging_freq is set=1, subsample_freq=0 will be ignored. Current value: bagging_freq=1\n",
      "[LightGBM] [Warning] feature_fraction is set=0.743514710219249, colsample_bytree=1.0 will be ignored. Current value: feature_fraction=0.743514710219249\n",
      "[LightGBM] [Warning] bagging_fraction is set=0.9303019260823465, subsample=1.0 will be ignored. Current value: bagging_fraction=0.9303019260823465\n",
      "[LightGBM] [Warning] lambda_l2 is set=1.2861876229819642e-07, reg_lambda=0.0 will be ignored. Current value: lambda_l2=1.2861876229819642e-07\n",
      "[LightGBM] [Warning] lambda_l1 is set=9.009247939993385e-08, reg_alpha=0.0 will be ignored. Current value: lambda_l1=9.009247939993385e-08\n",
      "[LightGBM] [Warning] bagging_freq is set=1, subsample_freq=0 will be ignored. Current value: bagging_freq=1\n",
      "[LightGBM] [Warning] feature_fraction is set=0.743514710219249, colsample_bytree=1.0 will be ignored. Current value: feature_fraction=0.743514710219249\n"
     ]
    },
    {
     "name": "stderr",
     "output_type": "stream",
     "text": [
      "\u001b[32m[I 2021-11-24 00:36:49,458]\u001b[0m Trial 0 finished with value: -0.003037007206310564 and parameters: {'lambda_l1': 9.009247939993385e-08, 'lambda_l2': 1.2861876229819642e-07, 'num_leaves': 207, 'feature_fraction': 0.743514710219249, 'bagging_fraction': 0.9303019260823465, 'bagging_freq': 1, 'min_child_samples': 88}. Best is trial 0 with value: -0.003037007206310564.\u001b[0m\n"
     ]
    },
    {
     "name": "stdout",
     "output_type": "stream",
     "text": [
      "Trial done: mae values on folds: [0.004315756655382553, 0.002600596657601222, 0.002194668305947917]\n",
      "[LightGBM] [Warning] bagging_fraction is set=0.7492805852488086, subsample=1.0 will be ignored. Current value: bagging_fraction=0.7492805852488086\n",
      "[LightGBM] [Warning] lambda_l2 is set=0.00036533446366190215, reg_lambda=0.0 will be ignored. Current value: lambda_l2=0.00036533446366190215\n",
      "[LightGBM] [Warning] lambda_l1 is set=0.05348738972818243, reg_alpha=0.0 will be ignored. Current value: lambda_l1=0.05348738972818243\n",
      "[LightGBM] [Warning] bagging_freq is set=6, subsample_freq=0 will be ignored. Current value: bagging_freq=6\n",
      "[LightGBM] [Warning] feature_fraction is set=0.5461218651520628, colsample_bytree=1.0 will be ignored. Current value: feature_fraction=0.5461218651520628\n",
      "[LightGBM] [Warning] bagging_fraction is set=0.7492805852488086, subsample=1.0 will be ignored. Current value: bagging_fraction=0.7492805852488086\n",
      "[LightGBM] [Warning] lambda_l2 is set=0.00036533446366190215, reg_lambda=0.0 will be ignored. Current value: lambda_l2=0.00036533446366190215\n",
      "[LightGBM] [Warning] lambda_l1 is set=0.05348738972818243, reg_alpha=0.0 will be ignored. Current value: lambda_l1=0.05348738972818243\n",
      "[LightGBM] [Warning] bagging_freq is set=6, subsample_freq=0 will be ignored. Current value: bagging_freq=6\n",
      "[LightGBM] [Warning] feature_fraction is set=0.5461218651520628, colsample_bytree=1.0 will be ignored. Current value: feature_fraction=0.5461218651520628\n",
      "[LightGBM] [Warning] bagging_fraction is set=0.7492805852488086, subsample=1.0 will be ignored. Current value: bagging_fraction=0.7492805852488086\n",
      "[LightGBM] [Warning] lambda_l2 is set=0.00036533446366190215, reg_lambda=0.0 will be ignored. Current value: lambda_l2=0.00036533446366190215\n",
      "[LightGBM] [Warning] lambda_l1 is set=0.05348738972818243, reg_alpha=0.0 will be ignored. Current value: lambda_l1=0.05348738972818243\n",
      "[LightGBM] [Warning] bagging_freq is set=6, subsample_freq=0 will be ignored. Current value: bagging_freq=6\n",
      "[LightGBM] [Warning] feature_fraction is set=0.5461218651520628, colsample_bytree=1.0 will be ignored. Current value: feature_fraction=0.5461218651520628\n"
     ]
    },
    {
     "name": "stderr",
     "output_type": "stream",
     "text": [
      "\u001b[32m[I 2021-11-24 00:37:18,905]\u001b[0m Trial 1 finished with value: -0.0029940090119364303 and parameters: {'lambda_l1': 0.05348738972818243, 'lambda_l2': 0.00036533446366190215, 'num_leaves': 35, 'feature_fraction': 0.5461218651520628, 'bagging_fraction': 0.7492805852488086, 'bagging_freq': 6, 'min_child_samples': 64}. Best is trial 1 with value: -0.0029940090119364303.\u001b[0m\n"
     ]
    },
    {
     "name": "stdout",
     "output_type": "stream",
     "text": [
      "Trial done: mae values on folds: [0.004231405868217706, 0.002581816361198509, 0.0021688048063930776]\n",
      "[LightGBM] [Warning] bagging_fraction is set=0.9759155655576298, subsample=1.0 will be ignored. Current value: bagging_fraction=0.9759155655576298\n",
      "[LightGBM] [Warning] lambda_l2 is set=0.21817314615906883, reg_lambda=0.0 will be ignored. Current value: lambda_l2=0.21817314615906883\n",
      "[LightGBM] [Warning] lambda_l1 is set=0.008971847000317744, reg_alpha=0.0 will be ignored. Current value: lambda_l1=0.008971847000317744\n",
      "[LightGBM] [Warning] bagging_freq is set=2, subsample_freq=0 will be ignored. Current value: bagging_freq=2\n",
      "[LightGBM] [Warning] feature_fraction is set=0.9533070361684083, colsample_bytree=1.0 will be ignored. Current value: feature_fraction=0.9533070361684083\n",
      "[LightGBM] [Warning] bagging_fraction is set=0.9759155655576298, subsample=1.0 will be ignored. Current value: bagging_fraction=0.9759155655576298\n",
      "[LightGBM] [Warning] lambda_l2 is set=0.21817314615906883, reg_lambda=0.0 will be ignored. Current value: lambda_l2=0.21817314615906883\n",
      "[LightGBM] [Warning] lambda_l1 is set=0.008971847000317744, reg_alpha=0.0 will be ignored. Current value: lambda_l1=0.008971847000317744\n",
      "[LightGBM] [Warning] bagging_freq is set=2, subsample_freq=0 will be ignored. Current value: bagging_freq=2\n",
      "[LightGBM] [Warning] feature_fraction is set=0.9533070361684083, colsample_bytree=1.0 will be ignored. Current value: feature_fraction=0.9533070361684083\n",
      "[LightGBM] [Warning] bagging_fraction is set=0.9759155655576298, subsample=1.0 will be ignored. Current value: bagging_fraction=0.9759155655576298\n",
      "[LightGBM] [Warning] lambda_l2 is set=0.21817314615906883, reg_lambda=0.0 will be ignored. Current value: lambda_l2=0.21817314615906883\n",
      "[LightGBM] [Warning] lambda_l1 is set=0.008971847000317744, reg_alpha=0.0 will be ignored. Current value: lambda_l1=0.008971847000317744\n",
      "[LightGBM] [Warning] bagging_freq is set=2, subsample_freq=0 will be ignored. Current value: bagging_freq=2\n",
      "[LightGBM] [Warning] feature_fraction is set=0.9533070361684083, colsample_bytree=1.0 will be ignored. Current value: feature_fraction=0.9533070361684083\n"
     ]
    },
    {
     "name": "stderr",
     "output_type": "stream",
     "text": [
      "\u001b[32m[I 2021-11-24 00:37:58,097]\u001b[0m Trial 2 finished with value: -0.003034851574377119 and parameters: {'lambda_l1': 0.008971847000317744, 'lambda_l2': 0.21817314615906883, 'num_leaves': 133, 'feature_fraction': 0.9533070361684083, 'bagging_fraction': 0.9759155655576298, 'bagging_freq': 2, 'min_child_samples': 77}. Best is trial 1 with value: -0.0029940090119364303.\u001b[0m\n"
     ]
    },
    {
     "name": "stdout",
     "output_type": "stream",
     "text": [
      "Trial done: mae values on folds: [0.0043109185693495115, 0.002600901607871168, 0.0021927345459106778]\n",
      "[LightGBM] [Warning] bagging_fraction is set=0.7486915511902776, subsample=1.0 will be ignored. Current value: bagging_fraction=0.7486915511902776\n",
      "[LightGBM] [Warning] lambda_l2 is set=4.4640947582471425e-05, reg_lambda=0.0 will be ignored. Current value: lambda_l2=4.4640947582471425e-05\n",
      "[LightGBM] [Warning] lambda_l1 is set=0.011368055591910923, reg_alpha=0.0 will be ignored. Current value: lambda_l1=0.011368055591910923\n",
      "[LightGBM] [Warning] bagging_freq is set=4, subsample_freq=0 will be ignored. Current value: bagging_freq=4\n",
      "[LightGBM] [Warning] feature_fraction is set=0.5576171130731594, colsample_bytree=1.0 will be ignored. Current value: feature_fraction=0.5576171130731594\n",
      "[LightGBM] [Warning] bagging_fraction is set=0.7486915511902776, subsample=1.0 will be ignored. Current value: bagging_fraction=0.7486915511902776\n",
      "[LightGBM] [Warning] lambda_l2 is set=4.4640947582471425e-05, reg_lambda=0.0 will be ignored. Current value: lambda_l2=4.4640947582471425e-05\n",
      "[LightGBM] [Warning] lambda_l1 is set=0.011368055591910923, reg_alpha=0.0 will be ignored. Current value: lambda_l1=0.011368055591910923\n",
      "[LightGBM] [Warning] bagging_freq is set=4, subsample_freq=0 will be ignored. Current value: bagging_freq=4\n",
      "[LightGBM] [Warning] feature_fraction is set=0.5576171130731594, colsample_bytree=1.0 will be ignored. Current value: feature_fraction=0.5576171130731594\n",
      "[LightGBM] [Warning] bagging_fraction is set=0.7486915511902776, subsample=1.0 will be ignored. Current value: bagging_fraction=0.7486915511902776\n",
      "[LightGBM] [Warning] lambda_l2 is set=4.4640947582471425e-05, reg_lambda=0.0 will be ignored. Current value: lambda_l2=4.4640947582471425e-05\n",
      "[LightGBM] [Warning] lambda_l1 is set=0.011368055591910923, reg_alpha=0.0 will be ignored. Current value: lambda_l1=0.011368055591910923\n",
      "[LightGBM] [Warning] bagging_freq is set=4, subsample_freq=0 will be ignored. Current value: bagging_freq=4\n",
      "[LightGBM] [Warning] feature_fraction is set=0.5576171130731594, colsample_bytree=1.0 will be ignored. Current value: feature_fraction=0.5576171130731594\n"
     ]
    },
    {
     "name": "stderr",
     "output_type": "stream",
     "text": [
      "\u001b[32m[I 2021-11-24 00:38:33,484]\u001b[0m Trial 3 finished with value: -0.003015938488417079 and parameters: {'lambda_l1': 0.011368055591910923, 'lambda_l2': 4.4640947582471425e-05, 'num_leaves': 112, 'feature_fraction': 0.5576171130731594, 'bagging_fraction': 0.7486915511902776, 'bagging_freq': 4, 'min_child_samples': 64}. Best is trial 1 with value: -0.0029940090119364303.\u001b[0m\n"
     ]
    },
    {
     "name": "stdout",
     "output_type": "stream",
     "text": [
      "Trial done: mae values on folds: [0.004276711225144495, 0.0025843714914415483, 0.0021867327486651943]\n",
      "[LightGBM] [Warning] bagging_fraction is set=0.43388263766890217, subsample=1.0 will be ignored. Current value: bagging_fraction=0.43388263766890217\n",
      "[LightGBM] [Warning] lambda_l2 is set=1.0476555086706357e-05, reg_lambda=0.0 will be ignored. Current value: lambda_l2=1.0476555086706357e-05\n",
      "[LightGBM] [Warning] lambda_l1 is set=6.869267157112417e-08, reg_alpha=0.0 will be ignored. Current value: lambda_l1=6.869267157112417e-08\n",
      "[LightGBM] [Warning] bagging_freq is set=6, subsample_freq=0 will be ignored. Current value: bagging_freq=6\n",
      "[LightGBM] [Warning] feature_fraction is set=0.6702320233687, colsample_bytree=1.0 will be ignored. Current value: feature_fraction=0.6702320233687\n",
      "[LightGBM] [Warning] bagging_fraction is set=0.43388263766890217, subsample=1.0 will be ignored. Current value: bagging_fraction=0.43388263766890217\n",
      "[LightGBM] [Warning] lambda_l2 is set=1.0476555086706357e-05, reg_lambda=0.0 will be ignored. Current value: lambda_l2=1.0476555086706357e-05\n",
      "[LightGBM] [Warning] lambda_l1 is set=6.869267157112417e-08, reg_alpha=0.0 will be ignored. Current value: lambda_l1=6.869267157112417e-08\n",
      "[LightGBM] [Warning] bagging_freq is set=6, subsample_freq=0 will be ignored. Current value: bagging_freq=6\n",
      "[LightGBM] [Warning] feature_fraction is set=0.6702320233687, colsample_bytree=1.0 will be ignored. Current value: feature_fraction=0.6702320233687\n",
      "[LightGBM] [Warning] bagging_fraction is set=0.43388263766890217, subsample=1.0 will be ignored. Current value: bagging_fraction=0.43388263766890217\n",
      "[LightGBM] [Warning] lambda_l2 is set=1.0476555086706357e-05, reg_lambda=0.0 will be ignored. Current value: lambda_l2=1.0476555086706357e-05\n",
      "[LightGBM] [Warning] lambda_l1 is set=6.869267157112417e-08, reg_alpha=0.0 will be ignored. Current value: lambda_l1=6.869267157112417e-08\n",
      "[LightGBM] [Warning] bagging_freq is set=6, subsample_freq=0 will be ignored. Current value: bagging_freq=6\n",
      "[LightGBM] [Warning] feature_fraction is set=0.6702320233687, colsample_bytree=1.0 will be ignored. Current value: feature_fraction=0.6702320233687\n"
     ]
    },
    {
     "name": "stderr",
     "output_type": "stream",
     "text": [
      "\u001b[32m[I 2021-11-24 00:39:12,869]\u001b[0m Trial 4 finished with value: -0.00305777794366434 and parameters: {'lambda_l1': 6.869267157112417e-08, 'lambda_l2': 1.0476555086706357e-05, 'num_leaves': 256, 'feature_fraction': 0.6702320233687, 'bagging_fraction': 0.43388263766890217, 'bagging_freq': 6, 'min_child_samples': 39}. Best is trial 1 with value: -0.0029940090119364303.\u001b[0m\n"
     ]
    },
    {
     "name": "stdout",
     "output_type": "stream",
     "text": [
      "Trial done: mae values on folds: [0.004378151171628454, 0.0025954941912990845, 0.0021996884680654818]\n",
      "[LightGBM] [Warning] bagging_fraction is set=0.6447781346670711, subsample=1.0 will be ignored. Current value: bagging_fraction=0.6447781346670711\n",
      "[LightGBM] [Warning] lambda_l2 is set=0.043564710485406354, reg_lambda=0.0 will be ignored. Current value: lambda_l2=0.043564710485406354\n",
      "[LightGBM] [Warning] lambda_l1 is set=0.10727704930685508, reg_alpha=0.0 will be ignored. Current value: lambda_l1=0.10727704930685508\n",
      "[LightGBM] [Warning] bagging_freq is set=7, subsample_freq=0 will be ignored. Current value: bagging_freq=7\n",
      "[LightGBM] [Warning] feature_fraction is set=0.8936369259744315, colsample_bytree=1.0 will be ignored. Current value: feature_fraction=0.8936369259744315\n",
      "[LightGBM] [Warning] bagging_fraction is set=0.6447781346670711, subsample=1.0 will be ignored. Current value: bagging_fraction=0.6447781346670711\n",
      "[LightGBM] [Warning] lambda_l2 is set=0.043564710485406354, reg_lambda=0.0 will be ignored. Current value: lambda_l2=0.043564710485406354\n",
      "[LightGBM] [Warning] lambda_l1 is set=0.10727704930685508, reg_alpha=0.0 will be ignored. Current value: lambda_l1=0.10727704930685508\n",
      "[LightGBM] [Warning] bagging_freq is set=7, subsample_freq=0 will be ignored. Current value: bagging_freq=7\n",
      "[LightGBM] [Warning] feature_fraction is set=0.8936369259744315, colsample_bytree=1.0 will be ignored. Current value: feature_fraction=0.8936369259744315\n",
      "[LightGBM] [Warning] bagging_fraction is set=0.6447781346670711, subsample=1.0 will be ignored. Current value: bagging_fraction=0.6447781346670711\n",
      "[LightGBM] [Warning] lambda_l2 is set=0.043564710485406354, reg_lambda=0.0 will be ignored. Current value: lambda_l2=0.043564710485406354\n",
      "[LightGBM] [Warning] lambda_l1 is set=0.10727704930685508, reg_alpha=0.0 will be ignored. Current value: lambda_l1=0.10727704930685508\n",
      "[LightGBM] [Warning] bagging_freq is set=7, subsample_freq=0 will be ignored. Current value: bagging_freq=7\n",
      "[LightGBM] [Warning] feature_fraction is set=0.8936369259744315, colsample_bytree=1.0 will be ignored. Current value: feature_fraction=0.8936369259744315\n"
     ]
    },
    {
     "name": "stderr",
     "output_type": "stream",
     "text": [
      "\u001b[32m[I 2021-11-24 00:39:50,196]\u001b[0m Trial 5 finished with value: -0.003017698835148497 and parameters: {'lambda_l1': 0.10727704930685508, 'lambda_l2': 0.043564710485406354, 'num_leaves': 143, 'feature_fraction': 0.8936369259744315, 'bagging_fraction': 0.6447781346670711, 'bagging_freq': 7, 'min_child_samples': 89}. Best is trial 1 with value: -0.0029940090119364303.\u001b[0m\n"
     ]
    },
    {
     "name": "stdout",
     "output_type": "stream",
     "text": [
      "Trial done: mae values on folds: [0.004291464876742036, 0.0025733263791104153, 0.0021883052495930396]\n",
      "[LightGBM] [Warning] bagging_fraction is set=0.7689145167094582, subsample=1.0 will be ignored. Current value: bagging_fraction=0.7689145167094582\n",
      "[LightGBM] [Warning] lambda_l2 is set=0.007714443563997744, reg_lambda=0.0 will be ignored. Current value: lambda_l2=0.007714443563997744\n",
      "[LightGBM] [Warning] lambda_l1 is set=8.637311722335123e-06, reg_alpha=0.0 will be ignored. Current value: lambda_l1=8.637311722335123e-06\n",
      "[LightGBM] [Warning] bagging_freq is set=3, subsample_freq=0 will be ignored. Current value: bagging_freq=3\n",
      "[LightGBM] [Warning] feature_fraction is set=0.7622892585418025, colsample_bytree=1.0 will be ignored. Current value: feature_fraction=0.7622892585418025\n",
      "[LightGBM] [Warning] bagging_fraction is set=0.7689145167094582, subsample=1.0 will be ignored. Current value: bagging_fraction=0.7689145167094582\n",
      "[LightGBM] [Warning] lambda_l2 is set=0.007714443563997744, reg_lambda=0.0 will be ignored. Current value: lambda_l2=0.007714443563997744\n",
      "[LightGBM] [Warning] lambda_l1 is set=8.637311722335123e-06, reg_alpha=0.0 will be ignored. Current value: lambda_l1=8.637311722335123e-06\n",
      "[LightGBM] [Warning] bagging_freq is set=3, subsample_freq=0 will be ignored. Current value: bagging_freq=3\n",
      "[LightGBM] [Warning] feature_fraction is set=0.7622892585418025, colsample_bytree=1.0 will be ignored. Current value: feature_fraction=0.7622892585418025\n",
      "[LightGBM] [Warning] bagging_fraction is set=0.7689145167094582, subsample=1.0 will be ignored. Current value: bagging_fraction=0.7689145167094582\n",
      "[LightGBM] [Warning] lambda_l2 is set=0.007714443563997744, reg_lambda=0.0 will be ignored. Current value: lambda_l2=0.007714443563997744\n",
      "[LightGBM] [Warning] lambda_l1 is set=8.637311722335123e-06, reg_alpha=0.0 will be ignored. Current value: lambda_l1=8.637311722335123e-06\n",
      "[LightGBM] [Warning] bagging_freq is set=3, subsample_freq=0 will be ignored. Current value: bagging_freq=3\n",
      "[LightGBM] [Warning] feature_fraction is set=0.7622892585418025, colsample_bytree=1.0 will be ignored. Current value: feature_fraction=0.7622892585418025\n"
     ]
    },
    {
     "name": "stderr",
     "output_type": "stream",
     "text": [
      "\u001b[32m[I 2021-11-24 00:40:28,355]\u001b[0m Trial 6 finished with value: -0.0030317750637501545 and parameters: {'lambda_l1': 8.637311722335123e-06, 'lambda_l2': 0.007714443563997744, 'num_leaves': 169, 'feature_fraction': 0.7622892585418025, 'bagging_fraction': 0.7689145167094582, 'bagging_freq': 3, 'min_child_samples': 63}. Best is trial 1 with value: -0.0029940090119364303.\u001b[0m\n"
     ]
    },
    {
     "name": "stdout",
     "output_type": "stream",
     "text": [
      "Trial done: mae values on folds: [0.004314891184005711, 0.0025803421812882073, 0.002200091825956544]\n",
      "[LightGBM] [Warning] bagging_fraction is set=0.8278882255720629, subsample=1.0 will be ignored. Current value: bagging_fraction=0.8278882255720629\n",
      "[LightGBM] [Warning] lambda_l2 is set=0.0026711923345969953, reg_lambda=0.0 will be ignored. Current value: lambda_l2=0.0026711923345969953\n",
      "[LightGBM] [Warning] lambda_l1 is set=0.5876742918026935, reg_alpha=0.0 will be ignored. Current value: lambda_l1=0.5876742918026935\n",
      "[LightGBM] [Warning] bagging_freq is set=4, subsample_freq=0 will be ignored. Current value: bagging_freq=4\n",
      "[LightGBM] [Warning] feature_fraction is set=0.5605299756541485, colsample_bytree=1.0 will be ignored. Current value: feature_fraction=0.5605299756541485\n",
      "[LightGBM] [Warning] bagging_fraction is set=0.8278882255720629, subsample=1.0 will be ignored. Current value: bagging_fraction=0.8278882255720629\n",
      "[LightGBM] [Warning] lambda_l2 is set=0.0026711923345969953, reg_lambda=0.0 will be ignored. Current value: lambda_l2=0.0026711923345969953\n",
      "[LightGBM] [Warning] lambda_l1 is set=0.5876742918026935, reg_alpha=0.0 will be ignored. Current value: lambda_l1=0.5876742918026935\n",
      "[LightGBM] [Warning] bagging_freq is set=4, subsample_freq=0 will be ignored. Current value: bagging_freq=4\n",
      "[LightGBM] [Warning] feature_fraction is set=0.5605299756541485, colsample_bytree=1.0 will be ignored. Current value: feature_fraction=0.5605299756541485\n",
      "[LightGBM] [Warning] bagging_fraction is set=0.8278882255720629, subsample=1.0 will be ignored. Current value: bagging_fraction=0.8278882255720629\n",
      "[LightGBM] [Warning] lambda_l2 is set=0.0026711923345969953, reg_lambda=0.0 will be ignored. Current value: lambda_l2=0.0026711923345969953\n",
      "[LightGBM] [Warning] lambda_l1 is set=0.5876742918026935, reg_alpha=0.0 will be ignored. Current value: lambda_l1=0.5876742918026935\n",
      "[LightGBM] [Warning] bagging_freq is set=4, subsample_freq=0 will be ignored. Current value: bagging_freq=4\n",
      "[LightGBM] [Warning] feature_fraction is set=0.5605299756541485, colsample_bytree=1.0 will be ignored. Current value: feature_fraction=0.5605299756541485\n"
     ]
    },
    {
     "name": "stderr",
     "output_type": "stream",
     "text": [
      "\u001b[32m[I 2021-11-24 00:41:22,287]\u001b[0m Trial 7 finished with value: -0.003003797380646505 and parameters: {'lambda_l1': 0.5876742918026935, 'lambda_l2': 0.0026711923345969953, 'num_leaves': 240, 'feature_fraction': 0.5605299756541485, 'bagging_fraction': 0.8278882255720629, 'bagging_freq': 4, 'min_child_samples': 29}. Best is trial 1 with value: -0.0029940090119364303.\u001b[0m\n"
     ]
    },
    {
     "name": "stdout",
     "output_type": "stream",
     "text": [
      "Trial done: mae values on folds: [0.004253060145222629, 0.0025836827543840686, 0.0021746492423328177]\n",
      "[LightGBM] [Warning] bagging_fraction is set=0.5176503620615016, subsample=1.0 will be ignored. Current value: bagging_fraction=0.5176503620615016\n",
      "[LightGBM] [Warning] lambda_l2 is set=8.159187302432827e-05, reg_lambda=0.0 will be ignored. Current value: lambda_l2=8.159187302432827e-05\n",
      "[LightGBM] [Warning] lambda_l1 is set=3.1720764264707e-08, reg_alpha=0.0 will be ignored. Current value: lambda_l1=3.1720764264707e-08\n",
      "[LightGBM] [Warning] bagging_freq is set=4, subsample_freq=0 will be ignored. Current value: bagging_freq=4\n",
      "[LightGBM] [Warning] feature_fraction is set=0.6709196217049204, colsample_bytree=1.0 will be ignored. Current value: feature_fraction=0.6709196217049204\n",
      "[LightGBM] [Warning] bagging_fraction is set=0.5176503620615016, subsample=1.0 will be ignored. Current value: bagging_fraction=0.5176503620615016\n",
      "[LightGBM] [Warning] lambda_l2 is set=8.159187302432827e-05, reg_lambda=0.0 will be ignored. Current value: lambda_l2=8.159187302432827e-05\n",
      "[LightGBM] [Warning] lambda_l1 is set=3.1720764264707e-08, reg_alpha=0.0 will be ignored. Current value: lambda_l1=3.1720764264707e-08\n",
      "[LightGBM] [Warning] bagging_freq is set=4, subsample_freq=0 will be ignored. Current value: bagging_freq=4\n",
      "[LightGBM] [Warning] feature_fraction is set=0.6709196217049204, colsample_bytree=1.0 will be ignored. Current value: feature_fraction=0.6709196217049204\n",
      "[LightGBM] [Warning] bagging_fraction is set=0.5176503620615016, subsample=1.0 will be ignored. Current value: bagging_fraction=0.5176503620615016\n",
      "[LightGBM] [Warning] lambda_l2 is set=8.159187302432827e-05, reg_lambda=0.0 will be ignored. Current value: lambda_l2=8.159187302432827e-05\n",
      "[LightGBM] [Warning] lambda_l1 is set=3.1720764264707e-08, reg_alpha=0.0 will be ignored. Current value: lambda_l1=3.1720764264707e-08\n",
      "[LightGBM] [Warning] bagging_freq is set=4, subsample_freq=0 will be ignored. Current value: bagging_freq=4\n",
      "[LightGBM] [Warning] feature_fraction is set=0.6709196217049204, colsample_bytree=1.0 will be ignored. Current value: feature_fraction=0.6709196217049204\n"
     ]
    },
    {
     "name": "stderr",
     "output_type": "stream",
     "text": [
      "\u001b[32m[I 2021-11-24 00:42:00,962]\u001b[0m Trial 8 finished with value: -0.003048630566089779 and parameters: {'lambda_l1': 3.1720764264707e-08, 'lambda_l2': 8.159187302432827e-05, 'num_leaves': 217, 'feature_fraction': 0.6709196217049204, 'bagging_fraction': 0.5176503620615016, 'bagging_freq': 4, 'min_child_samples': 55}. Best is trial 1 with value: -0.0029940090119364303.\u001b[0m\n"
     ]
    },
    {
     "name": "stdout",
     "output_type": "stream",
     "text": [
      "Trial done: mae values on folds: [0.004357733050584502, 0.0025920049347987638, 0.0021961537128860707]\n",
      "[LightGBM] [Warning] bagging_fraction is set=0.8959842552943307, subsample=1.0 will be ignored. Current value: bagging_fraction=0.8959842552943307\n",
      "[LightGBM] [Warning] lambda_l2 is set=5.896510130316025e-07, reg_lambda=0.0 will be ignored. Current value: lambda_l2=5.896510130316025e-07\n",
      "[LightGBM] [Warning] lambda_l1 is set=0.0002779788535417166, reg_alpha=0.0 will be ignored. Current value: lambda_l1=0.0002779788535417166\n",
      "[LightGBM] [Warning] bagging_freq is set=3, subsample_freq=0 will be ignored. Current value: bagging_freq=3\n",
      "[LightGBM] [Warning] feature_fraction is set=0.4297221228105736, colsample_bytree=1.0 will be ignored. Current value: feature_fraction=0.4297221228105736\n",
      "[LightGBM] [Warning] bagging_fraction is set=0.8959842552943307, subsample=1.0 will be ignored. Current value: bagging_fraction=0.8959842552943307\n",
      "[LightGBM] [Warning] lambda_l2 is set=5.896510130316025e-07, reg_lambda=0.0 will be ignored. Current value: lambda_l2=5.896510130316025e-07\n",
      "[LightGBM] [Warning] lambda_l1 is set=0.0002779788535417166, reg_alpha=0.0 will be ignored. Current value: lambda_l1=0.0002779788535417166\n",
      "[LightGBM] [Warning] bagging_freq is set=3, subsample_freq=0 will be ignored. Current value: bagging_freq=3\n",
      "[LightGBM] [Warning] feature_fraction is set=0.4297221228105736, colsample_bytree=1.0 will be ignored. Current value: feature_fraction=0.4297221228105736\n",
      "[LightGBM] [Warning] bagging_fraction is set=0.8959842552943307, subsample=1.0 will be ignored. Current value: bagging_fraction=0.8959842552943307\n",
      "[LightGBM] [Warning] lambda_l2 is set=5.896510130316025e-07, reg_lambda=0.0 will be ignored. Current value: lambda_l2=5.896510130316025e-07\n",
      "[LightGBM] [Warning] lambda_l1 is set=0.0002779788535417166, reg_alpha=0.0 will be ignored. Current value: lambda_l1=0.0002779788535417166\n",
      "[LightGBM] [Warning] bagging_freq is set=3, subsample_freq=0 will be ignored. Current value: bagging_freq=3\n",
      "[LightGBM] [Warning] feature_fraction is set=0.4297221228105736, colsample_bytree=1.0 will be ignored. Current value: feature_fraction=0.4297221228105736\n"
     ]
    },
    {
     "name": "stderr",
     "output_type": "stream",
     "text": [
      "\u001b[32m[I 2021-11-24 00:42:45,059]\u001b[0m Trial 9 finished with value: -0.003056021017733841 and parameters: {'lambda_l1': 0.0002779788535417166, 'lambda_l2': 5.896510130316025e-07, 'num_leaves': 229, 'feature_fraction': 0.4297221228105736, 'bagging_fraction': 0.8959842552943307, 'bagging_freq': 3, 'min_child_samples': 90}. Best is trial 1 with value: -0.0029940090119364303.\u001b[0m\n"
     ]
    },
    {
     "name": "stdout",
     "output_type": "stream",
     "text": [
      "Trial done: mae values on folds: [0.004319125724551074, 0.0026457180643085594, 0.002203219264341891]\n",
      "[LightGBM] [Warning] bagging_fraction is set=0.6206013541792206, subsample=1.0 will be ignored. Current value: bagging_fraction=0.6206013541792206\n",
      "[LightGBM] [Warning] lambda_l2 is set=1.7458790164506997, reg_lambda=0.0 will be ignored. Current value: lambda_l2=1.7458790164506997\n",
      "[LightGBM] [Warning] lambda_l1 is set=9.829092550611213, reg_alpha=0.0 will be ignored. Current value: lambda_l1=9.829092550611213\n",
      "[LightGBM] [Warning] bagging_freq is set=6, subsample_freq=0 will be ignored. Current value: bagging_freq=6\n",
      "[LightGBM] [Warning] feature_fraction is set=0.4154142580725793, colsample_bytree=1.0 will be ignored. Current value: feature_fraction=0.4154142580725793\n",
      "[LightGBM] [Warning] bagging_fraction is set=0.6206013541792206, subsample=1.0 will be ignored. Current value: bagging_fraction=0.6206013541792206\n",
      "[LightGBM] [Warning] lambda_l2 is set=1.7458790164506997, reg_lambda=0.0 will be ignored. Current value: lambda_l2=1.7458790164506997\n",
      "[LightGBM] [Warning] lambda_l1 is set=9.829092550611213, reg_alpha=0.0 will be ignored. Current value: lambda_l1=9.829092550611213\n",
      "[LightGBM] [Warning] bagging_freq is set=6, subsample_freq=0 will be ignored. Current value: bagging_freq=6\n",
      "[LightGBM] [Warning] feature_fraction is set=0.4154142580725793, colsample_bytree=1.0 will be ignored. Current value: feature_fraction=0.4154142580725793\n",
      "[LightGBM] [Warning] bagging_fraction is set=0.6206013541792206, subsample=1.0 will be ignored. Current value: bagging_fraction=0.6206013541792206\n",
      "[LightGBM] [Warning] lambda_l2 is set=1.7458790164506997, reg_lambda=0.0 will be ignored. Current value: lambda_l2=1.7458790164506997\n",
      "[LightGBM] [Warning] lambda_l1 is set=9.829092550611213, reg_alpha=0.0 will be ignored. Current value: lambda_l1=9.829092550611213\n",
      "[LightGBM] [Warning] bagging_freq is set=6, subsample_freq=0 will be ignored. Current value: bagging_freq=6\n",
      "[LightGBM] [Warning] feature_fraction is set=0.4154142580725793, colsample_bytree=1.0 will be ignored. Current value: feature_fraction=0.4154142580725793\n"
     ]
    },
    {
     "name": "stderr",
     "output_type": "stream",
     "text": [
      "\u001b[32m[I 2021-11-24 00:43:11,501]\u001b[0m Trial 10 finished with value: -0.002956054141829938 and parameters: {'lambda_l1': 9.829092550611213, 'lambda_l2': 1.7458790164506997, 'num_leaves': 14, 'feature_fraction': 0.4154142580725793, 'bagging_fraction': 0.6206013541792206, 'bagging_freq': 6, 'min_child_samples': 5}. Best is trial 10 with value: -0.002956054141829938.\u001b[0m\n"
     ]
    },
    {
     "name": "stdout",
     "output_type": "stream",
     "text": [
      "Trial done: mae values on folds: [0.004164111846233658, 0.002550836331972631, 0.0021532142472835258]\n",
      "[LightGBM] [Warning] bagging_fraction is set=0.645758468076802, subsample=1.0 will be ignored. Current value: bagging_fraction=0.645758468076802\n",
      "[LightGBM] [Warning] lambda_l2 is set=3.3596711449004872, reg_lambda=0.0 will be ignored. Current value: lambda_l2=3.3596711449004872\n",
      "[LightGBM] [Warning] lambda_l1 is set=6.586810973002154, reg_alpha=0.0 will be ignored. Current value: lambda_l1=6.586810973002154\n",
      "[LightGBM] [Warning] bagging_freq is set=6, subsample_freq=0 will be ignored. Current value: bagging_freq=6\n",
      "[LightGBM] [Warning] feature_fraction is set=0.40524944924201606, colsample_bytree=1.0 will be ignored. Current value: feature_fraction=0.40524944924201606\n",
      "[LightGBM] [Warning] bagging_fraction is set=0.645758468076802, subsample=1.0 will be ignored. Current value: bagging_fraction=0.645758468076802\n",
      "[LightGBM] [Warning] lambda_l2 is set=3.3596711449004872, reg_lambda=0.0 will be ignored. Current value: lambda_l2=3.3596711449004872\n",
      "[LightGBM] [Warning] lambda_l1 is set=6.586810973002154, reg_alpha=0.0 will be ignored. Current value: lambda_l1=6.586810973002154\n",
      "[LightGBM] [Warning] bagging_freq is set=6, subsample_freq=0 will be ignored. Current value: bagging_freq=6\n",
      "[LightGBM] [Warning] feature_fraction is set=0.40524944924201606, colsample_bytree=1.0 will be ignored. Current value: feature_fraction=0.40524944924201606\n",
      "[LightGBM] [Warning] bagging_fraction is set=0.645758468076802, subsample=1.0 will be ignored. Current value: bagging_fraction=0.645758468076802\n",
      "[LightGBM] [Warning] lambda_l2 is set=3.3596711449004872, reg_lambda=0.0 will be ignored. Current value: lambda_l2=3.3596711449004872\n",
      "[LightGBM] [Warning] lambda_l1 is set=6.586810973002154, reg_alpha=0.0 will be ignored. Current value: lambda_l1=6.586810973002154\n",
      "[LightGBM] [Warning] bagging_freq is set=6, subsample_freq=0 will be ignored. Current value: bagging_freq=6\n",
      "[LightGBM] [Warning] feature_fraction is set=0.40524944924201606, colsample_bytree=1.0 will be ignored. Current value: feature_fraction=0.40524944924201606\n"
     ]
    },
    {
     "name": "stderr",
     "output_type": "stream",
     "text": [
      "\u001b[32m[I 2021-11-24 00:43:39,411]\u001b[0m Trial 11 finished with value: -0.002956837524466315 and parameters: {'lambda_l1': 6.586810973002154, 'lambda_l2': 3.3596711449004872, 'num_leaves': 15, 'feature_fraction': 0.40524944924201606, 'bagging_fraction': 0.645758468076802, 'bagging_freq': 6, 'min_child_samples': 9}. Best is trial 10 with value: -0.002956054141829938.\u001b[0m\n"
     ]
    },
    {
     "name": "stdout",
     "output_type": "stream",
     "text": [
      "Trial done: mae values on folds: [0.004164479175017291, 0.0025527834395639637, 0.00215324995881769]\n",
      "[LightGBM] [Warning] bagging_fraction is set=0.6259583869149522, subsample=1.0 will be ignored. Current value: bagging_fraction=0.6259583869149522\n",
      "[LightGBM] [Warning] lambda_l2 is set=6.881737692344839, reg_lambda=0.0 will be ignored. Current value: lambda_l2=6.881737692344839\n",
      "[LightGBM] [Warning] lambda_l1 is set=8.335995032300533, reg_alpha=0.0 will be ignored. Current value: lambda_l1=8.335995032300533\n",
      "[LightGBM] [Warning] bagging_freq is set=6, subsample_freq=0 will be ignored. Current value: bagging_freq=6\n",
      "[LightGBM] [Warning] feature_fraction is set=0.40142350653753256, colsample_bytree=1.0 will be ignored. Current value: feature_fraction=0.40142350653753256\n",
      "[LightGBM] [Warning] bagging_fraction is set=0.6259583869149522, subsample=1.0 will be ignored. Current value: bagging_fraction=0.6259583869149522\n",
      "[LightGBM] [Warning] lambda_l2 is set=6.881737692344839, reg_lambda=0.0 will be ignored. Current value: lambda_l2=6.881737692344839\n",
      "[LightGBM] [Warning] lambda_l1 is set=8.335995032300533, reg_alpha=0.0 will be ignored. Current value: lambda_l1=8.335995032300533\n",
      "[LightGBM] [Warning] bagging_freq is set=6, subsample_freq=0 will be ignored. Current value: bagging_freq=6\n",
      "[LightGBM] [Warning] feature_fraction is set=0.40142350653753256, colsample_bytree=1.0 will be ignored. Current value: feature_fraction=0.40142350653753256\n",
      "[LightGBM] [Warning] bagging_fraction is set=0.6259583869149522, subsample=1.0 will be ignored. Current value: bagging_fraction=0.6259583869149522\n",
      "[LightGBM] [Warning] lambda_l2 is set=6.881737692344839, reg_lambda=0.0 will be ignored. Current value: lambda_l2=6.881737692344839\n",
      "[LightGBM] [Warning] lambda_l1 is set=8.335995032300533, reg_alpha=0.0 will be ignored. Current value: lambda_l1=8.335995032300533\n",
      "[LightGBM] [Warning] bagging_freq is set=6, subsample_freq=0 will be ignored. Current value: bagging_freq=6\n",
      "[LightGBM] [Warning] feature_fraction is set=0.40142350653753256, colsample_bytree=1.0 will be ignored. Current value: feature_fraction=0.40142350653753256\n"
     ]
    },
    {
     "name": "stderr",
     "output_type": "stream",
     "text": [
      "\u001b[32m[I 2021-11-24 00:44:06,070]\u001b[0m Trial 12 finished with value: -0.0029561479238676774 and parameters: {'lambda_l1': 8.335995032300533, 'lambda_l2': 6.881737692344839, 'num_leaves': 5, 'feature_fraction': 0.40142350653753256, 'bagging_fraction': 0.6259583869149522, 'bagging_freq': 6, 'min_child_samples': 12}. Best is trial 10 with value: -0.002956054141829938.\u001b[0m\n"
     ]
    },
    {
     "name": "stdout",
     "output_type": "stream",
     "text": [
      "Trial done: mae values on folds: [0.004164330026665622, 0.002550950144521688, 0.0021531636004157215]\n",
      "[LightGBM] [Warning] bagging_fraction is set=0.5604905859604717, subsample=1.0 will be ignored. Current value: bagging_fraction=0.5604905859604717\n",
      "[LightGBM] [Warning] lambda_l2 is set=7.624599061073937, reg_lambda=0.0 will be ignored. Current value: lambda_l2=7.624599061073937\n",
      "[LightGBM] [Warning] lambda_l1 is set=6.208808518959168, reg_alpha=0.0 will be ignored. Current value: lambda_l1=6.208808518959168\n",
      "[LightGBM] [Warning] bagging_freq is set=7, subsample_freq=0 will be ignored. Current value: bagging_freq=7\n",
      "[LightGBM] [Warning] feature_fraction is set=0.485152534186133, colsample_bytree=1.0 will be ignored. Current value: feature_fraction=0.485152534186133\n",
      "[LightGBM] [Warning] bagging_fraction is set=0.5604905859604717, subsample=1.0 will be ignored. Current value: bagging_fraction=0.5604905859604717\n",
      "[LightGBM] [Warning] lambda_l2 is set=7.624599061073937, reg_lambda=0.0 will be ignored. Current value: lambda_l2=7.624599061073937\n",
      "[LightGBM] [Warning] lambda_l1 is set=6.208808518959168, reg_alpha=0.0 will be ignored. Current value: lambda_l1=6.208808518959168\n",
      "[LightGBM] [Warning] bagging_freq is set=7, subsample_freq=0 will be ignored. Current value: bagging_freq=7\n",
      "[LightGBM] [Warning] feature_fraction is set=0.485152534186133, colsample_bytree=1.0 will be ignored. Current value: feature_fraction=0.485152534186133\n",
      "[LightGBM] [Warning] bagging_fraction is set=0.5604905859604717, subsample=1.0 will be ignored. Current value: bagging_fraction=0.5604905859604717\n",
      "[LightGBM] [Warning] lambda_l2 is set=7.624599061073937, reg_lambda=0.0 will be ignored. Current value: lambda_l2=7.624599061073937\n",
      "[LightGBM] [Warning] lambda_l1 is set=6.208808518959168, reg_alpha=0.0 will be ignored. Current value: lambda_l1=6.208808518959168\n",
      "[LightGBM] [Warning] bagging_freq is set=7, subsample_freq=0 will be ignored. Current value: bagging_freq=7\n",
      "[LightGBM] [Warning] feature_fraction is set=0.485152534186133, colsample_bytree=1.0 will be ignored. Current value: feature_fraction=0.485152534186133\n"
     ]
    },
    {
     "name": "stderr",
     "output_type": "stream",
     "text": [
      "\u001b[32m[I 2021-11-24 00:44:35,085]\u001b[0m Trial 13 finished with value: -0.002956597766725352 and parameters: {'lambda_l1': 6.208808518959168, 'lambda_l2': 7.624599061073937, 'num_leaves': 57, 'feature_fraction': 0.485152534186133, 'bagging_fraction': 0.5604905859604717, 'bagging_freq': 7, 'min_child_samples': 8}. Best is trial 10 with value: -0.002956054141829938.\u001b[0m\n"
     ]
    },
    {
     "name": "stdout",
     "output_type": "stream",
     "text": [
      "Trial done: mae values on folds: [0.004164401628971309, 0.002552163977507861, 0.0021532276936968866]\n",
      "[LightGBM] [Warning] bagging_fraction is set=0.5851604622544945, subsample=1.0 will be ignored. Current value: bagging_fraction=0.5851604622544945\n",
      "[LightGBM] [Warning] lambda_l2 is set=0.5664939096161752, reg_lambda=0.0 will be ignored. Current value: lambda_l2=0.5664939096161752\n",
      "[LightGBM] [Warning] lambda_l1 is set=0.000266873180695465, reg_alpha=0.0 will be ignored. Current value: lambda_l1=0.000266873180695465\n",
      "[LightGBM] [Warning] bagging_freq is set=5, subsample_freq=0 will be ignored. Current value: bagging_freq=5\n",
      "[LightGBM] [Warning] feature_fraction is set=0.48410740681304454, colsample_bytree=1.0 will be ignored. Current value: feature_fraction=0.48410740681304454\n",
      "[LightGBM] [Warning] bagging_fraction is set=0.5851604622544945, subsample=1.0 will be ignored. Current value: bagging_fraction=0.5851604622544945\n",
      "[LightGBM] [Warning] lambda_l2 is set=0.5664939096161752, reg_lambda=0.0 will be ignored. Current value: lambda_l2=0.5664939096161752\n",
      "[LightGBM] [Warning] lambda_l1 is set=0.000266873180695465, reg_alpha=0.0 will be ignored. Current value: lambda_l1=0.000266873180695465\n",
      "[LightGBM] [Warning] bagging_freq is set=5, subsample_freq=0 will be ignored. Current value: bagging_freq=5\n",
      "[LightGBM] [Warning] feature_fraction is set=0.48410740681304454, colsample_bytree=1.0 will be ignored. Current value: feature_fraction=0.48410740681304454\n",
      "[LightGBM] [Warning] bagging_fraction is set=0.5851604622544945, subsample=1.0 will be ignored. Current value: bagging_fraction=0.5851604622544945\n",
      "[LightGBM] [Warning] lambda_l2 is set=0.5664939096161752, reg_lambda=0.0 will be ignored. Current value: lambda_l2=0.5664939096161752\n",
      "[LightGBM] [Warning] lambda_l1 is set=0.000266873180695465, reg_alpha=0.0 will be ignored. Current value: lambda_l1=0.000266873180695465\n",
      "[LightGBM] [Warning] bagging_freq is set=5, subsample_freq=0 will be ignored. Current value: bagging_freq=5\n",
      "[LightGBM] [Warning] feature_fraction is set=0.48410740681304454, colsample_bytree=1.0 will be ignored. Current value: feature_fraction=0.48410740681304454\n"
     ]
    },
    {
     "name": "stderr",
     "output_type": "stream",
     "text": [
      "\u001b[32m[I 2021-11-24 00:45:06,568]\u001b[0m Trial 14 finished with value: -0.0030068966238780757 and parameters: {'lambda_l1': 0.000266873180695465, 'lambda_l2': 0.5664939096161752, 'num_leaves': 77, 'feature_fraction': 0.48410740681304454, 'bagging_fraction': 0.5851604622544945, 'bagging_freq': 5, 'min_child_samples': 24}. Best is trial 10 with value: -0.002956054141829938.\u001b[0m\n"
     ]
    },
    {
     "name": "stdout",
     "output_type": "stream",
     "text": [
      "Trial done: mae values on folds: [0.004254074392096802, 0.0025901721646360743, 0.0021764433149013495]\n",
      "[LightGBM] [Warning] bagging_fraction is set=0.503234279000204, subsample=1.0 will be ignored. Current value: bagging_fraction=0.503234279000204\n",
      "[LightGBM] [Warning] lambda_l2 is set=0.733890273484074, reg_lambda=0.0 will be ignored. Current value: lambda_l2=0.733890273484074\n",
      "[LightGBM] [Warning] lambda_l1 is set=0.9051190679742569, reg_alpha=0.0 will be ignored. Current value: lambda_l1=0.9051190679742569\n",
      "[LightGBM] [Warning] bagging_freq is set=5, subsample_freq=0 will be ignored. Current value: bagging_freq=5\n",
      "[LightGBM] [Warning] feature_fraction is set=0.4092460033897096, colsample_bytree=1.0 will be ignored. Current value: feature_fraction=0.4092460033897096\n",
      "[LightGBM] [Warning] bagging_fraction is set=0.503234279000204, subsample=1.0 will be ignored. Current value: bagging_fraction=0.503234279000204\n",
      "[LightGBM] [Warning] lambda_l2 is set=0.733890273484074, reg_lambda=0.0 will be ignored. Current value: lambda_l2=0.733890273484074\n",
      "[LightGBM] [Warning] lambda_l1 is set=0.9051190679742569, reg_alpha=0.0 will be ignored. Current value: lambda_l1=0.9051190679742569\n",
      "[LightGBM] [Warning] bagging_freq is set=5, subsample_freq=0 will be ignored. Current value: bagging_freq=5\n",
      "[LightGBM] [Warning] feature_fraction is set=0.4092460033897096, colsample_bytree=1.0 will be ignored. Current value: feature_fraction=0.4092460033897096\n",
      "[LightGBM] [Warning] bagging_fraction is set=0.503234279000204, subsample=1.0 will be ignored. Current value: bagging_fraction=0.503234279000204\n",
      "[LightGBM] [Warning] lambda_l2 is set=0.733890273484074, reg_lambda=0.0 will be ignored. Current value: lambda_l2=0.733890273484074\n",
      "[LightGBM] [Warning] lambda_l1 is set=0.9051190679742569, reg_alpha=0.0 will be ignored. Current value: lambda_l1=0.9051190679742569\n",
      "[LightGBM] [Warning] bagging_freq is set=5, subsample_freq=0 will be ignored. Current value: bagging_freq=5\n",
      "[LightGBM] [Warning] feature_fraction is set=0.4092460033897096, colsample_bytree=1.0 will be ignored. Current value: feature_fraction=0.4092460033897096\n"
     ]
    },
    {
     "name": "stderr",
     "output_type": "stream",
     "text": [
      "\u001b[32m[I 2021-11-24 00:45:32,415]\u001b[0m Trial 15 finished with value: -0.002958734017871854 and parameters: {'lambda_l1': 0.9051190679742569, 'lambda_l2': 0.733890273484074, 'num_leaves': 4, 'feature_fraction': 0.4092460033897096, 'bagging_fraction': 0.503234279000204, 'bagging_freq': 5, 'min_child_samples': 21}. Best is trial 10 with value: -0.002956054141829938.\u001b[0m\n"
     ]
    },
    {
     "name": "stdout",
     "output_type": "stream",
     "text": [
      "Trial done: mae values on folds: [0.004165731723310108, 0.002556790934752477, 0.002153679395552976]\n",
      "[LightGBM] [Warning] bagging_fraction is set=0.6585025159886263, subsample=1.0 will be ignored. Current value: bagging_fraction=0.6585025159886263\n",
      "[LightGBM] [Warning] lambda_l2 is set=0.02048132732560438, reg_lambda=0.0 will be ignored. Current value: lambda_l2=0.02048132732560438\n",
      "[LightGBM] [Warning] lambda_l1 is set=1.087863045485852e-05, reg_alpha=0.0 will be ignored. Current value: lambda_l1=1.087863045485852e-05\n",
      "[LightGBM] [Warning] bagging_freq is set=5, subsample_freq=0 will be ignored. Current value: bagging_freq=5\n",
      "[LightGBM] [Warning] feature_fraction is set=0.6004608598469365, colsample_bytree=1.0 will be ignored. Current value: feature_fraction=0.6004608598469365\n",
      "[LightGBM] [Warning] bagging_fraction is set=0.6585025159886263, subsample=1.0 will be ignored. Current value: bagging_fraction=0.6585025159886263\n",
      "[LightGBM] [Warning] lambda_l2 is set=0.02048132732560438, reg_lambda=0.0 will be ignored. Current value: lambda_l2=0.02048132732560438\n",
      "[LightGBM] [Warning] lambda_l1 is set=1.087863045485852e-05, reg_alpha=0.0 will be ignored. Current value: lambda_l1=1.087863045485852e-05\n",
      "[LightGBM] [Warning] bagging_freq is set=5, subsample_freq=0 will be ignored. Current value: bagging_freq=5\n",
      "[LightGBM] [Warning] feature_fraction is set=0.6004608598469365, colsample_bytree=1.0 will be ignored. Current value: feature_fraction=0.6004608598469365\n",
      "[LightGBM] [Warning] bagging_fraction is set=0.6585025159886263, subsample=1.0 will be ignored. Current value: bagging_fraction=0.6585025159886263\n",
      "[LightGBM] [Warning] lambda_l2 is set=0.02048132732560438, reg_lambda=0.0 will be ignored. Current value: lambda_l2=0.02048132732560438\n",
      "[LightGBM] [Warning] lambda_l1 is set=1.087863045485852e-05, reg_alpha=0.0 will be ignored. Current value: lambda_l1=1.087863045485852e-05\n",
      "[LightGBM] [Warning] bagging_freq is set=5, subsample_freq=0 will be ignored. Current value: bagging_freq=5\n",
      "[LightGBM] [Warning] feature_fraction is set=0.6004608598469365, colsample_bytree=1.0 will be ignored. Current value: feature_fraction=0.6004608598469365\n"
     ]
    },
    {
     "name": "stderr",
     "output_type": "stream",
     "text": [
      "\u001b[32m[I 2021-11-24 00:46:05,098]\u001b[0m Trial 16 finished with value: -0.0030057029620768005 and parameters: {'lambda_l1': 1.087863045485852e-05, 'lambda_l2': 0.02048132732560438, 'num_leaves': 83, 'feature_fraction': 0.6004608598469365, 'bagging_fraction': 0.6585025159886263, 'bagging_freq': 5, 'min_child_samples': 41}. Best is trial 10 with value: -0.002956054141829938.\u001b[0m\n"
     ]
    },
    {
     "name": "stdout",
     "output_type": "stream",
     "text": [
      "Trial done: mae values on folds: [0.004267630640398489, 0.0025670007893130583, 0.0021824774565188535]\n",
      "[LightGBM] [Warning] bagging_fraction is set=0.4144352044929185, subsample=1.0 will be ignored. Current value: bagging_fraction=0.4144352044929185\n",
      "[LightGBM] [Warning] lambda_l2 is set=0.13551771236609697, reg_lambda=0.0 will be ignored. Current value: lambda_l2=0.13551771236609697\n",
      "[LightGBM] [Warning] lambda_l1 is set=9.19478293787529, reg_alpha=0.0 will be ignored. Current value: lambda_l1=9.19478293787529\n",
      "[LightGBM] [Warning] bagging_freq is set=7, subsample_freq=0 will be ignored. Current value: bagging_freq=7\n",
      "[LightGBM] [Warning] feature_fraction is set=0.4880568412591865, colsample_bytree=1.0 will be ignored. Current value: feature_fraction=0.4880568412591865\n",
      "[LightGBM] [Warning] bagging_fraction is set=0.4144352044929185, subsample=1.0 will be ignored. Current value: bagging_fraction=0.4144352044929185\n",
      "[LightGBM] [Warning] lambda_l2 is set=0.13551771236609697, reg_lambda=0.0 will be ignored. Current value: lambda_l2=0.13551771236609697\n",
      "[LightGBM] [Warning] lambda_l1 is set=9.19478293787529, reg_alpha=0.0 will be ignored. Current value: lambda_l1=9.19478293787529\n",
      "[LightGBM] [Warning] bagging_freq is set=7, subsample_freq=0 will be ignored. Current value: bagging_freq=7\n",
      "[LightGBM] [Warning] feature_fraction is set=0.4880568412591865, colsample_bytree=1.0 will be ignored. Current value: feature_fraction=0.4880568412591865\n",
      "[LightGBM] [Warning] bagging_fraction is set=0.4144352044929185, subsample=1.0 will be ignored. Current value: bagging_fraction=0.4144352044929185\n",
      "[LightGBM] [Warning] lambda_l2 is set=0.13551771236609697, reg_lambda=0.0 will be ignored. Current value: lambda_l2=0.13551771236609697\n",
      "[LightGBM] [Warning] lambda_l1 is set=9.19478293787529, reg_alpha=0.0 will be ignored. Current value: lambda_l1=9.19478293787529\n",
      "[LightGBM] [Warning] bagging_freq is set=7, subsample_freq=0 will be ignored. Current value: bagging_freq=7\n",
      "[LightGBM] [Warning] feature_fraction is set=0.4880568412591865, colsample_bytree=1.0 will be ignored. Current value: feature_fraction=0.4880568412591865\n"
     ]
    },
    {
     "name": "stderr",
     "output_type": "stream",
     "text": [
      "\u001b[32m[I 2021-11-24 00:46:30,177]\u001b[0m Trial 17 finished with value: -0.002956381732613738 and parameters: {'lambda_l1': 9.19478293787529, 'lambda_l2': 0.13551771236609697, 'num_leaves': 39, 'feature_fraction': 0.4880568412591865, 'bagging_fraction': 0.4144352044929185, 'bagging_freq': 7, 'min_child_samples': 5}. Best is trial 10 with value: -0.002956054141829938.\u001b[0m\n"
     ]
    },
    {
     "name": "stdout",
     "output_type": "stream",
     "text": [
      "Trial done: mae values on folds: [0.004164779385660738, 0.002551058495477957, 0.0021533073167025176]\n",
      "[LightGBM] [Warning] bagging_fraction is set=0.6938560921400154, subsample=1.0 will be ignored. Current value: bagging_fraction=0.6938560921400154\n",
      "[LightGBM] [Warning] lambda_l2 is set=9.026974319087048, reg_lambda=0.0 will be ignored. Current value: lambda_l2=9.026974319087048\n",
      "[LightGBM] [Warning] lambda_l1 is set=0.0035306721943461575, reg_alpha=0.0 will be ignored. Current value: lambda_l1=0.0035306721943461575\n",
      "[LightGBM] [Warning] bagging_freq is set=6, subsample_freq=0 will be ignored. Current value: bagging_freq=6\n",
      "[LightGBM] [Warning] feature_fraction is set=0.8711182223033698, colsample_bytree=1.0 will be ignored. Current value: feature_fraction=0.8711182223033698\n",
      "[LightGBM] [Warning] bagging_fraction is set=0.6938560921400154, subsample=1.0 will be ignored. Current value: bagging_fraction=0.6938560921400154\n",
      "[LightGBM] [Warning] lambda_l2 is set=9.026974319087048, reg_lambda=0.0 will be ignored. Current value: lambda_l2=9.026974319087048\n",
      "[LightGBM] [Warning] lambda_l1 is set=0.0035306721943461575, reg_alpha=0.0 will be ignored. Current value: lambda_l1=0.0035306721943461575\n",
      "[LightGBM] [Warning] bagging_freq is set=6, subsample_freq=0 will be ignored. Current value: bagging_freq=6\n",
      "[LightGBM] [Warning] feature_fraction is set=0.8711182223033698, colsample_bytree=1.0 will be ignored. Current value: feature_fraction=0.8711182223033698\n",
      "[LightGBM] [Warning] bagging_fraction is set=0.6938560921400154, subsample=1.0 will be ignored. Current value: bagging_fraction=0.6938560921400154\n",
      "[LightGBM] [Warning] lambda_l2 is set=9.026974319087048, reg_lambda=0.0 will be ignored. Current value: lambda_l2=9.026974319087048\n",
      "[LightGBM] [Warning] lambda_l1 is set=0.0035306721943461575, reg_alpha=0.0 will be ignored. Current value: lambda_l1=0.0035306721943461575\n",
      "[LightGBM] [Warning] bagging_freq is set=6, subsample_freq=0 will be ignored. Current value: bagging_freq=6\n",
      "[LightGBM] [Warning] feature_fraction is set=0.8711182223033698, colsample_bytree=1.0 will be ignored. Current value: feature_fraction=0.8711182223033698\n"
     ]
    },
    {
     "name": "stderr",
     "output_type": "stream",
     "text": [
      "\u001b[32m[I 2021-11-24 00:47:02,968]\u001b[0m Trial 18 finished with value: -0.0030055412744457786 and parameters: {'lambda_l1': 0.0035306721943461575, 'lambda_l2': 9.026974319087048, 'num_leaves': 93, 'feature_fraction': 0.8711182223033698, 'bagging_fraction': 0.6938560921400154, 'bagging_freq': 6, 'min_child_samples': 19}. Best is trial 10 with value: -0.002956054141829938.\u001b[0m\n"
     ]
    },
    {
     "name": "stdout",
     "output_type": "stream",
     "text": [
      "Trial done: mae values on folds: [0.0042767393185445665, 0.002566213790565618, 0.002173670714227151]\n",
      "[LightGBM] [Warning] bagging_fraction is set=0.6009117639043089, subsample=1.0 will be ignored. Current value: bagging_fraction=0.6009117639043089\n",
      "[LightGBM] [Warning] lambda_l2 is set=0.0008620148934103785, reg_lambda=0.0 will be ignored. Current value: lambda_l2=0.0008620148934103785\n",
      "[LightGBM] [Warning] lambda_l1 is set=0.5024598354141686, reg_alpha=0.0 will be ignored. Current value: lambda_l1=0.5024598354141686\n",
      "[LightGBM] [Warning] bagging_freq is set=5, subsample_freq=0 will be ignored. Current value: bagging_freq=5\n",
      "[LightGBM] [Warning] feature_fraction is set=0.6123215168617898, colsample_bytree=1.0 will be ignored. Current value: feature_fraction=0.6123215168617898\n",
      "[LightGBM] [Warning] bagging_fraction is set=0.6009117639043089, subsample=1.0 will be ignored. Current value: bagging_fraction=0.6009117639043089\n",
      "[LightGBM] [Warning] lambda_l2 is set=0.0008620148934103785, reg_lambda=0.0 will be ignored. Current value: lambda_l2=0.0008620148934103785\n",
      "[LightGBM] [Warning] lambda_l1 is set=0.5024598354141686, reg_alpha=0.0 will be ignored. Current value: lambda_l1=0.5024598354141686\n",
      "[LightGBM] [Warning] bagging_freq is set=5, subsample_freq=0 will be ignored. Current value: bagging_freq=5\n",
      "[LightGBM] [Warning] feature_fraction is set=0.6123215168617898, colsample_bytree=1.0 will be ignored. Current value: feature_fraction=0.6123215168617898\n",
      "[LightGBM] [Warning] bagging_fraction is set=0.6009117639043089, subsample=1.0 will be ignored. Current value: bagging_fraction=0.6009117639043089\n",
      "[LightGBM] [Warning] lambda_l2 is set=0.0008620148934103785, reg_lambda=0.0 will be ignored. Current value: lambda_l2=0.0008620148934103785\n",
      "[LightGBM] [Warning] lambda_l1 is set=0.5024598354141686, reg_alpha=0.0 will be ignored. Current value: lambda_l1=0.5024598354141686\n",
      "[LightGBM] [Warning] bagging_freq is set=5, subsample_freq=0 will be ignored. Current value: bagging_freq=5\n",
      "[LightGBM] [Warning] feature_fraction is set=0.6123215168617898, colsample_bytree=1.0 will be ignored. Current value: feature_fraction=0.6123215168617898\n"
     ]
    },
    {
     "name": "stderr",
     "output_type": "stream",
     "text": [
      "\u001b[32m[I 2021-11-24 00:47:32,953]\u001b[0m Trial 19 finished with value: -0.0029732890813652184 and parameters: {'lambda_l1': 0.5024598354141686, 'lambda_l2': 0.0008620148934103785, 'num_leaves': 34, 'feature_fraction': 0.6123215168617898, 'bagging_fraction': 0.6009117639043089, 'bagging_freq': 5, 'min_child_samples': 33}. Best is trial 10 with value: -0.002956054141829938.\u001b[0m\n"
     ]
    },
    {
     "name": "stdout",
     "output_type": "stream",
     "text": [
      "Trial done: mae values on folds: [0.004198289367935894, 0.0025611590850622887, 0.0021604187910974726]\n",
      "[LightGBM] [Warning] bagging_fraction is set=0.48855736434330055, subsample=1.0 will be ignored. Current value: bagging_fraction=0.48855736434330055\n",
      "[LightGBM] [Warning] lambda_l2 is set=0.7816171894850982, reg_lambda=0.0 will be ignored. Current value: lambda_l2=0.7816171894850982\n",
      "[LightGBM] [Warning] lambda_l1 is set=1.2875697551841553e-05, reg_alpha=0.0 will be ignored. Current value: lambda_l1=1.2875697551841553e-05\n",
      "[LightGBM] [Warning] bagging_freq is set=7, subsample_freq=0 will be ignored. Current value: bagging_freq=7\n",
      "[LightGBM] [Warning] feature_fraction is set=0.4956210824502433, colsample_bytree=1.0 will be ignored. Current value: feature_fraction=0.4956210824502433\n",
      "[LightGBM] [Warning] bagging_fraction is set=0.48855736434330055, subsample=1.0 will be ignored. Current value: bagging_fraction=0.48855736434330055\n",
      "[LightGBM] [Warning] lambda_l2 is set=0.7816171894850982, reg_lambda=0.0 will be ignored. Current value: lambda_l2=0.7816171894850982\n",
      "[LightGBM] [Warning] lambda_l1 is set=1.2875697551841553e-05, reg_alpha=0.0 will be ignored. Current value: lambda_l1=1.2875697551841553e-05\n",
      "[LightGBM] [Warning] bagging_freq is set=7, subsample_freq=0 will be ignored. Current value: bagging_freq=7\n",
      "[LightGBM] [Warning] feature_fraction is set=0.4956210824502433, colsample_bytree=1.0 will be ignored. Current value: feature_fraction=0.4956210824502433\n",
      "[LightGBM] [Warning] bagging_fraction is set=0.48855736434330055, subsample=1.0 will be ignored. Current value: bagging_fraction=0.48855736434330055\n",
      "[LightGBM] [Warning] lambda_l2 is set=0.7816171894850982, reg_lambda=0.0 will be ignored. Current value: lambda_l2=0.7816171894850982\n",
      "[LightGBM] [Warning] lambda_l1 is set=1.2875697551841553e-05, reg_alpha=0.0 will be ignored. Current value: lambda_l1=1.2875697551841553e-05\n",
      "[LightGBM] [Warning] bagging_freq is set=7, subsample_freq=0 will be ignored. Current value: bagging_freq=7\n",
      "[LightGBM] [Warning] feature_fraction is set=0.4956210824502433, colsample_bytree=1.0 will be ignored. Current value: feature_fraction=0.4956210824502433\n"
     ]
    },
    {
     "name": "stderr",
     "output_type": "stream",
     "text": [
      "\u001b[32m[I 2021-11-24 00:48:03,962]\u001b[0m Trial 20 finished with value: -0.0029942722357982916 and parameters: {'lambda_l1': 1.2875697551841553e-05, 'lambda_l2': 0.7816171894850982, 'num_leaves': 63, 'feature_fraction': 0.4956210824502433, 'bagging_fraction': 0.48855736434330055, 'bagging_freq': 7, 'min_child_samples': 15}. Best is trial 10 with value: -0.002956054141829938.\u001b[0m\n"
     ]
    },
    {
     "name": "stdout",
     "output_type": "stream",
     "text": [
      "Trial done: mae values on folds: [0.004235421422146736, 0.00257389277658695, 0.002173502508661189]\n",
      "[LightGBM] [Warning] bagging_fraction is set=0.4300081645660945, subsample=1.0 will be ignored. Current value: bagging_fraction=0.4300081645660945\n",
      "[LightGBM] [Warning] lambda_l2 is set=0.08502461297324496, reg_lambda=0.0 will be ignored. Current value: lambda_l2=0.08502461297324496\n",
      "[LightGBM] [Warning] lambda_l1 is set=5.843056054036443, reg_alpha=0.0 will be ignored. Current value: lambda_l1=5.843056054036443\n",
      "[LightGBM] [Warning] bagging_freq is set=7, subsample_freq=0 will be ignored. Current value: bagging_freq=7\n",
      "[LightGBM] [Warning] feature_fraction is set=0.4437942264198083, colsample_bytree=1.0 will be ignored. Current value: feature_fraction=0.4437942264198083\n",
      "[LightGBM] [Warning] bagging_fraction is set=0.4300081645660945, subsample=1.0 will be ignored. Current value: bagging_fraction=0.4300081645660945\n",
      "[LightGBM] [Warning] lambda_l2 is set=0.08502461297324496, reg_lambda=0.0 will be ignored. Current value: lambda_l2=0.08502461297324496\n",
      "[LightGBM] [Warning] lambda_l1 is set=5.843056054036443, reg_alpha=0.0 will be ignored. Current value: lambda_l1=5.843056054036443\n",
      "[LightGBM] [Warning] bagging_freq is set=7, subsample_freq=0 will be ignored. Current value: bagging_freq=7\n",
      "[LightGBM] [Warning] feature_fraction is set=0.4437942264198083, colsample_bytree=1.0 will be ignored. Current value: feature_fraction=0.4437942264198083\n",
      "[LightGBM] [Warning] bagging_fraction is set=0.4300081645660945, subsample=1.0 will be ignored. Current value: bagging_fraction=0.4300081645660945\n",
      "[LightGBM] [Warning] lambda_l2 is set=0.08502461297324496, reg_lambda=0.0 will be ignored. Current value: lambda_l2=0.08502461297324496\n",
      "[LightGBM] [Warning] lambda_l1 is set=5.843056054036443, reg_alpha=0.0 will be ignored. Current value: lambda_l1=5.843056054036443\n",
      "[LightGBM] [Warning] bagging_freq is set=7, subsample_freq=0 will be ignored. Current value: bagging_freq=7\n",
      "[LightGBM] [Warning] feature_fraction is set=0.4437942264198083, colsample_bytree=1.0 will be ignored. Current value: feature_fraction=0.4437942264198083\n"
     ]
    },
    {
     "name": "stderr",
     "output_type": "stream",
     "text": [
      "\u001b[32m[I 2021-11-24 00:48:30,559]\u001b[0m Trial 21 finished with value: -0.002956420402703023 and parameters: {'lambda_l1': 5.843056054036443, 'lambda_l2': 0.08502461297324496, 'num_leaves': 32, 'feature_fraction': 0.4437942264198083, 'bagging_fraction': 0.4300081645660945, 'bagging_freq': 7, 'min_child_samples': 5}. Best is trial 10 with value: -0.002956054141829938.\u001b[0m\n"
     ]
    },
    {
     "name": "stdout",
     "output_type": "stream",
     "text": [
      "Trial done: mae values on folds: [0.0041640956233435856, 0.002551989852901775, 0.002153175731863708]\n",
      "[LightGBM] [Warning] bagging_fraction is set=0.4063354389967554, subsample=1.0 will be ignored. Current value: bagging_fraction=0.4063354389967554\n",
      "[LightGBM] [Warning] lambda_l2 is set=1.4219131090160826, reg_lambda=0.0 will be ignored. Current value: lambda_l2=1.4219131090160826\n",
      "[LightGBM] [Warning] lambda_l1 is set=1.204648817508412, reg_alpha=0.0 will be ignored. Current value: lambda_l1=1.204648817508412\n",
      "[LightGBM] [Warning] bagging_freq is set=6, subsample_freq=0 will be ignored. Current value: bagging_freq=6\n",
      "[LightGBM] [Warning] feature_fraction is set=0.4785146486250146, colsample_bytree=1.0 will be ignored. Current value: feature_fraction=0.4785146486250146\n",
      "[LightGBM] [Warning] bagging_fraction is set=0.4063354389967554, subsample=1.0 will be ignored. Current value: bagging_fraction=0.4063354389967554\n",
      "[LightGBM] [Warning] lambda_l2 is set=1.4219131090160826, reg_lambda=0.0 will be ignored. Current value: lambda_l2=1.4219131090160826\n",
      "[LightGBM] [Warning] lambda_l1 is set=1.204648817508412, reg_alpha=0.0 will be ignored. Current value: lambda_l1=1.204648817508412\n",
      "[LightGBM] [Warning] bagging_freq is set=6, subsample_freq=0 will be ignored. Current value: bagging_freq=6\n",
      "[LightGBM] [Warning] feature_fraction is set=0.4785146486250146, colsample_bytree=1.0 will be ignored. Current value: feature_fraction=0.4785146486250146\n",
      "[LightGBM] [Warning] bagging_fraction is set=0.4063354389967554, subsample=1.0 will be ignored. Current value: bagging_fraction=0.4063354389967554\n",
      "[LightGBM] [Warning] lambda_l2 is set=1.4219131090160826, reg_lambda=0.0 will be ignored. Current value: lambda_l2=1.4219131090160826\n",
      "[LightGBM] [Warning] lambda_l1 is set=1.204648817508412, reg_alpha=0.0 will be ignored. Current value: lambda_l1=1.204648817508412\n",
      "[LightGBM] [Warning] bagging_freq is set=6, subsample_freq=0 will be ignored. Current value: bagging_freq=6\n",
      "[LightGBM] [Warning] feature_fraction is set=0.4785146486250146, colsample_bytree=1.0 will be ignored. Current value: feature_fraction=0.4785146486250146\n"
     ]
    },
    {
     "name": "stderr",
     "output_type": "stream",
     "text": [
      "\u001b[32m[I 2021-11-24 00:48:55,546]\u001b[0m Trial 22 finished with value: -0.002955994890631072 and parameters: {'lambda_l1': 1.204648817508412, 'lambda_l2': 1.4219131090160826, 'num_leaves': 2, 'feature_fraction': 0.4785146486250146, 'bagging_fraction': 0.4063354389967554, 'bagging_freq': 6, 'min_child_samples': 13}. Best is trial 22 with value: -0.002955994890631072.\u001b[0m\n"
     ]
    },
    {
     "name": "stdout",
     "output_type": "stream",
     "text": [
      "Trial done: mae values on folds: [0.004163390719530286, 0.002550743540830879, 0.0021538504115320507]\n",
      "[LightGBM] [Warning] bagging_fraction is set=0.5462511827103342, subsample=1.0 will be ignored. Current value: bagging_fraction=0.5462511827103342\n",
      "[LightGBM] [Warning] lambda_l2 is set=1.8280205565606735, reg_lambda=0.0 will be ignored. Current value: lambda_l2=1.8280205565606735\n",
      "[LightGBM] [Warning] lambda_l1 is set=0.9648953951507949, reg_alpha=0.0 will be ignored. Current value: lambda_l1=0.9648953951507949\n",
      "[LightGBM] [Warning] bagging_freq is set=6, subsample_freq=0 will be ignored. Current value: bagging_freq=6\n",
      "[LightGBM] [Warning] feature_fraction is set=0.4530834831255426, colsample_bytree=1.0 will be ignored. Current value: feature_fraction=0.4530834831255426\n",
      "[LightGBM] [Warning] bagging_fraction is set=0.5462511827103342, subsample=1.0 will be ignored. Current value: bagging_fraction=0.5462511827103342\n",
      "[LightGBM] [Warning] lambda_l2 is set=1.8280205565606735, reg_lambda=0.0 will be ignored. Current value: lambda_l2=1.8280205565606735\n",
      "[LightGBM] [Warning] lambda_l1 is set=0.9648953951507949, reg_alpha=0.0 will be ignored. Current value: lambda_l1=0.9648953951507949\n",
      "[LightGBM] [Warning] bagging_freq is set=6, subsample_freq=0 will be ignored. Current value: bagging_freq=6\n",
      "[LightGBM] [Warning] feature_fraction is set=0.4530834831255426, colsample_bytree=1.0 will be ignored. Current value: feature_fraction=0.4530834831255426\n",
      "[LightGBM] [Warning] bagging_fraction is set=0.5462511827103342, subsample=1.0 will be ignored. Current value: bagging_fraction=0.5462511827103342\n",
      "[LightGBM] [Warning] lambda_l2 is set=1.8280205565606735, reg_lambda=0.0 will be ignored. Current value: lambda_l2=1.8280205565606735\n",
      "[LightGBM] [Warning] lambda_l1 is set=0.9648953951507949, reg_alpha=0.0 will be ignored. Current value: lambda_l1=0.9648953951507949\n",
      "[LightGBM] [Warning] bagging_freq is set=6, subsample_freq=0 will be ignored. Current value: bagging_freq=6\n",
      "[LightGBM] [Warning] feature_fraction is set=0.4530834831255426, colsample_bytree=1.0 will be ignored. Current value: feature_fraction=0.4530834831255426\n"
     ]
    },
    {
     "name": "stderr",
     "output_type": "stream",
     "text": [
      "\u001b[32m[I 2021-11-24 00:49:21,937]\u001b[0m Trial 23 finished with value: -0.002957454335562193 and parameters: {'lambda_l1': 0.9648953951507949, 'lambda_l2': 1.8280205565606735, 'num_leaves': 5, 'feature_fraction': 0.4530834831255426, 'bagging_fraction': 0.5462511827103342, 'bagging_freq': 6, 'min_child_samples': 16}. Best is trial 22 with value: -0.002955994890631072.\u001b[0m\n"
     ]
    },
    {
     "name": "stdout",
     "output_type": "stream",
     "text": [
      "Trial done: mae values on folds: [0.004165294151747745, 0.002553113278978929, 0.0021539555759599056]\n",
      "[LightGBM] [Warning] bagging_fraction is set=0.7992122879077284, subsample=1.0 will be ignored. Current value: bagging_fraction=0.7992122879077284\n",
      "[LightGBM] [Warning] lambda_l2 is set=2.591464136295956, reg_lambda=0.0 will be ignored. Current value: lambda_l2=2.591464136295956\n",
      "[LightGBM] [Warning] lambda_l1 is set=0.09428110098095407, reg_alpha=0.0 will be ignored. Current value: lambda_l1=0.09428110098095407\n",
      "[LightGBM] [Warning] bagging_freq is set=5, subsample_freq=0 will be ignored. Current value: bagging_freq=5\n",
      "[LightGBM] [Warning] feature_fraction is set=0.5270047858008835, colsample_bytree=1.0 will be ignored. Current value: feature_fraction=0.5270047858008835\n",
      "[LightGBM] [Warning] bagging_fraction is set=0.7992122879077284, subsample=1.0 will be ignored. Current value: bagging_fraction=0.7992122879077284\n",
      "[LightGBM] [Warning] lambda_l2 is set=2.591464136295956, reg_lambda=0.0 will be ignored. Current value: lambda_l2=2.591464136295956\n",
      "[LightGBM] [Warning] lambda_l1 is set=0.09428110098095407, reg_alpha=0.0 will be ignored. Current value: lambda_l1=0.09428110098095407\n",
      "[LightGBM] [Warning] bagging_freq is set=5, subsample_freq=0 will be ignored. Current value: bagging_freq=5\n",
      "[LightGBM] [Warning] feature_fraction is set=0.5270047858008835, colsample_bytree=1.0 will be ignored. Current value: feature_fraction=0.5270047858008835\n",
      "[LightGBM] [Warning] bagging_fraction is set=0.7992122879077284, subsample=1.0 will be ignored. Current value: bagging_fraction=0.7992122879077284\n",
      "[LightGBM] [Warning] lambda_l2 is set=2.591464136295956, reg_lambda=0.0 will be ignored. Current value: lambda_l2=2.591464136295956\n",
      "[LightGBM] [Warning] lambda_l1 is set=0.09428110098095407, reg_alpha=0.0 will be ignored. Current value: lambda_l1=0.09428110098095407\n",
      "[LightGBM] [Warning] bagging_freq is set=5, subsample_freq=0 will be ignored. Current value: bagging_freq=5\n",
      "[LightGBM] [Warning] feature_fraction is set=0.5270047858008835, colsample_bytree=1.0 will be ignored. Current value: feature_fraction=0.5270047858008835\n"
     ]
    },
    {
     "name": "stderr",
     "output_type": "stream",
     "text": [
      "\u001b[32m[I 2021-11-24 00:49:53,705]\u001b[0m Trial 24 finished with value: -0.0029958162131429804 and parameters: {'lambda_l1': 0.09428110098095407, 'lambda_l2': 2.591464136295956, 'num_leaves': 56, 'feature_fraction': 0.5270047858008835, 'bagging_fraction': 0.7992122879077284, 'bagging_freq': 5, 'min_child_samples': 44}. Best is trial 22 with value: -0.002955994890631072.\u001b[0m\n"
     ]
    },
    {
     "name": "stdout",
     "output_type": "stream",
     "text": [
      "Trial done: mae values on folds: [0.004241630350944917, 0.0025765993868104757, 0.0021692189016735484]\n",
      "[LightGBM] [Warning] bagging_fraction is set=0.4636500828787766, subsample=1.0 will be ignored. Current value: bagging_fraction=0.4636500828787766\n",
      "[LightGBM] [Warning] lambda_l2 is set=0.006756988969282528, reg_lambda=0.0 will be ignored. Current value: lambda_l2=0.006756988969282528\n",
      "[LightGBM] [Warning] lambda_l1 is set=1.0795320793393341, reg_alpha=0.0 will be ignored. Current value: lambda_l1=1.0795320793393341\n",
      "[LightGBM] [Warning] bagging_freq is set=6, subsample_freq=0 will be ignored. Current value: bagging_freq=6\n",
      "[LightGBM] [Warning] feature_fraction is set=0.40618390661346476, colsample_bytree=1.0 will be ignored. Current value: feature_fraction=0.40618390661346476\n",
      "[LightGBM] [Warning] bagging_fraction is set=0.4636500828787766, subsample=1.0 will be ignored. Current value: bagging_fraction=0.4636500828787766\n",
      "[LightGBM] [Warning] lambda_l2 is set=0.006756988969282528, reg_lambda=0.0 will be ignored. Current value: lambda_l2=0.006756988969282528\n",
      "[LightGBM] [Warning] lambda_l1 is set=1.0795320793393341, reg_alpha=0.0 will be ignored. Current value: lambda_l1=1.0795320793393341\n",
      "[LightGBM] [Warning] bagging_freq is set=6, subsample_freq=0 will be ignored. Current value: bagging_freq=6\n",
      "[LightGBM] [Warning] feature_fraction is set=0.40618390661346476, colsample_bytree=1.0 will be ignored. Current value: feature_fraction=0.40618390661346476\n",
      "[LightGBM] [Warning] bagging_fraction is set=0.4636500828787766, subsample=1.0 will be ignored. Current value: bagging_fraction=0.4636500828787766\n",
      "[LightGBM] [Warning] lambda_l2 is set=0.006756988969282528, reg_lambda=0.0 will be ignored. Current value: lambda_l2=0.006756988969282528\n",
      "[LightGBM] [Warning] lambda_l1 is set=1.0795320793393341, reg_alpha=0.0 will be ignored. Current value: lambda_l1=1.0795320793393341\n",
      "[LightGBM] [Warning] bagging_freq is set=6, subsample_freq=0 will be ignored. Current value: bagging_freq=6\n",
      "[LightGBM] [Warning] feature_fraction is set=0.40618390661346476, colsample_bytree=1.0 will be ignored. Current value: feature_fraction=0.40618390661346476\n"
     ]
    },
    {
     "name": "stderr",
     "output_type": "stream",
     "text": [
      "\u001b[32m[I 2021-11-24 00:50:22,295]\u001b[0m Trial 25 finished with value: -0.002963181113111889 and parameters: {'lambda_l1': 1.0795320793393341, 'lambda_l2': 0.006756988969282528, 'num_leaves': 18, 'feature_fraction': 0.40618390661346476, 'bagging_fraction': 0.4636500828787766, 'bagging_freq': 6, 'min_child_samples': 29}. Best is trial 22 with value: -0.002955994890631072.\u001b[0m\n"
     ]
    },
    {
     "name": "stdout",
     "output_type": "stream",
     "text": [
      "Trial done: mae values on folds: [0.0041768932478078655, 0.002557279126008949, 0.0021553709655188517]\n",
      "[LightGBM] [Warning] bagging_fraction is set=0.6083092994956768, subsample=1.0 will be ignored. Current value: bagging_fraction=0.6083092994956768\n",
      "[LightGBM] [Warning] lambda_l2 is set=0.16900651500833785, reg_lambda=0.0 will be ignored. Current value: lambda_l2=0.16900651500833785\n",
      "[LightGBM] [Warning] lambda_l1 is set=0.13857916818865784, reg_alpha=0.0 will be ignored. Current value: lambda_l1=0.13857916818865784\n",
      "[LightGBM] [Warning] bagging_freq is set=6, subsample_freq=0 will be ignored. Current value: bagging_freq=6\n",
      "[LightGBM] [Warning] feature_fraction is set=0.6084089971369232, colsample_bytree=1.0 will be ignored. Current value: feature_fraction=0.6084089971369232\n",
      "[LightGBM] [Warning] bagging_fraction is set=0.6083092994956768, subsample=1.0 will be ignored. Current value: bagging_fraction=0.6083092994956768\n",
      "[LightGBM] [Warning] lambda_l2 is set=0.16900651500833785, reg_lambda=0.0 will be ignored. Current value: lambda_l2=0.16900651500833785\n",
      "[LightGBM] [Warning] lambda_l1 is set=0.13857916818865784, reg_alpha=0.0 will be ignored. Current value: lambda_l1=0.13857916818865784\n",
      "[LightGBM] [Warning] bagging_freq is set=6, subsample_freq=0 will be ignored. Current value: bagging_freq=6\n",
      "[LightGBM] [Warning] feature_fraction is set=0.6084089971369232, colsample_bytree=1.0 will be ignored. Current value: feature_fraction=0.6084089971369232\n",
      "[LightGBM] [Warning] bagging_fraction is set=0.6083092994956768, subsample=1.0 will be ignored. Current value: bagging_fraction=0.6083092994956768\n",
      "[LightGBM] [Warning] lambda_l2 is set=0.16900651500833785, reg_lambda=0.0 will be ignored. Current value: lambda_l2=0.16900651500833785\n",
      "[LightGBM] [Warning] lambda_l1 is set=0.13857916818865784, reg_alpha=0.0 will be ignored. Current value: lambda_l1=0.13857916818865784\n",
      "[LightGBM] [Warning] bagging_freq is set=6, subsample_freq=0 will be ignored. Current value: bagging_freq=6\n",
      "[LightGBM] [Warning] feature_fraction is set=0.6084089971369232, colsample_bytree=1.0 will be ignored. Current value: feature_fraction=0.6084089971369232\n"
     ]
    },
    {
     "name": "stderr",
     "output_type": "stream",
     "text": [
      "\u001b[32m[I 2021-11-24 00:50:50,591]\u001b[0m Trial 26 finished with value: -0.002975277960784225 and parameters: {'lambda_l1': 0.13857916818865784, 'lambda_l2': 0.16900651500833785, 'num_leaves': 22, 'feature_fraction': 0.6084089971369232, 'bagging_fraction': 0.6083092994956768, 'bagging_freq': 6, 'min_child_samples': 13}. Best is trial 22 with value: -0.002955994890631072.\u001b[0m\n"
     ]
    },
    {
     "name": "stdout",
     "output_type": "stream",
     "text": [
      "Trial done: mae values on folds: [0.004206959954122335, 0.002558315209257801, 0.0021605587189725394]\n",
      "[LightGBM] [Warning] bagging_fraction is set=0.6995881071151441, subsample=1.0 will be ignored. Current value: bagging_fraction=0.6995881071151441\n",
      "[LightGBM] [Warning] lambda_l2 is set=1.9576042100567828e-08, reg_lambda=0.0 will be ignored. Current value: lambda_l2=1.9576042100567828e-08\n",
      "[LightGBM] [Warning] lambda_l1 is set=0.0011944556602925408, reg_alpha=0.0 will be ignored. Current value: lambda_l1=0.0011944556602925408\n",
      "[LightGBM] [Warning] bagging_freq is set=4, subsample_freq=0 will be ignored. Current value: bagging_freq=4\n",
      "[LightGBM] [Warning] feature_fraction is set=0.45517915519604263, colsample_bytree=1.0 will be ignored. Current value: feature_fraction=0.45517915519604263\n",
      "[LightGBM] [Warning] bagging_fraction is set=0.6995881071151441, subsample=1.0 will be ignored. Current value: bagging_fraction=0.6995881071151441\n",
      "[LightGBM] [Warning] lambda_l2 is set=1.9576042100567828e-08, reg_lambda=0.0 will be ignored. Current value: lambda_l2=1.9576042100567828e-08\n",
      "[LightGBM] [Warning] lambda_l1 is set=0.0011944556602925408, reg_alpha=0.0 will be ignored. Current value: lambda_l1=0.0011944556602925408\n",
      "[LightGBM] [Warning] bagging_freq is set=4, subsample_freq=0 will be ignored. Current value: bagging_freq=4\n",
      "[LightGBM] [Warning] feature_fraction is set=0.45517915519604263, colsample_bytree=1.0 will be ignored. Current value: feature_fraction=0.45517915519604263\n",
      "[LightGBM] [Warning] bagging_fraction is set=0.6995881071151441, subsample=1.0 will be ignored. Current value: bagging_fraction=0.6995881071151441\n",
      "[LightGBM] [Warning] lambda_l2 is set=1.9576042100567828e-08, reg_lambda=0.0 will be ignored. Current value: lambda_l2=1.9576042100567828e-08\n",
      "[LightGBM] [Warning] lambda_l1 is set=0.0011944556602925408, reg_alpha=0.0 will be ignored. Current value: lambda_l1=0.0011944556602925408\n",
      "[LightGBM] [Warning] bagging_freq is set=4, subsample_freq=0 will be ignored. Current value: bagging_freq=4\n",
      "[LightGBM] [Warning] feature_fraction is set=0.45517915519604263, colsample_bytree=1.0 will be ignored. Current value: feature_fraction=0.45517915519604263\n"
     ]
    },
    {
     "name": "stderr",
     "output_type": "stream",
     "text": [
      "\u001b[32m[I 2021-11-24 00:51:24,231]\u001b[0m Trial 27 finished with value: -0.003013881098174052 and parameters: {'lambda_l1': 0.0011944556602925408, 'lambda_l2': 1.9576042100567828e-08, 'num_leaves': 107, 'feature_fraction': 0.45517915519604263, 'bagging_fraction': 0.6995881071151441, 'bagging_freq': 4, 'min_child_samples': 24}. Best is trial 22 with value: -0.002955994890631072.\u001b[0m\n"
     ]
    },
    {
     "name": "stdout",
     "output_type": "stream",
     "text": [
      "Trial done: mae values on folds: [0.004264859043754972, 0.00259232079704773, 0.002184463453719455]\n",
      "[LightGBM] [Warning] bagging_fraction is set=0.8661357402950236, subsample=1.0 will be ignored. Current value: bagging_fraction=0.8661357402950236\n",
      "[LightGBM] [Warning] lambda_l2 is set=0.02136076783667412, reg_lambda=0.0 will be ignored. Current value: lambda_l2=0.02136076783667412\n",
      "[LightGBM] [Warning] lambda_l1 is set=1.5620474598562923, reg_alpha=0.0 will be ignored. Current value: lambda_l1=1.5620474598562923\n",
      "[LightGBM] [Warning] bagging_freq is set=5, subsample_freq=0 will be ignored. Current value: bagging_freq=5\n",
      "[LightGBM] [Warning] feature_fraction is set=0.5047284083118823, colsample_bytree=1.0 will be ignored. Current value: feature_fraction=0.5047284083118823\n",
      "[LightGBM] [Warning] bagging_fraction is set=0.8661357402950236, subsample=1.0 will be ignored. Current value: bagging_fraction=0.8661357402950236\n",
      "[LightGBM] [Warning] lambda_l2 is set=0.02136076783667412, reg_lambda=0.0 will be ignored. Current value: lambda_l2=0.02136076783667412\n",
      "[LightGBM] [Warning] lambda_l1 is set=1.5620474598562923, reg_alpha=0.0 will be ignored. Current value: lambda_l1=1.5620474598562923\n",
      "[LightGBM] [Warning] bagging_freq is set=5, subsample_freq=0 will be ignored. Current value: bagging_freq=5\n",
      "[LightGBM] [Warning] feature_fraction is set=0.5047284083118823, colsample_bytree=1.0 will be ignored. Current value: feature_fraction=0.5047284083118823\n",
      "[LightGBM] [Warning] bagging_fraction is set=0.8661357402950236, subsample=1.0 will be ignored. Current value: bagging_fraction=0.8661357402950236\n",
      "[LightGBM] [Warning] lambda_l2 is set=0.02136076783667412, reg_lambda=0.0 will be ignored. Current value: lambda_l2=0.02136076783667412\n",
      "[LightGBM] [Warning] lambda_l1 is set=1.5620474598562923, reg_alpha=0.0 will be ignored. Current value: lambda_l1=1.5620474598562923\n",
      "[LightGBM] [Warning] bagging_freq is set=5, subsample_freq=0 will be ignored. Current value: bagging_freq=5\n",
      "[LightGBM] [Warning] feature_fraction is set=0.5047284083118823, colsample_bytree=1.0 will be ignored. Current value: feature_fraction=0.5047284083118823\n"
     ]
    },
    {
     "name": "stderr",
     "output_type": "stream",
     "text": [
      "\u001b[32m[I 2021-11-24 00:51:50,560]\u001b[0m Trial 28 finished with value: -0.002955936459876549 and parameters: {'lambda_l1': 1.5620474598562923, 'lambda_l2': 0.02136076783667412, 'num_leaves': 2, 'feature_fraction': 0.5047284083118823, 'bagging_fraction': 0.8661357402950236, 'bagging_freq': 5, 'min_child_samples': 49}. Best is trial 28 with value: -0.002955936459876549.\u001b[0m\n"
     ]
    },
    {
     "name": "stdout",
     "output_type": "stream",
     "text": [
      "Trial done: mae values on folds: [0.0041631885169133315, 0.002550807470329125, 0.0021538133923871897]\n",
      "[LightGBM] [Warning] bagging_fraction is set=0.851268278733308, subsample=1.0 will be ignored. Current value: bagging_fraction=0.851268278733308\n",
      "[LightGBM] [Warning] lambda_l2 is set=0.011761501873647207, reg_lambda=0.0 will be ignored. Current value: lambda_l2=0.011761501873647207\n",
      "[LightGBM] [Warning] lambda_l1 is set=0.026861260520134284, reg_alpha=0.0 will be ignored. Current value: lambda_l1=0.026861260520134284\n",
      "[LightGBM] [Warning] bagging_freq is set=1, subsample_freq=0 will be ignored. Current value: bagging_freq=1\n",
      "[LightGBM] [Warning] feature_fraction is set=0.698326299213849, colsample_bytree=1.0 will be ignored. Current value: feature_fraction=0.698326299213849\n",
      "[LightGBM] [Warning] bagging_fraction is set=0.851268278733308, subsample=1.0 will be ignored. Current value: bagging_fraction=0.851268278733308\n",
      "[LightGBM] [Warning] lambda_l2 is set=0.011761501873647207, reg_lambda=0.0 will be ignored. Current value: lambda_l2=0.011761501873647207\n",
      "[LightGBM] [Warning] lambda_l1 is set=0.026861260520134284, reg_alpha=0.0 will be ignored. Current value: lambda_l1=0.026861260520134284\n",
      "[LightGBM] [Warning] bagging_freq is set=1, subsample_freq=0 will be ignored. Current value: bagging_freq=1\n",
      "[LightGBM] [Warning] feature_fraction is set=0.698326299213849, colsample_bytree=1.0 will be ignored. Current value: feature_fraction=0.698326299213849\n",
      "[LightGBM] [Warning] bagging_fraction is set=0.851268278733308, subsample=1.0 will be ignored. Current value: bagging_fraction=0.851268278733308\n",
      "[LightGBM] [Warning] lambda_l2 is set=0.011761501873647207, reg_lambda=0.0 will be ignored. Current value: lambda_l2=0.011761501873647207\n",
      "[LightGBM] [Warning] lambda_l1 is set=0.026861260520134284, reg_alpha=0.0 will be ignored. Current value: lambda_l1=0.026861260520134284\n",
      "[LightGBM] [Warning] bagging_freq is set=1, subsample_freq=0 will be ignored. Current value: bagging_freq=1\n",
      "[LightGBM] [Warning] feature_fraction is set=0.698326299213849, colsample_bytree=1.0 will be ignored. Current value: feature_fraction=0.698326299213849\n"
     ]
    },
    {
     "name": "stderr",
     "output_type": "stream",
     "text": [
      "\u001b[32m[I 2021-11-24 00:52:30,853]\u001b[0m Trial 29 finished with value: -0.003033388831160739 and parameters: {'lambda_l1': 0.026861260520134284, 'lambda_l2': 0.011761501873647207, 'num_leaves': 188, 'feature_fraction': 0.698326299213849, 'bagging_fraction': 0.851268278733308, 'bagging_freq': 1, 'min_child_samples': 100}. Best is trial 28 with value: -0.002955936459876549.\u001b[0m\n"
     ]
    },
    {
     "name": "stdout",
     "output_type": "stream",
     "text": [
      "Trial done: mae values on folds: [0.004312171471295022, 0.0025902254550827066, 0.002197769567104487]\n",
      "[LightGBM] [Warning] bagging_fraction is set=0.9195333066615526, subsample=1.0 will be ignored. Current value: bagging_fraction=0.9195333066615526\n",
      "[LightGBM] [Warning] lambda_l2 is set=0.001338320911704596, reg_lambda=0.0 will be ignored. Current value: lambda_l2=0.001338320911704596\n",
      "[LightGBM] [Warning] lambda_l1 is set=8.738748937680821e-07, reg_alpha=0.0 will be ignored. Current value: lambda_l1=8.738748937680821e-07\n",
      "[LightGBM] [Warning] bagging_freq is set=5, subsample_freq=0 will be ignored. Current value: bagging_freq=5\n",
      "[LightGBM] [Warning] feature_fraction is set=0.7771282947068786, colsample_bytree=1.0 will be ignored. Current value: feature_fraction=0.7771282947068786\n",
      "[LightGBM] [Warning] bagging_fraction is set=0.9195333066615526, subsample=1.0 will be ignored. Current value: bagging_fraction=0.9195333066615526\n",
      "[LightGBM] [Warning] lambda_l2 is set=0.001338320911704596, reg_lambda=0.0 will be ignored. Current value: lambda_l2=0.001338320911704596\n",
      "[LightGBM] [Warning] lambda_l1 is set=8.738748937680821e-07, reg_alpha=0.0 will be ignored. Current value: lambda_l1=8.738748937680821e-07\n",
      "[LightGBM] [Warning] bagging_freq is set=5, subsample_freq=0 will be ignored. Current value: bagging_freq=5\n",
      "[LightGBM] [Warning] feature_fraction is set=0.7771282947068786, colsample_bytree=1.0 will be ignored. Current value: feature_fraction=0.7771282947068786\n",
      "[LightGBM] [Warning] bagging_fraction is set=0.9195333066615526, subsample=1.0 will be ignored. Current value: bagging_fraction=0.9195333066615526\n",
      "[LightGBM] [Warning] lambda_l2 is set=0.001338320911704596, reg_lambda=0.0 will be ignored. Current value: lambda_l2=0.001338320911704596\n",
      "[LightGBM] [Warning] lambda_l1 is set=8.738748937680821e-07, reg_alpha=0.0 will be ignored. Current value: lambda_l1=8.738748937680821e-07\n",
      "[LightGBM] [Warning] bagging_freq is set=5, subsample_freq=0 will be ignored. Current value: bagging_freq=5\n",
      "[LightGBM] [Warning] feature_fraction is set=0.7771282947068786, colsample_bytree=1.0 will be ignored. Current value: feature_fraction=0.7771282947068786\n"
     ]
    },
    {
     "name": "stderr",
     "output_type": "stream",
     "text": [
      "\u001b[32m[I 2021-11-24 00:53:02,103]\u001b[0m Trial 30 finished with value: -0.0030031660029889045 and parameters: {'lambda_l1': 8.738748937680821e-07, 'lambda_l2': 0.001338320911704596, 'num_leaves': 49, 'feature_fraction': 0.7771282947068786, 'bagging_fraction': 0.9195333066615526, 'bagging_freq': 5, 'min_child_samples': 45}. Best is trial 28 with value: -0.002955936459876549.\u001b[0m\n"
     ]
    },
    {
     "name": "stdout",
     "output_type": "stream",
     "text": [
      "Trial done: mae values on folds: [0.004256234524827643, 0.0025808451752483944, 0.0021724183088906754]\n",
      "[LightGBM] [Warning] bagging_fraction is set=0.8687420486109368, subsample=1.0 will be ignored. Current value: bagging_fraction=0.8687420486109368\n",
      "[LightGBM] [Warning] lambda_l2 is set=0.562807469566846, reg_lambda=0.0 will be ignored. Current value: lambda_l2=0.562807469566846\n",
      "[LightGBM] [Warning] lambda_l1 is set=1.769970243309585, reg_alpha=0.0 will be ignored. Current value: lambda_l1=1.769970243309585\n",
      "[LightGBM] [Warning] bagging_freq is set=6, subsample_freq=0 will be ignored. Current value: bagging_freq=6\n",
      "[LightGBM] [Warning] feature_fraction is set=0.5118563399701276, colsample_bytree=1.0 will be ignored. Current value: feature_fraction=0.5118563399701276\n",
      "[LightGBM] [Warning] bagging_fraction is set=0.8687420486109368, subsample=1.0 will be ignored. Current value: bagging_fraction=0.8687420486109368\n",
      "[LightGBM] [Warning] lambda_l2 is set=0.562807469566846, reg_lambda=0.0 will be ignored. Current value: lambda_l2=0.562807469566846\n",
      "[LightGBM] [Warning] lambda_l1 is set=1.769970243309585, reg_alpha=0.0 will be ignored. Current value: lambda_l1=1.769970243309585\n",
      "[LightGBM] [Warning] bagging_freq is set=6, subsample_freq=0 will be ignored. Current value: bagging_freq=6\n",
      "[LightGBM] [Warning] feature_fraction is set=0.5118563399701276, colsample_bytree=1.0 will be ignored. Current value: feature_fraction=0.5118563399701276\n",
      "[LightGBM] [Warning] bagging_fraction is set=0.8687420486109368, subsample=1.0 will be ignored. Current value: bagging_fraction=0.8687420486109368\n",
      "[LightGBM] [Warning] lambda_l2 is set=0.562807469566846, reg_lambda=0.0 will be ignored. Current value: lambda_l2=0.562807469566846\n",
      "[LightGBM] [Warning] lambda_l1 is set=1.769970243309585, reg_alpha=0.0 will be ignored. Current value: lambda_l1=1.769970243309585\n",
      "[LightGBM] [Warning] bagging_freq is set=6, subsample_freq=0 will be ignored. Current value: bagging_freq=6\n",
      "[LightGBM] [Warning] feature_fraction is set=0.5118563399701276, colsample_bytree=1.0 will be ignored. Current value: feature_fraction=0.5118563399701276\n"
     ]
    },
    {
     "name": "stderr",
     "output_type": "stream",
     "text": [
      "\u001b[32m[I 2021-11-24 00:53:28,774]\u001b[0m Trial 31 finished with value: -0.0029559275005732323 and parameters: {'lambda_l1': 1.769970243309585, 'lambda_l2': 0.562807469566846, 'num_leaves': 2, 'feature_fraction': 0.5118563399701276, 'bagging_fraction': 0.8687420486109368, 'bagging_freq': 6, 'min_child_samples': 53}. Best is trial 31 with value: -0.0029559275005732323.\u001b[0m\n"
     ]
    },
    {
     "name": "stdout",
     "output_type": "stream",
     "text": [
      "Trial done: mae values on folds: [0.004163157701444611, 0.0025508744976714508, 0.0021537503026036343]\n",
      "[LightGBM] [Warning] bagging_fraction is set=0.8805087543482853, subsample=1.0 will be ignored. Current value: bagging_fraction=0.8805087543482853\n",
      "[LightGBM] [Warning] lambda_l2 is set=0.3810040376844322, reg_lambda=0.0 will be ignored. Current value: lambda_l2=0.3810040376844322\n",
      "[LightGBM] [Warning] lambda_l1 is set=2.028588550081682, reg_alpha=0.0 will be ignored. Current value: lambda_l1=2.028588550081682\n",
      "[LightGBM] [Warning] bagging_freq is set=5, subsample_freq=0 will be ignored. Current value: bagging_freq=5\n",
      "[LightGBM] [Warning] feature_fraction is set=0.5329275367197677, colsample_bytree=1.0 will be ignored. Current value: feature_fraction=0.5329275367197677\n",
      "[LightGBM] [Warning] bagging_fraction is set=0.8805087543482853, subsample=1.0 will be ignored. Current value: bagging_fraction=0.8805087543482853\n",
      "[LightGBM] [Warning] lambda_l2 is set=0.3810040376844322, reg_lambda=0.0 will be ignored. Current value: lambda_l2=0.3810040376844322\n",
      "[LightGBM] [Warning] lambda_l1 is set=2.028588550081682, reg_alpha=0.0 will be ignored. Current value: lambda_l1=2.028588550081682\n",
      "[LightGBM] [Warning] bagging_freq is set=5, subsample_freq=0 will be ignored. Current value: bagging_freq=5\n",
      "[LightGBM] [Warning] feature_fraction is set=0.5329275367197677, colsample_bytree=1.0 will be ignored. Current value: feature_fraction=0.5329275367197677\n",
      "[LightGBM] [Warning] bagging_fraction is set=0.8805087543482853, subsample=1.0 will be ignored. Current value: bagging_fraction=0.8805087543482853\n",
      "[LightGBM] [Warning] lambda_l2 is set=0.3810040376844322, reg_lambda=0.0 will be ignored. Current value: lambda_l2=0.3810040376844322\n",
      "[LightGBM] [Warning] lambda_l1 is set=2.028588550081682, reg_alpha=0.0 will be ignored. Current value: lambda_l1=2.028588550081682\n",
      "[LightGBM] [Warning] bagging_freq is set=5, subsample_freq=0 will be ignored. Current value: bagging_freq=5\n",
      "[LightGBM] [Warning] feature_fraction is set=0.5329275367197677, colsample_bytree=1.0 will be ignored. Current value: feature_fraction=0.5329275367197677\n"
     ]
    },
    {
     "name": "stderr",
     "output_type": "stream",
     "text": [
      "\u001b[32m[I 2021-11-24 00:54:00,389]\u001b[0m Trial 32 finished with value: -0.0029639938555036482 and parameters: {'lambda_l1': 2.028588550081682, 'lambda_l2': 0.3810040376844322, 'num_leaves': 24, 'feature_fraction': 0.5329275367197677, 'bagging_fraction': 0.8805087543482853, 'bagging_freq': 5, 'min_child_samples': 52}. Best is trial 31 with value: -0.0029559275005732323.\u001b[0m\n"
     ]
    },
    {
     "name": "stdout",
     "output_type": "stream",
     "text": [
      "Trial done: mae values on folds: [0.004179456506425625, 0.0025580371828744226, 0.0021544878772108964]\n",
      "[LightGBM] [Warning] bagging_fraction is set=0.8428081068466206, subsample=1.0 will be ignored. Current value: bagging_fraction=0.8428081068466206\n",
      "[LightGBM] [Warning] lambda_l2 is set=0.05073754622361064, reg_lambda=0.0 will be ignored. Current value: lambda_l2=0.05073754622361064\n",
      "[LightGBM] [Warning] lambda_l1 is set=0.22774828646519168, reg_alpha=0.0 will be ignored. Current value: lambda_l1=0.22774828646519168\n",
      "[LightGBM] [Warning] bagging_freq is set=6, subsample_freq=0 will be ignored. Current value: bagging_freq=6\n",
      "[LightGBM] [Warning] feature_fraction is set=0.5205931574217888, colsample_bytree=1.0 will be ignored. Current value: feature_fraction=0.5205931574217888\n",
      "[LightGBM] [Warning] bagging_fraction is set=0.8428081068466206, subsample=1.0 will be ignored. Current value: bagging_fraction=0.8428081068466206\n",
      "[LightGBM] [Warning] lambda_l2 is set=0.05073754622361064, reg_lambda=0.0 will be ignored. Current value: lambda_l2=0.05073754622361064\n",
      "[LightGBM] [Warning] lambda_l1 is set=0.22774828646519168, reg_alpha=0.0 will be ignored. Current value: lambda_l1=0.22774828646519168\n",
      "[LightGBM] [Warning] bagging_freq is set=6, subsample_freq=0 will be ignored. Current value: bagging_freq=6\n",
      "[LightGBM] [Warning] feature_fraction is set=0.5205931574217888, colsample_bytree=1.0 will be ignored. Current value: feature_fraction=0.5205931574217888\n",
      "[LightGBM] [Warning] bagging_fraction is set=0.8428081068466206, subsample=1.0 will be ignored. Current value: bagging_fraction=0.8428081068466206\n",
      "[LightGBM] [Warning] lambda_l2 is set=0.05073754622361064, reg_lambda=0.0 will be ignored. Current value: lambda_l2=0.05073754622361064\n",
      "[LightGBM] [Warning] lambda_l1 is set=0.22774828646519168, reg_alpha=0.0 will be ignored. Current value: lambda_l1=0.22774828646519168\n",
      "[LightGBM] [Warning] bagging_freq is set=6, subsample_freq=0 will be ignored. Current value: bagging_freq=6\n",
      "[LightGBM] [Warning] feature_fraction is set=0.5205931574217888, colsample_bytree=1.0 will be ignored. Current value: feature_fraction=0.5205931574217888\n"
     ]
    },
    {
     "name": "stderr",
     "output_type": "stream",
     "text": [
      "\u001b[32m[I 2021-11-24 00:54:32,849]\u001b[0m Trial 33 finished with value: -0.0029903908434853656 and parameters: {'lambda_l1': 0.22774828646519168, 'lambda_l2': 0.05073754622361064, 'num_leaves': 46, 'feature_fraction': 0.5205931574217888, 'bagging_fraction': 0.8428081068466206, 'bagging_freq': 6, 'min_child_samples': 76}. Best is trial 31 with value: -0.0029559275005732323.\u001b[0m\n"
     ]
    },
    {
     "name": "stdout",
     "output_type": "stream",
     "text": [
      "Trial done: mae values on folds: [0.004230699319962271, 0.0025737272859377262, 0.0021667459245561]\n",
      "[LightGBM] [Warning] bagging_fraction is set=0.9354861835350374, subsample=1.0 will be ignored. Current value: bagging_fraction=0.9354861835350374\n",
      "[LightGBM] [Warning] lambda_l2 is set=1.399012396503005, reg_lambda=0.0 will be ignored. Current value: lambda_l2=1.399012396503005\n",
      "[LightGBM] [Warning] lambda_l1 is set=1.984590148966226, reg_alpha=0.0 will be ignored. Current value: lambda_l1=1.984590148966226\n",
      "[LightGBM] [Warning] bagging_freq is set=7, subsample_freq=0 will be ignored. Current value: bagging_freq=7\n",
      "[LightGBM] [Warning] feature_fraction is set=0.5784840081861922, colsample_bytree=1.0 will be ignored. Current value: feature_fraction=0.5784840081861922\n",
      "[LightGBM] [Warning] bagging_fraction is set=0.9354861835350374, subsample=1.0 will be ignored. Current value: bagging_fraction=0.9354861835350374\n",
      "[LightGBM] [Warning] lambda_l2 is set=1.399012396503005, reg_lambda=0.0 will be ignored. Current value: lambda_l2=1.399012396503005\n",
      "[LightGBM] [Warning] lambda_l1 is set=1.984590148966226, reg_alpha=0.0 will be ignored. Current value: lambda_l1=1.984590148966226\n",
      "[LightGBM] [Warning] bagging_freq is set=7, subsample_freq=0 will be ignored. Current value: bagging_freq=7\n",
      "[LightGBM] [Warning] feature_fraction is set=0.5784840081861922, colsample_bytree=1.0 will be ignored. Current value: feature_fraction=0.5784840081861922\n",
      "[LightGBM] [Warning] bagging_fraction is set=0.9354861835350374, subsample=1.0 will be ignored. Current value: bagging_fraction=0.9354861835350374\n",
      "[LightGBM] [Warning] lambda_l2 is set=1.399012396503005, reg_lambda=0.0 will be ignored. Current value: lambda_l2=1.399012396503005\n",
      "[LightGBM] [Warning] lambda_l1 is set=1.984590148966226, reg_alpha=0.0 will be ignored. Current value: lambda_l1=1.984590148966226\n",
      "[LightGBM] [Warning] bagging_freq is set=7, subsample_freq=0 will be ignored. Current value: bagging_freq=7\n",
      "[LightGBM] [Warning] feature_fraction is set=0.5784840081861922, colsample_bytree=1.0 will be ignored. Current value: feature_fraction=0.5784840081861922\n"
     ]
    },
    {
     "name": "stderr",
     "output_type": "stream",
     "text": [
      "\u001b[32m[I 2021-11-24 00:54:59,352]\u001b[0m Trial 34 finished with value: -0.0029562036749576632 and parameters: {'lambda_l1': 1.984590148966226, 'lambda_l2': 1.399012396503005, 'num_leaves': 3, 'feature_fraction': 0.5784840081861922, 'bagging_fraction': 0.9354861835350374, 'bagging_freq': 7, 'min_child_samples': 73}. Best is trial 31 with value: -0.0029559275005732323.\u001b[0m\n"
     ]
    },
    {
     "name": "stdout",
     "output_type": "stream",
     "text": [
      "Trial done: mae values on folds: [0.004163575678777073, 0.0025515655568271738, 0.0021534697892687427]\n",
      "[LightGBM] [Warning] bagging_fraction is set=0.9577363379089281, subsample=1.0 will be ignored. Current value: bagging_fraction=0.9577363379089281\n",
      "[LightGBM] [Warning] lambda_l2 is set=0.19111710726517, reg_lambda=0.0 will be ignored. Current value: lambda_l2=0.19111710726517\n",
      "[LightGBM] [Warning] lambda_l1 is set=0.012880751170081375, reg_alpha=0.0 will be ignored. Current value: lambda_l1=0.012880751170081375\n",
      "[LightGBM] [Warning] bagging_freq is set=6, subsample_freq=0 will be ignored. Current value: bagging_freq=6\n",
      "[LightGBM] [Warning] feature_fraction is set=0.6378860072156203, colsample_bytree=1.0 will be ignored. Current value: feature_fraction=0.6378860072156203\n",
      "[LightGBM] [Warning] bagging_fraction is set=0.9577363379089281, subsample=1.0 will be ignored. Current value: bagging_fraction=0.9577363379089281\n",
      "[LightGBM] [Warning] lambda_l2 is set=0.19111710726517, reg_lambda=0.0 will be ignored. Current value: lambda_l2=0.19111710726517\n",
      "[LightGBM] [Warning] lambda_l1 is set=0.012880751170081375, reg_alpha=0.0 will be ignored. Current value: lambda_l1=0.012880751170081375\n",
      "[LightGBM] [Warning] bagging_freq is set=6, subsample_freq=0 will be ignored. Current value: bagging_freq=6\n",
      "[LightGBM] [Warning] feature_fraction is set=0.6378860072156203, colsample_bytree=1.0 will be ignored. Current value: feature_fraction=0.6378860072156203\n",
      "[LightGBM] [Warning] bagging_fraction is set=0.9577363379089281, subsample=1.0 will be ignored. Current value: bagging_fraction=0.9577363379089281\n",
      "[LightGBM] [Warning] lambda_l2 is set=0.19111710726517, reg_lambda=0.0 will be ignored. Current value: lambda_l2=0.19111710726517\n",
      "[LightGBM] [Warning] lambda_l1 is set=0.012880751170081375, reg_alpha=0.0 will be ignored. Current value: lambda_l1=0.012880751170081375\n",
      "[LightGBM] [Warning] bagging_freq is set=6, subsample_freq=0 will be ignored. Current value: bagging_freq=6\n",
      "[LightGBM] [Warning] feature_fraction is set=0.6378860072156203, colsample_bytree=1.0 will be ignored. Current value: feature_fraction=0.6378860072156203\n"
     ]
    },
    {
     "name": "stderr",
     "output_type": "stream",
     "text": [
      "\u001b[32m[I 2021-11-24 00:55:29,317]\u001b[0m Trial 35 finished with value: -0.0029863758429324086 and parameters: {'lambda_l1': 0.012880751170081375, 'lambda_l2': 0.19111710726517, 'num_leaves': 26, 'feature_fraction': 0.6378860072156203, 'bagging_fraction': 0.9577363379089281, 'bagging_freq': 6, 'min_child_samples': 54}. Best is trial 31 with value: -0.0029559275005732323.\u001b[0m\n"
     ]
    },
    {
     "name": "stdout",
     "output_type": "stream",
     "text": [
      "Trial done: mae values on folds: [0.004226245675639685, 0.002568551195240697, 0.0021643306579168433]\n",
      "[LightGBM] [Warning] bagging_fraction is set=0.7299284845681768, subsample=1.0 will be ignored. Current value: bagging_fraction=0.7299284845681768\n",
      "[LightGBM] [Warning] lambda_l2 is set=0.26945897274394065, reg_lambda=0.0 will be ignored. Current value: lambda_l2=0.26945897274394065\n",
      "[LightGBM] [Warning] lambda_l1 is set=0.037181427048104294, reg_alpha=0.0 will be ignored. Current value: lambda_l1=0.037181427048104294\n",
      "[LightGBM] [Warning] bagging_freq is set=4, subsample_freq=0 will be ignored. Current value: bagging_freq=4\n",
      "[LightGBM] [Warning] feature_fraction is set=0.46395072695224454, colsample_bytree=1.0 will be ignored. Current value: feature_fraction=0.46395072695224454\n",
      "[LightGBM] [Warning] bagging_fraction is set=0.7299284845681768, subsample=1.0 will be ignored. Current value: bagging_fraction=0.7299284845681768\n",
      "[LightGBM] [Warning] lambda_l2 is set=0.26945897274394065, reg_lambda=0.0 will be ignored. Current value: lambda_l2=0.26945897274394065\n",
      "[LightGBM] [Warning] lambda_l1 is set=0.037181427048104294, reg_alpha=0.0 will be ignored. Current value: lambda_l1=0.037181427048104294\n",
      "[LightGBM] [Warning] bagging_freq is set=4, subsample_freq=0 will be ignored. Current value: bagging_freq=4\n",
      "[LightGBM] [Warning] feature_fraction is set=0.46395072695224454, colsample_bytree=1.0 will be ignored. Current value: feature_fraction=0.46395072695224454\n",
      "[LightGBM] [Warning] bagging_fraction is set=0.7299284845681768, subsample=1.0 will be ignored. Current value: bagging_fraction=0.7299284845681768\n",
      "[LightGBM] [Warning] lambda_l2 is set=0.26945897274394065, reg_lambda=0.0 will be ignored. Current value: lambda_l2=0.26945897274394065\n",
      "[LightGBM] [Warning] lambda_l1 is set=0.037181427048104294, reg_alpha=0.0 will be ignored. Current value: lambda_l1=0.037181427048104294\n",
      "[LightGBM] [Warning] bagging_freq is set=4, subsample_freq=0 will be ignored. Current value: bagging_freq=4\n",
      "[LightGBM] [Warning] feature_fraction is set=0.46395072695224454, colsample_bytree=1.0 will be ignored. Current value: feature_fraction=0.46395072695224454\n"
     ]
    },
    {
     "name": "stderr",
     "output_type": "stream",
     "text": [
      "\u001b[32m[I 2021-11-24 00:55:56,812]\u001b[0m Trial 36 finished with value: -0.0029727749694751578 and parameters: {'lambda_l1': 0.037181427048104294, 'lambda_l2': 0.26945897274394065, 'num_leaves': 14, 'feature_fraction': 0.46395072695224454, 'bagging_fraction': 0.7299284845681768, 'bagging_freq': 4, 'min_child_samples': 69}. Best is trial 31 with value: -0.0029559275005732323.\u001b[0m\n"
     ]
    },
    {
     "name": "stdout",
     "output_type": "stream",
     "text": [
      "Trial done: mae values on folds: [0.0042027577226449175, 0.0025580865432151046, 0.002157480642565452]\n",
      "[LightGBM] [Warning] bagging_fraction is set=0.9954449567254174, subsample=1.0 will be ignored. Current value: bagging_fraction=0.9954449567254174\n",
      "[LightGBM] [Warning] lambda_l2 is set=0.042851290338613124, reg_lambda=0.0 will be ignored. Current value: lambda_l2=0.042851290338613124\n",
      "[LightGBM] [Warning] lambda_l1 is set=2.3205243035277174, reg_alpha=0.0 will be ignored. Current value: lambda_l1=2.3205243035277174\n",
      "[LightGBM] [Warning] bagging_freq is set=5, subsample_freq=0 will be ignored. Current value: bagging_freq=5\n",
      "[LightGBM] [Warning] feature_fraction is set=0.5094607588394199, colsample_bytree=1.0 will be ignored. Current value: feature_fraction=0.5094607588394199\n",
      "[LightGBM] [Warning] bagging_fraction is set=0.9954449567254174, subsample=1.0 will be ignored. Current value: bagging_fraction=0.9954449567254174\n",
      "[LightGBM] [Warning] lambda_l2 is set=0.042851290338613124, reg_lambda=0.0 will be ignored. Current value: lambda_l2=0.042851290338613124\n",
      "[LightGBM] [Warning] lambda_l1 is set=2.3205243035277174, reg_alpha=0.0 will be ignored. Current value: lambda_l1=2.3205243035277174\n",
      "[LightGBM] [Warning] bagging_freq is set=5, subsample_freq=0 will be ignored. Current value: bagging_freq=5\n",
      "[LightGBM] [Warning] feature_fraction is set=0.5094607588394199, colsample_bytree=1.0 will be ignored. Current value: feature_fraction=0.5094607588394199\n",
      "[LightGBM] [Warning] bagging_fraction is set=0.9954449567254174, subsample=1.0 will be ignored. Current value: bagging_fraction=0.9954449567254174\n",
      "[LightGBM] [Warning] lambda_l2 is set=0.042851290338613124, reg_lambda=0.0 will be ignored. Current value: lambda_l2=0.042851290338613124\n",
      "[LightGBM] [Warning] lambda_l1 is set=2.3205243035277174, reg_alpha=0.0 will be ignored. Current value: lambda_l1=2.3205243035277174\n",
      "[LightGBM] [Warning] bagging_freq is set=5, subsample_freq=0 will be ignored. Current value: bagging_freq=5\n",
      "[LightGBM] [Warning] feature_fraction is set=0.5094607588394199, colsample_bytree=1.0 will be ignored. Current value: feature_fraction=0.5094607588394199\n"
     ]
    },
    {
     "name": "stderr",
     "output_type": "stream",
     "text": [
      "\u001b[32m[I 2021-11-24 00:56:34,664]\u001b[0m Trial 37 finished with value: -0.002967041717995108 and parameters: {'lambda_l1': 2.3205243035277174, 'lambda_l2': 0.042851290338613124, 'num_leaves': 64, 'feature_fraction': 0.5094607588394199, 'bagging_fraction': 0.9954449567254174, 'bagging_freq': 5, 'min_child_samples': 33}. Best is trial 31 with value: -0.0029559275005732323.\u001b[0m\n"
     ]
    },
    {
     "name": "stdout",
     "output_type": "stream",
     "text": [
      "Trial done: mae values on folds: [0.004185011028628004, 0.0025608525880755502, 0.002155261537281769]\n",
      "[LightGBM] [Warning] bagging_fraction is set=0.791094395279651, subsample=1.0 will be ignored. Current value: bagging_fraction=0.791094395279651\n",
      "[LightGBM] [Warning] lambda_l2 is set=6.792961760960132e-06, reg_lambda=0.0 will be ignored. Current value: lambda_l2=6.792961760960132e-06\n",
      "[LightGBM] [Warning] lambda_l1 is set=0.4433090564294346, reg_alpha=0.0 will be ignored. Current value: lambda_l1=0.4433090564294346\n",
      "[LightGBM] [Warning] bagging_freq is set=6, subsample_freq=0 will be ignored. Current value: bagging_freq=6\n",
      "[LightGBM] [Warning] feature_fraction is set=0.5609240213598584, colsample_bytree=1.0 will be ignored. Current value: feature_fraction=0.5609240213598584\n",
      "[LightGBM] [Warning] bagging_fraction is set=0.791094395279651, subsample=1.0 will be ignored. Current value: bagging_fraction=0.791094395279651\n",
      "[LightGBM] [Warning] lambda_l2 is set=6.792961760960132e-06, reg_lambda=0.0 will be ignored. Current value: lambda_l2=6.792961760960132e-06\n",
      "[LightGBM] [Warning] lambda_l1 is set=0.4433090564294346, reg_alpha=0.0 will be ignored. Current value: lambda_l1=0.4433090564294346\n",
      "[LightGBM] [Warning] bagging_freq is set=6, subsample_freq=0 will be ignored. Current value: bagging_freq=6\n",
      "[LightGBM] [Warning] feature_fraction is set=0.5609240213598584, colsample_bytree=1.0 will be ignored. Current value: feature_fraction=0.5609240213598584\n",
      "[LightGBM] [Warning] bagging_fraction is set=0.791094395279651, subsample=1.0 will be ignored. Current value: bagging_fraction=0.791094395279651\n",
      "[LightGBM] [Warning] lambda_l2 is set=6.792961760960132e-06, reg_lambda=0.0 will be ignored. Current value: lambda_l2=6.792961760960132e-06\n",
      "[LightGBM] [Warning] lambda_l1 is set=0.4433090564294346, reg_alpha=0.0 will be ignored. Current value: lambda_l1=0.4433090564294346\n",
      "[LightGBM] [Warning] bagging_freq is set=6, subsample_freq=0 will be ignored. Current value: bagging_freq=6\n",
      "[LightGBM] [Warning] feature_fraction is set=0.5609240213598584, colsample_bytree=1.0 will be ignored. Current value: feature_fraction=0.5609240213598584\n"
     ]
    },
    {
     "name": "stderr",
     "output_type": "stream",
     "text": [
      "\u001b[32m[I 2021-11-24 00:57:16,834]\u001b[0m Trial 38 finished with value: -0.003001901390502972 and parameters: {'lambda_l1': 0.4433090564294346, 'lambda_l2': 6.792961760960132e-06, 'num_leaves': 138, 'feature_fraction': 0.5609240213598584, 'bagging_fraction': 0.791094395279651, 'bagging_freq': 6, 'min_child_samples': 49}. Best is trial 31 with value: -0.0029559275005732323.\u001b[0m\n"
     ]
    },
    {
     "name": "stdout",
     "output_type": "stream",
     "text": [
      "Trial done: mae values on folds: [0.004255703781664265, 0.002578869919464725, 0.0021711304703799263]\n",
      "[LightGBM] [Warning] bagging_fraction is set=0.8742408527657537, subsample=1.0 will be ignored. Current value: bagging_fraction=0.8742408527657537\n",
      "[LightGBM] [Warning] lambda_l2 is set=0.0002393066900367484, reg_lambda=0.0 will be ignored. Current value: lambda_l2=0.0002393066900367484\n",
      "[LightGBM] [Warning] lambda_l1 is set=0.2200551847397939, reg_alpha=0.0 will be ignored. Current value: lambda_l1=0.2200551847397939\n",
      "[LightGBM] [Warning] bagging_freq is set=3, subsample_freq=0 will be ignored. Current value: bagging_freq=3\n",
      "[LightGBM] [Warning] feature_fraction is set=0.5362669000005206, colsample_bytree=1.0 will be ignored. Current value: feature_fraction=0.5362669000005206\n",
      "[LightGBM] [Warning] bagging_fraction is set=0.8742408527657537, subsample=1.0 will be ignored. Current value: bagging_fraction=0.8742408527657537\n",
      "[LightGBM] [Warning] lambda_l2 is set=0.0002393066900367484, reg_lambda=0.0 will be ignored. Current value: lambda_l2=0.0002393066900367484\n",
      "[LightGBM] [Warning] lambda_l1 is set=0.2200551847397939, reg_alpha=0.0 will be ignored. Current value: lambda_l1=0.2200551847397939\n",
      "[LightGBM] [Warning] bagging_freq is set=3, subsample_freq=0 will be ignored. Current value: bagging_freq=3\n",
      "[LightGBM] [Warning] feature_fraction is set=0.5362669000005206, colsample_bytree=1.0 will be ignored. Current value: feature_fraction=0.5362669000005206\n",
      "[LightGBM] [Warning] bagging_fraction is set=0.8742408527657537, subsample=1.0 will be ignored. Current value: bagging_fraction=0.8742408527657537\n",
      "[LightGBM] [Warning] lambda_l2 is set=0.0002393066900367484, reg_lambda=0.0 will be ignored. Current value: lambda_l2=0.0002393066900367484\n",
      "[LightGBM] [Warning] lambda_l1 is set=0.2200551847397939, reg_alpha=0.0 will be ignored. Current value: lambda_l1=0.2200551847397939\n",
      "[LightGBM] [Warning] bagging_freq is set=3, subsample_freq=0 will be ignored. Current value: bagging_freq=3\n",
      "[LightGBM] [Warning] feature_fraction is set=0.5362669000005206, colsample_bytree=1.0 will be ignored. Current value: feature_fraction=0.5362669000005206\n"
     ]
    },
    {
     "name": "stderr",
     "output_type": "stream",
     "text": [
      "\u001b[32m[I 2021-11-24 00:57:57,342]\u001b[0m Trial 39 finished with value: -0.003011044622748407 and parameters: {'lambda_l1': 0.2200551847397939, 'lambda_l2': 0.0002393066900367484, 'num_leaves': 153, 'feature_fraction': 0.5362669000005206, 'bagging_fraction': 0.8742408527657537, 'bagging_freq': 3, 'min_child_samples': 62}. Best is trial 31 with value: -0.0029559275005732323.\u001b[0m\n"
     ]
    },
    {
     "name": "stdout",
     "output_type": "stream",
     "text": [
      "Trial done: mae values on folds: [0.004264092369979182, 0.002588769472740613, 0.002180272025525427]\n",
      "[LightGBM] [Warning] bagging_fraction is set=0.7417804509503206, subsample=1.0 will be ignored. Current value: bagging_fraction=0.7417804509503206\n",
      "[LightGBM] [Warning] lambda_l2 is set=0.025243832021170073, reg_lambda=0.0 will be ignored. Current value: lambda_l2=0.025243832021170073\n",
      "[LightGBM] [Warning] lambda_l1 is set=0.0012062438547814063, reg_alpha=0.0 will be ignored. Current value: lambda_l1=0.0012062438547814063\n",
      "[LightGBM] [Warning] bagging_freq is set=7, subsample_freq=0 will be ignored. Current value: bagging_freq=7\n",
      "[LightGBM] [Warning] feature_fraction is set=0.9907719903802765, colsample_bytree=1.0 will be ignored. Current value: feature_fraction=0.9907719903802765\n",
      "[LightGBM] [Warning] bagging_fraction is set=0.7417804509503206, subsample=1.0 will be ignored. Current value: bagging_fraction=0.7417804509503206\n",
      "[LightGBM] [Warning] lambda_l2 is set=0.025243832021170073, reg_lambda=0.0 will be ignored. Current value: lambda_l2=0.025243832021170073\n",
      "[LightGBM] [Warning] lambda_l1 is set=0.0012062438547814063, reg_alpha=0.0 will be ignored. Current value: lambda_l1=0.0012062438547814063\n",
      "[LightGBM] [Warning] bagging_freq is set=7, subsample_freq=0 will be ignored. Current value: bagging_freq=7\n",
      "[LightGBM] [Warning] feature_fraction is set=0.9907719903802765, colsample_bytree=1.0 will be ignored. Current value: feature_fraction=0.9907719903802765\n",
      "[LightGBM] [Warning] bagging_fraction is set=0.7417804509503206, subsample=1.0 will be ignored. Current value: bagging_fraction=0.7417804509503206\n",
      "[LightGBM] [Warning] lambda_l2 is set=0.025243832021170073, reg_lambda=0.0 will be ignored. Current value: lambda_l2=0.025243832021170073\n",
      "[LightGBM] [Warning] lambda_l1 is set=0.0012062438547814063, reg_alpha=0.0 will be ignored. Current value: lambda_l1=0.0012062438547814063\n",
      "[LightGBM] [Warning] bagging_freq is set=7, subsample_freq=0 will be ignored. Current value: bagging_freq=7\n",
      "[LightGBM] [Warning] feature_fraction is set=0.9907719903802765, colsample_bytree=1.0 will be ignored. Current value: feature_fraction=0.9907719903802765\n"
     ]
    },
    {
     "name": "stderr",
     "output_type": "stream",
     "text": [
      "\u001b[32m[I 2021-11-24 00:58:27,489]\u001b[0m Trial 40 finished with value: -0.0029947496465266865 and parameters: {'lambda_l1': 0.0012062438547814063, 'lambda_l2': 0.025243832021170073, 'num_leaves': 39, 'feature_fraction': 0.9907719903802765, 'bagging_fraction': 0.7417804509503206, 'bagging_freq': 7, 'min_child_samples': 59}. Best is trial 31 with value: -0.0029559275005732323.\u001b[0m\n"
     ]
    },
    {
     "name": "stdout",
     "output_type": "stream",
     "text": [
      "Trial done: mae values on folds: [0.004236479817436301, 0.002579067967894636, 0.0021687011542491225]\n",
      "[LightGBM] [Warning] bagging_fraction is set=0.669787059995949, subsample=1.0 will be ignored. Current value: bagging_fraction=0.669787059995949\n",
      "[LightGBM] [Warning] lambda_l2 is set=4.301436293929101, reg_lambda=0.0 will be ignored. Current value: lambda_l2=4.301436293929101\n",
      "[LightGBM] [Warning] lambda_l1 is set=3.7477977062156893, reg_alpha=0.0 will be ignored. Current value: lambda_l1=3.7477977062156893\n",
      "[LightGBM] [Warning] bagging_freq is set=6, subsample_freq=0 will be ignored. Current value: bagging_freq=6\n",
      "[LightGBM] [Warning] feature_fraction is set=0.4318386363460602, colsample_bytree=1.0 will be ignored. Current value: feature_fraction=0.4318386363460602\n",
      "[LightGBM] [Warning] bagging_fraction is set=0.669787059995949, subsample=1.0 will be ignored. Current value: bagging_fraction=0.669787059995949\n",
      "[LightGBM] [Warning] lambda_l2 is set=4.301436293929101, reg_lambda=0.0 will be ignored. Current value: lambda_l2=4.301436293929101\n",
      "[LightGBM] [Warning] lambda_l1 is set=3.7477977062156893, reg_alpha=0.0 will be ignored. Current value: lambda_l1=3.7477977062156893\n",
      "[LightGBM] [Warning] bagging_freq is set=6, subsample_freq=0 will be ignored. Current value: bagging_freq=6\n",
      "[LightGBM] [Warning] feature_fraction is set=0.4318386363460602, colsample_bytree=1.0 will be ignored. Current value: feature_fraction=0.4318386363460602\n",
      "[LightGBM] [Warning] bagging_fraction is set=0.669787059995949, subsample=1.0 will be ignored. Current value: bagging_fraction=0.669787059995949\n",
      "[LightGBM] [Warning] lambda_l2 is set=4.301436293929101, reg_lambda=0.0 will be ignored. Current value: lambda_l2=4.301436293929101\n",
      "[LightGBM] [Warning] lambda_l1 is set=3.7477977062156893, reg_alpha=0.0 will be ignored. Current value: lambda_l1=3.7477977062156893\n",
      "[LightGBM] [Warning] bagging_freq is set=6, subsample_freq=0 will be ignored. Current value: bagging_freq=6\n",
      "[LightGBM] [Warning] feature_fraction is set=0.4318386363460602, colsample_bytree=1.0 will be ignored. Current value: feature_fraction=0.4318386363460602\n"
     ]
    },
    {
     "name": "stderr",
     "output_type": "stream",
     "text": [
      "\u001b[32m[I 2021-11-24 00:58:53,516]\u001b[0m Trial 41 finished with value: -0.0029560540213638595 and parameters: {'lambda_l1': 3.7477977062156893, 'lambda_l2': 4.301436293929101, 'num_leaves': 2, 'feature_fraction': 0.4318386363460602, 'bagging_fraction': 0.669787059995949, 'bagging_freq': 6, 'min_child_samples': 11}. Best is trial 31 with value: -0.0029559275005732323.\u001b[0m\n"
     ]
    },
    {
     "name": "stdout",
     "output_type": "stream",
     "text": [
      "Trial done: mae values on folds: [0.004163708435282259, 0.0025509656780425645, 0.002153487950766755]\n",
      "[LightGBM] [Warning] bagging_fraction is set=0.6785189605955749, subsample=1.0 will be ignored. Current value: bagging_fraction=0.6785189605955749\n",
      "[LightGBM] [Warning] lambda_l2 is set=2.255088546347837, reg_lambda=0.0 will be ignored. Current value: lambda_l2=2.255088546347837\n",
      "[LightGBM] [Warning] lambda_l1 is set=2.7196840324867875, reg_alpha=0.0 will be ignored. Current value: lambda_l1=2.7196840324867875\n",
      "[LightGBM] [Warning] bagging_freq is set=6, subsample_freq=0 will be ignored. Current value: bagging_freq=6\n",
      "[LightGBM] [Warning] feature_fraction is set=0.4294858507055205, colsample_bytree=1.0 will be ignored. Current value: feature_fraction=0.4294858507055205\n",
      "[LightGBM] [Warning] bagging_fraction is set=0.6785189605955749, subsample=1.0 will be ignored. Current value: bagging_fraction=0.6785189605955749\n",
      "[LightGBM] [Warning] lambda_l2 is set=2.255088546347837, reg_lambda=0.0 will be ignored. Current value: lambda_l2=2.255088546347837\n",
      "[LightGBM] [Warning] lambda_l1 is set=2.7196840324867875, reg_alpha=0.0 will be ignored. Current value: lambda_l1=2.7196840324867875\n",
      "[LightGBM] [Warning] bagging_freq is set=6, subsample_freq=0 will be ignored. Current value: bagging_freq=6\n",
      "[LightGBM] [Warning] feature_fraction is set=0.4294858507055205, colsample_bytree=1.0 will be ignored. Current value: feature_fraction=0.4294858507055205\n",
      "[LightGBM] [Warning] bagging_fraction is set=0.6785189605955749, subsample=1.0 will be ignored. Current value: bagging_fraction=0.6785189605955749\n",
      "[LightGBM] [Warning] lambda_l2 is set=2.255088546347837, reg_lambda=0.0 will be ignored. Current value: lambda_l2=2.255088546347837\n",
      "[LightGBM] [Warning] lambda_l1 is set=2.7196840324867875, reg_alpha=0.0 will be ignored. Current value: lambda_l1=2.7196840324867875\n",
      "[LightGBM] [Warning] bagging_freq is set=6, subsample_freq=0 will be ignored. Current value: bagging_freq=6\n",
      "[LightGBM] [Warning] feature_fraction is set=0.4294858507055205, colsample_bytree=1.0 will be ignored. Current value: feature_fraction=0.4294858507055205\n"
     ]
    },
    {
     "name": "stderr",
     "output_type": "stream",
     "text": [
      "\u001b[32m[I 2021-11-24 00:59:22,839]\u001b[0m Trial 42 finished with value: -0.002960824015396924 and parameters: {'lambda_l1': 2.7196840324867875, 'lambda_l2': 2.255088546347837, 'num_leaves': 14, 'feature_fraction': 0.4294858507055205, 'bagging_fraction': 0.6785189605955749, 'bagging_freq': 6, 'min_child_samples': 35}. Best is trial 31 with value: -0.0029559275005732323.\u001b[0m\n"
     ]
    },
    {
     "name": "stdout",
     "output_type": "stream",
     "text": [
      "Trial done: mae values on folds: [0.004170665180999533, 0.0025578140092315333, 0.0021539928559597054]\n",
      "[LightGBM] [Warning] bagging_fraction is set=0.7979316348128164, subsample=1.0 will be ignored. Current value: bagging_fraction=0.7979316348128164\n",
      "[LightGBM] [Warning] lambda_l2 is set=0.9633316588489059, reg_lambda=0.0 will be ignored. Current value: lambda_l2=0.9633316588489059\n",
      "[LightGBM] [Warning] lambda_l1 is set=0.39708597750654273, reg_alpha=0.0 will be ignored. Current value: lambda_l1=0.39708597750654273\n",
      "[LightGBM] [Warning] bagging_freq is set=5, subsample_freq=0 will be ignored. Current value: bagging_freq=5\n",
      "[LightGBM] [Warning] feature_fraction is set=0.46738503362926925, colsample_bytree=1.0 will be ignored. Current value: feature_fraction=0.46738503362926925\n",
      "[LightGBM] [Warning] bagging_fraction is set=0.7979316348128164, subsample=1.0 will be ignored. Current value: bagging_fraction=0.7979316348128164\n",
      "[LightGBM] [Warning] lambda_l2 is set=0.9633316588489059, reg_lambda=0.0 will be ignored. Current value: lambda_l2=0.9633316588489059\n",
      "[LightGBM] [Warning] lambda_l1 is set=0.39708597750654273, reg_alpha=0.0 will be ignored. Current value: lambda_l1=0.39708597750654273\n",
      "[LightGBM] [Warning] bagging_freq is set=5, subsample_freq=0 will be ignored. Current value: bagging_freq=5\n",
      "[LightGBM] [Warning] feature_fraction is set=0.46738503362926925, colsample_bytree=1.0 will be ignored. Current value: feature_fraction=0.46738503362926925\n",
      "[LightGBM] [Warning] bagging_fraction is set=0.7979316348128164, subsample=1.0 will be ignored. Current value: bagging_fraction=0.7979316348128164\n",
      "[LightGBM] [Warning] lambda_l2 is set=0.9633316588489059, reg_lambda=0.0 will be ignored. Current value: lambda_l2=0.9633316588489059\n",
      "[LightGBM] [Warning] lambda_l1 is set=0.39708597750654273, reg_alpha=0.0 will be ignored. Current value: lambda_l1=0.39708597750654273\n",
      "[LightGBM] [Warning] bagging_freq is set=5, subsample_freq=0 will be ignored. Current value: bagging_freq=5\n",
      "[LightGBM] [Warning] feature_fraction is set=0.46738503362926925, colsample_bytree=1.0 will be ignored. Current value: feature_fraction=0.46738503362926925\n"
     ]
    },
    {
     "name": "stderr",
     "output_type": "stream",
     "text": [
      "\u001b[32m[I 2021-11-24 00:59:52,764]\u001b[0m Trial 43 finished with value: -0.0029738193889566546 and parameters: {'lambda_l1': 0.39708597750654273, 'lambda_l2': 0.9633316588489059, 'num_leaves': 30, 'feature_fraction': 0.46738503362926925, 'bagging_fraction': 0.7979316348128164, 'bagging_freq': 5, 'min_child_samples': 9}. Best is trial 31 with value: -0.0029559275005732323.\u001b[0m\n"
     ]
    },
    {
     "name": "stdout",
     "output_type": "stream",
     "text": [
      "Trial done: mae values on folds: [0.004199760849318735, 0.0025613005106351005, 0.0021603968069161274]\n",
      "[LightGBM] [Warning] bagging_fraction is set=0.7250030966631437, subsample=1.0 will be ignored. Current value: bagging_fraction=0.7250030966631437\n",
      "[LightGBM] [Warning] lambda_l2 is set=4.1843038866847255, reg_lambda=0.0 will be ignored. Current value: lambda_l2=4.1843038866847255\n",
      "[LightGBM] [Warning] lambda_l1 is set=2.8965157011214715, reg_alpha=0.0 will be ignored. Current value: lambda_l1=2.8965157011214715\n",
      "[LightGBM] [Warning] bagging_freq is set=6, subsample_freq=0 will be ignored. Current value: bagging_freq=6\n",
      "[LightGBM] [Warning] feature_fraction is set=0.42934352642696855, colsample_bytree=1.0 will be ignored. Current value: feature_fraction=0.42934352642696855\n",
      "[LightGBM] [Warning] bagging_fraction is set=0.7250030966631437, subsample=1.0 will be ignored. Current value: bagging_fraction=0.7250030966631437\n",
      "[LightGBM] [Warning] lambda_l2 is set=4.1843038866847255, reg_lambda=0.0 will be ignored. Current value: lambda_l2=4.1843038866847255\n",
      "[LightGBM] [Warning] lambda_l1 is set=2.8965157011214715, reg_alpha=0.0 will be ignored. Current value: lambda_l1=2.8965157011214715\n",
      "[LightGBM] [Warning] bagging_freq is set=6, subsample_freq=0 will be ignored. Current value: bagging_freq=6\n",
      "[LightGBM] [Warning] feature_fraction is set=0.42934352642696855, colsample_bytree=1.0 will be ignored. Current value: feature_fraction=0.42934352642696855\n",
      "[LightGBM] [Warning] bagging_fraction is set=0.7250030966631437, subsample=1.0 will be ignored. Current value: bagging_fraction=0.7250030966631437\n",
      "[LightGBM] [Warning] lambda_l2 is set=4.1843038866847255, reg_lambda=0.0 will be ignored. Current value: lambda_l2=4.1843038866847255\n",
      "[LightGBM] [Warning] lambda_l1 is set=2.8965157011214715, reg_alpha=0.0 will be ignored. Current value: lambda_l1=2.8965157011214715\n",
      "[LightGBM] [Warning] bagging_freq is set=6, subsample_freq=0 will be ignored. Current value: bagging_freq=6\n",
      "[LightGBM] [Warning] feature_fraction is set=0.42934352642696855, colsample_bytree=1.0 will be ignored. Current value: feature_fraction=0.42934352642696855\n"
     ]
    },
    {
     "name": "stderr",
     "output_type": "stream",
     "text": [
      "\u001b[32m[I 2021-11-24 01:00:19,198]\u001b[0m Trial 44 finished with value: -0.0029568844879656834 and parameters: {'lambda_l1': 2.8965157011214715, 'lambda_l2': 4.1843038866847255, 'num_leaves': 4, 'feature_fraction': 0.42934352642696855, 'bagging_fraction': 0.7250030966631437, 'bagging_freq': 6, 'min_child_samples': 20}. Best is trial 31 with value: -0.0029559275005732323.\u001b[0m\n"
     ]
    },
    {
     "name": "stdout",
     "output_type": "stream",
     "text": [
      "Trial done: mae values on folds: [0.004164072140859319, 0.0025531109213916005, 0.0021534704016461306]\n",
      "[LightGBM] [Warning] bagging_fraction is set=0.769359999140699, subsample=1.0 will be ignored. Current value: bagging_fraction=0.769359999140699\n",
      "[LightGBM] [Warning] lambda_l2 is set=0.3863471137938794, reg_lambda=0.0 will be ignored. Current value: lambda_l2=0.3863471137938794\n",
      "[LightGBM] [Warning] lambda_l1 is set=0.058879516313663956, reg_alpha=0.0 will be ignored. Current value: lambda_l1=0.058879516313663956\n",
      "[LightGBM] [Warning] bagging_freq is set=4, subsample_freq=0 will be ignored. Current value: bagging_freq=4\n",
      "[LightGBM] [Warning] feature_fraction is set=0.5704278808125809, colsample_bytree=1.0 will be ignored. Current value: feature_fraction=0.5704278808125809\n",
      "[LightGBM] [Warning] bagging_fraction is set=0.769359999140699, subsample=1.0 will be ignored. Current value: bagging_fraction=0.769359999140699\n",
      "[LightGBM] [Warning] lambda_l2 is set=0.3863471137938794, reg_lambda=0.0 will be ignored. Current value: lambda_l2=0.3863471137938794\n",
      "[LightGBM] [Warning] lambda_l1 is set=0.058879516313663956, reg_alpha=0.0 will be ignored. Current value: lambda_l1=0.058879516313663956\n",
      "[LightGBM] [Warning] bagging_freq is set=4, subsample_freq=0 will be ignored. Current value: bagging_freq=4\n",
      "[LightGBM] [Warning] feature_fraction is set=0.5704278808125809, colsample_bytree=1.0 will be ignored. Current value: feature_fraction=0.5704278808125809\n",
      "[LightGBM] [Warning] bagging_fraction is set=0.769359999140699, subsample=1.0 will be ignored. Current value: bagging_fraction=0.769359999140699\n",
      "[LightGBM] [Warning] lambda_l2 is set=0.3863471137938794, reg_lambda=0.0 will be ignored. Current value: lambda_l2=0.3863471137938794\n",
      "[LightGBM] [Warning] lambda_l1 is set=0.058879516313663956, reg_alpha=0.0 will be ignored. Current value: lambda_l1=0.058879516313663956\n",
      "[LightGBM] [Warning] bagging_freq is set=4, subsample_freq=0 will be ignored. Current value: bagging_freq=4\n",
      "[LightGBM] [Warning] feature_fraction is set=0.5704278808125809, colsample_bytree=1.0 will be ignored. Current value: feature_fraction=0.5704278808125809\n"
     ]
    },
    {
     "name": "stderr",
     "output_type": "stream",
     "text": [
      "\u001b[32m[I 2021-11-24 01:00:47,313]\u001b[0m Trial 45 finished with value: -0.002974945523496786 and parameters: {'lambda_l1': 0.058879516313663956, 'lambda_l2': 0.3863471137938794, 'num_leaves': 16, 'feature_fraction': 0.5704278808125809, 'bagging_fraction': 0.769359999140699, 'bagging_freq': 4, 'min_child_samples': 27}. Best is trial 31 with value: -0.0029559275005732323.\u001b[0m\n"
     ]
    },
    {
     "name": "stdout",
     "output_type": "stream",
     "text": [
      "Trial done: mae values on folds: [0.004209456637044038, 0.0025571696634198206, 0.0021582102700264997]\n",
      "[LightGBM] [Warning] bagging_fraction is set=0.552881748317033, subsample=1.0 will be ignored. Current value: bagging_fraction=0.552881748317033\n",
      "[LightGBM] [Warning] lambda_l2 is set=9.3535603318299, reg_lambda=0.0 will be ignored. Current value: lambda_l2=9.3535603318299\n",
      "[LightGBM] [Warning] lambda_l1 is set=9.633873591668652e-05, reg_alpha=0.0 will be ignored. Current value: lambda_l1=9.633873591668652e-05\n",
      "[LightGBM] [Warning] bagging_freq is set=7, subsample_freq=0 will be ignored. Current value: bagging_freq=7\n",
      "[LightGBM] [Warning] feature_fraction is set=0.5056393185522995, colsample_bytree=1.0 will be ignored. Current value: feature_fraction=0.5056393185522995\n",
      "[LightGBM] [Warning] bagging_fraction is set=0.552881748317033, subsample=1.0 will be ignored. Current value: bagging_fraction=0.552881748317033\n",
      "[LightGBM] [Warning] lambda_l2 is set=9.3535603318299, reg_lambda=0.0 will be ignored. Current value: lambda_l2=9.3535603318299\n",
      "[LightGBM] [Warning] lambda_l1 is set=9.633873591668652e-05, reg_alpha=0.0 will be ignored. Current value: lambda_l1=9.633873591668652e-05\n",
      "[LightGBM] [Warning] bagging_freq is set=7, subsample_freq=0 will be ignored. Current value: bagging_freq=7\n",
      "[LightGBM] [Warning] feature_fraction is set=0.5056393185522995, colsample_bytree=1.0 will be ignored. Current value: feature_fraction=0.5056393185522995\n",
      "[LightGBM] [Warning] bagging_fraction is set=0.552881748317033, subsample=1.0 will be ignored. Current value: bagging_fraction=0.552881748317033\n",
      "[LightGBM] [Warning] lambda_l2 is set=9.3535603318299, reg_lambda=0.0 will be ignored. Current value: lambda_l2=9.3535603318299\n",
      "[LightGBM] [Warning] lambda_l1 is set=9.633873591668652e-05, reg_alpha=0.0 will be ignored. Current value: lambda_l1=9.633873591668652e-05\n",
      "[LightGBM] [Warning] bagging_freq is set=7, subsample_freq=0 will be ignored. Current value: bagging_freq=7\n",
      "[LightGBM] [Warning] feature_fraction is set=0.5056393185522995, colsample_bytree=1.0 will be ignored. Current value: feature_fraction=0.5056393185522995\n"
     ]
    },
    {
     "name": "stderr",
     "output_type": "stream",
     "text": [
      "\u001b[32m[I 2021-11-24 01:01:16,595]\u001b[0m Trial 46 finished with value: -0.00297456238795131 and parameters: {'lambda_l1': 9.633873591668652e-05, 'lambda_l2': 9.3535603318299, 'num_leaves': 45, 'feature_fraction': 0.5056393185522995, 'bagging_fraction': 0.552881748317033, 'bagging_freq': 7, 'min_child_samples': 11}. Best is trial 31 with value: -0.0029559275005732323.\u001b[0m\n"
     ]
    },
    {
     "name": "stdout",
     "output_type": "stream",
     "text": [
      "Trial done: mae values on folds: [0.004199682528140407, 0.002560400028904224, 0.002163604606809299]\n",
      "[LightGBM] [Warning] bagging_fraction is set=0.8228812112665514, subsample=1.0 will be ignored. Current value: bagging_fraction=0.8228812112665514\n",
      "[LightGBM] [Warning] lambda_l2 is set=0.0029625483348549152, reg_lambda=0.0 will be ignored. Current value: lambda_l2=0.0029625483348549152\n",
      "[LightGBM] [Warning] lambda_l1 is set=4.798339150592071, reg_alpha=0.0 will be ignored. Current value: lambda_l1=4.798339150592071\n",
      "[LightGBM] [Warning] bagging_freq is set=6, subsample_freq=0 will be ignored. Current value: bagging_freq=6\n",
      "[LightGBM] [Warning] feature_fraction is set=0.7866461200429596, colsample_bytree=1.0 will be ignored. Current value: feature_fraction=0.7866461200429596\n",
      "[LightGBM] [Warning] bagging_fraction is set=0.8228812112665514, subsample=1.0 will be ignored. Current value: bagging_fraction=0.8228812112665514\n",
      "[LightGBM] [Warning] lambda_l2 is set=0.0029625483348549152, reg_lambda=0.0 will be ignored. Current value: lambda_l2=0.0029625483348549152\n",
      "[LightGBM] [Warning] lambda_l1 is set=4.798339150592071, reg_alpha=0.0 will be ignored. Current value: lambda_l1=4.798339150592071\n",
      "[LightGBM] [Warning] bagging_freq is set=6, subsample_freq=0 will be ignored. Current value: bagging_freq=6\n",
      "[LightGBM] [Warning] feature_fraction is set=0.7866461200429596, colsample_bytree=1.0 will be ignored. Current value: feature_fraction=0.7866461200429596\n",
      "[LightGBM] [Warning] bagging_fraction is set=0.8228812112665514, subsample=1.0 will be ignored. Current value: bagging_fraction=0.8228812112665514\n",
      "[LightGBM] [Warning] lambda_l2 is set=0.0029625483348549152, reg_lambda=0.0 will be ignored. Current value: lambda_l2=0.0029625483348549152\n",
      "[LightGBM] [Warning] lambda_l1 is set=4.798339150592071, reg_alpha=0.0 will be ignored. Current value: lambda_l1=4.798339150592071\n",
      "[LightGBM] [Warning] bagging_freq is set=6, subsample_freq=0 will be ignored. Current value: bagging_freq=6\n",
      "[LightGBM] [Warning] feature_fraction is set=0.7866461200429596, colsample_bytree=1.0 will be ignored. Current value: feature_fraction=0.7866461200429596\n"
     ]
    },
    {
     "name": "stderr",
     "output_type": "stream",
     "text": [
      "\u001b[32m[I 2021-11-24 01:01:45,680]\u001b[0m Trial 47 finished with value: -0.0029578567313252504 and parameters: {'lambda_l1': 4.798339150592071, 'lambda_l2': 0.0029625483348549152, 'num_leaves': 11, 'feature_fraction': 0.7866461200429596, 'bagging_fraction': 0.8228812112665514, 'bagging_freq': 6, 'min_child_samples': 81}. Best is trial 31 with value: -0.0029559275005732323.\u001b[0m\n"
     ]
    },
    {
     "name": "stdout",
     "output_type": "stream",
     "text": [
      "Trial done: mae values on folds: [0.0041666654933803305, 0.002553599471313257, 0.0021533052292821643]\n",
      "[LightGBM] [Warning] bagging_fraction is set=0.6584654650233451, subsample=1.0 will be ignored. Current value: bagging_fraction=0.6584654650233451\n",
      "[LightGBM] [Warning] lambda_l2 is set=2.9680393277896253, reg_lambda=0.0 will be ignored. Current value: lambda_l2=2.9680393277896253\n",
      "[LightGBM] [Warning] lambda_l1 is set=9.92715721014159, reg_alpha=0.0 will be ignored. Current value: lambda_l1=9.92715721014159\n",
      "[LightGBM] [Warning] bagging_freq is set=5, subsample_freq=0 will be ignored. Current value: bagging_freq=5\n",
      "[LightGBM] [Warning] feature_fraction is set=0.47504323629051104, colsample_bytree=1.0 will be ignored. Current value: feature_fraction=0.47504323629051104\n",
      "[LightGBM] [Warning] bagging_fraction is set=0.6584654650233451, subsample=1.0 will be ignored. Current value: bagging_fraction=0.6584654650233451\n",
      "[LightGBM] [Warning] lambda_l2 is set=2.9680393277896253, reg_lambda=0.0 will be ignored. Current value: lambda_l2=2.9680393277896253\n",
      "[LightGBM] [Warning] lambda_l1 is set=9.92715721014159, reg_alpha=0.0 will be ignored. Current value: lambda_l1=9.92715721014159\n",
      "[LightGBM] [Warning] bagging_freq is set=5, subsample_freq=0 will be ignored. Current value: bagging_freq=5\n",
      "[LightGBM] [Warning] feature_fraction is set=0.47504323629051104, colsample_bytree=1.0 will be ignored. Current value: feature_fraction=0.47504323629051104\n",
      "[LightGBM] [Warning] bagging_fraction is set=0.6584654650233451, subsample=1.0 will be ignored. Current value: bagging_fraction=0.6584654650233451\n",
      "[LightGBM] [Warning] lambda_l2 is set=2.9680393277896253, reg_lambda=0.0 will be ignored. Current value: lambda_l2=2.9680393277896253\n",
      "[LightGBM] [Warning] lambda_l1 is set=9.92715721014159, reg_alpha=0.0 will be ignored. Current value: lambda_l1=9.92715721014159\n",
      "[LightGBM] [Warning] bagging_freq is set=5, subsample_freq=0 will be ignored. Current value: bagging_freq=5\n",
      "[LightGBM] [Warning] feature_fraction is set=0.47504323629051104, colsample_bytree=1.0 will be ignored. Current value: feature_fraction=0.47504323629051104\n"
     ]
    },
    {
     "name": "stderr",
     "output_type": "stream",
     "text": [
      "\u001b[32m[I 2021-11-24 01:02:13,741]\u001b[0m Trial 48 finished with value: -0.002956046689533466 and parameters: {'lambda_l1': 9.92715721014159, 'lambda_l2': 2.9680393277896253, 'num_leaves': 74, 'feature_fraction': 0.47504323629051104, 'bagging_fraction': 0.6584654650233451, 'bagging_freq': 5, 'min_child_samples': 39}. Best is trial 31 with value: -0.0029559275005732323.\u001b[0m\n"
     ]
    },
    {
     "name": "stdout",
     "output_type": "stream",
     "text": [
      "Trial done: mae values on folds: [0.004164187641544797, 0.002550776694737821, 0.002153175732317779]\n",
      "[LightGBM] [Warning] bagging_fraction is set=0.9106682681418709, subsample=1.0 will be ignored. Current value: bagging_fraction=0.9106682681418709\n",
      "[LightGBM] [Warning] lambda_l2 is set=3.9823503266574676, reg_lambda=0.0 will be ignored. Current value: lambda_l2=3.9823503266574676\n",
      "[LightGBM] [Warning] lambda_l1 is set=0.8614636906961307, reg_alpha=0.0 will be ignored. Current value: lambda_l1=0.8614636906961307\n",
      "[LightGBM] [Warning] bagging_freq is set=5, subsample_freq=0 will be ignored. Current value: bagging_freq=5\n",
      "[LightGBM] [Warning] feature_fraction is set=0.5479247867089093, colsample_bytree=1.0 will be ignored. Current value: feature_fraction=0.5479247867089093\n",
      "[LightGBM] [Warning] bagging_fraction is set=0.9106682681418709, subsample=1.0 will be ignored. Current value: bagging_fraction=0.9106682681418709\n",
      "[LightGBM] [Warning] lambda_l2 is set=3.9823503266574676, reg_lambda=0.0 will be ignored. Current value: lambda_l2=3.9823503266574676\n",
      "[LightGBM] [Warning] lambda_l1 is set=0.8614636906961307, reg_alpha=0.0 will be ignored. Current value: lambda_l1=0.8614636906961307\n",
      "[LightGBM] [Warning] bagging_freq is set=5, subsample_freq=0 will be ignored. Current value: bagging_freq=5\n",
      "[LightGBM] [Warning] feature_fraction is set=0.5479247867089093, colsample_bytree=1.0 will be ignored. Current value: feature_fraction=0.5479247867089093\n",
      "[LightGBM] [Warning] bagging_fraction is set=0.9106682681418709, subsample=1.0 will be ignored. Current value: bagging_fraction=0.9106682681418709\n",
      "[LightGBM] [Warning] lambda_l2 is set=3.9823503266574676, reg_lambda=0.0 will be ignored. Current value: lambda_l2=3.9823503266574676\n",
      "[LightGBM] [Warning] lambda_l1 is set=0.8614636906961307, reg_alpha=0.0 will be ignored. Current value: lambda_l1=0.8614636906961307\n",
      "[LightGBM] [Warning] bagging_freq is set=5, subsample_freq=0 will be ignored. Current value: bagging_freq=5\n",
      "[LightGBM] [Warning] feature_fraction is set=0.5479247867089093, colsample_bytree=1.0 will be ignored. Current value: feature_fraction=0.5479247867089093\n"
     ]
    },
    {
     "name": "stderr",
     "output_type": "stream",
     "text": [
      "\u001b[32m[I 2021-11-24 01:02:57,690]\u001b[0m Trial 49 finished with value: -0.0029880004207000475 and parameters: {'lambda_l1': 0.8614636906961307, 'lambda_l2': 3.9823503266574676, 'num_leaves': 124, 'feature_fraction': 0.5479247867089093, 'bagging_fraction': 0.9106682681418709, 'bagging_freq': 5, 'min_child_samples': 47}. Best is trial 31 with value: -0.0029559275005732323.\u001b[0m\n"
     ]
    },
    {
     "name": "stdout",
     "output_type": "stream",
     "text": [
      "Trial done: mae values on folds: [0.004225604673326263, 0.0025742272976791956, 0.0021641692910946853]\n",
      "[LightGBM] [Warning] bagging_fraction is set=0.6606299783486962, subsample=1.0 will be ignored. Current value: bagging_fraction=0.6606299783486962\n",
      "[LightGBM] [Warning] lambda_l2 is set=0.07922037336023527, reg_lambda=0.0 will be ignored. Current value: lambda_l2=0.07922037336023527\n",
      "[LightGBM] [Warning] lambda_l1 is set=0.2171673845135253, reg_alpha=0.0 will be ignored. Current value: lambda_l1=0.2171673845135253\n",
      "[LightGBM] [Warning] bagging_freq is set=5, subsample_freq=0 will be ignored. Current value: bagging_freq=5\n",
      "[LightGBM] [Warning] feature_fraction is set=0.4743582756664838, colsample_bytree=1.0 will be ignored. Current value: feature_fraction=0.4743582756664838\n",
      "[LightGBM] [Warning] bagging_fraction is set=0.6606299783486962, subsample=1.0 will be ignored. Current value: bagging_fraction=0.6606299783486962\n",
      "[LightGBM] [Warning] lambda_l2 is set=0.07922037336023527, reg_lambda=0.0 will be ignored. Current value: lambda_l2=0.07922037336023527\n",
      "[LightGBM] [Warning] lambda_l1 is set=0.2171673845135253, reg_alpha=0.0 will be ignored. Current value: lambda_l1=0.2171673845135253\n",
      "[LightGBM] [Warning] bagging_freq is set=5, subsample_freq=0 will be ignored. Current value: bagging_freq=5\n",
      "[LightGBM] [Warning] feature_fraction is set=0.4743582756664838, colsample_bytree=1.0 will be ignored. Current value: feature_fraction=0.4743582756664838\n",
      "[LightGBM] [Warning] bagging_fraction is set=0.6606299783486962, subsample=1.0 will be ignored. Current value: bagging_fraction=0.6606299783486962\n",
      "[LightGBM] [Warning] lambda_l2 is set=0.07922037336023527, reg_lambda=0.0 will be ignored. Current value: lambda_l2=0.07922037336023527\n",
      "[LightGBM] [Warning] lambda_l1 is set=0.2171673845135253, reg_alpha=0.0 will be ignored. Current value: lambda_l1=0.2171673845135253\n",
      "[LightGBM] [Warning] bagging_freq is set=5, subsample_freq=0 will be ignored. Current value: bagging_freq=5\n",
      "[LightGBM] [Warning] feature_fraction is set=0.4743582756664838, colsample_bytree=1.0 will be ignored. Current value: feature_fraction=0.4743582756664838\n"
     ]
    },
    {
     "name": "stderr",
     "output_type": "stream",
     "text": [
      "\u001b[32m[I 2021-11-24 01:03:31,088]\u001b[0m Trial 50 finished with value: -0.00299296781343423 and parameters: {'lambda_l1': 0.2171673845135253, 'lambda_l2': 0.07922037336023527, 'num_leaves': 71, 'feature_fraction': 0.4743582756664838, 'bagging_fraction': 0.6606299783486962, 'bagging_freq': 5, 'min_child_samples': 37}. Best is trial 31 with value: -0.0029559275005732323.\u001b[0m\n"
     ]
    },
    {
     "name": "stdout",
     "output_type": "stream",
     "text": [
      "Trial done: mae values on folds: [0.004234641692610948, 0.0025706709004341207, 0.002173590847257621]\n",
      "[LightGBM] [Warning] bagging_fraction is set=0.6287184905843314, subsample=1.0 will be ignored. Current value: bagging_fraction=0.6287184905843314\n",
      "[LightGBM] [Warning] lambda_l2 is set=1.671179783208772, reg_lambda=0.0 will be ignored. Current value: lambda_l2=1.671179783208772\n",
      "[LightGBM] [Warning] lambda_l1 is set=8.915763719445348, reg_alpha=0.0 will be ignored. Current value: lambda_l1=8.915763719445348\n",
      "[LightGBM] [Warning] bagging_freq is set=6, subsample_freq=0 will be ignored. Current value: bagging_freq=6\n",
      "[LightGBM] [Warning] feature_fraction is set=0.4304559083675207, colsample_bytree=1.0 will be ignored. Current value: feature_fraction=0.4304559083675207\n",
      "[LightGBM] [Warning] bagging_fraction is set=0.6287184905843314, subsample=1.0 will be ignored. Current value: bagging_fraction=0.6287184905843314\n",
      "[LightGBM] [Warning] lambda_l2 is set=1.671179783208772, reg_lambda=0.0 will be ignored. Current value: lambda_l2=1.671179783208772\n",
      "[LightGBM] [Warning] lambda_l1 is set=8.915763719445348, reg_alpha=0.0 will be ignored. Current value: lambda_l1=8.915763719445348\n",
      "[LightGBM] [Warning] bagging_freq is set=6, subsample_freq=0 will be ignored. Current value: bagging_freq=6\n",
      "[LightGBM] [Warning] feature_fraction is set=0.4304559083675207, colsample_bytree=1.0 will be ignored. Current value: feature_fraction=0.4304559083675207\n",
      "[LightGBM] [Warning] bagging_fraction is set=0.6287184905843314, subsample=1.0 will be ignored. Current value: bagging_fraction=0.6287184905843314\n",
      "[LightGBM] [Warning] lambda_l2 is set=1.671179783208772, reg_lambda=0.0 will be ignored. Current value: lambda_l2=1.671179783208772\n",
      "[LightGBM] [Warning] lambda_l1 is set=8.915763719445348, reg_alpha=0.0 will be ignored. Current value: lambda_l1=8.915763719445348\n",
      "[LightGBM] [Warning] bagging_freq is set=6, subsample_freq=0 will be ignored. Current value: bagging_freq=6\n",
      "[LightGBM] [Warning] feature_fraction is set=0.4304559083675207, colsample_bytree=1.0 will be ignored. Current value: feature_fraction=0.4304559083675207\n"
     ]
    },
    {
     "name": "stderr",
     "output_type": "stream",
     "text": [
      "\u001b[32m[I 2021-11-24 01:03:58,501]\u001b[0m Trial 51 finished with value: -0.0029561138811560104 and parameters: {'lambda_l1': 8.915763719445348, 'lambda_l2': 1.671179783208772, 'num_leaves': 26, 'feature_fraction': 0.4304559083675207, 'bagging_fraction': 0.6287184905843314, 'bagging_freq': 6, 'min_child_samples': 58}. Best is trial 31 with value: -0.0029559275005732323.\u001b[0m\n"
     ]
    },
    {
     "name": "stdout",
     "output_type": "stream",
     "text": [
      "Trial done: mae values on folds: [0.0041641489004135305, 0.002550955241152797, 0.0021532375019017026]\n",
      "[LightGBM] [Warning] bagging_fraction is set=0.5827962634903127, subsample=1.0 will be ignored. Current value: bagging_fraction=0.5827962634903127\n",
      "[LightGBM] [Warning] lambda_l2 is set=0.6312985695356678, reg_lambda=0.0 will be ignored. Current value: lambda_l2=0.6312985695356678\n",
      "[LightGBM] [Warning] lambda_l1 is set=1.916769208794369, reg_alpha=0.0 will be ignored. Current value: lambda_l1=1.916769208794369\n",
      "[LightGBM] [Warning] bagging_freq is set=6, subsample_freq=0 will be ignored. Current value: bagging_freq=6\n",
      "[LightGBM] [Warning] feature_fraction is set=0.4994524322872082, colsample_bytree=1.0 will be ignored. Current value: feature_fraction=0.4994524322872082\n",
      "[LightGBM] [Warning] bagging_fraction is set=0.5827962634903127, subsample=1.0 will be ignored. Current value: bagging_fraction=0.5827962634903127\n",
      "[LightGBM] [Warning] lambda_l2 is set=0.6312985695356678, reg_lambda=0.0 will be ignored. Current value: lambda_l2=0.6312985695356678\n",
      "[LightGBM] [Warning] lambda_l1 is set=1.916769208794369, reg_alpha=0.0 will be ignored. Current value: lambda_l1=1.916769208794369\n",
      "[LightGBM] [Warning] bagging_freq is set=6, subsample_freq=0 will be ignored. Current value: bagging_freq=6\n",
      "[LightGBM] [Warning] feature_fraction is set=0.4994524322872082, colsample_bytree=1.0 will be ignored. Current value: feature_fraction=0.4994524322872082\n",
      "[LightGBM] [Warning] bagging_fraction is set=0.5827962634903127, subsample=1.0 will be ignored. Current value: bagging_fraction=0.5827962634903127\n",
      "[LightGBM] [Warning] lambda_l2 is set=0.6312985695356678, reg_lambda=0.0 will be ignored. Current value: lambda_l2=0.6312985695356678\n",
      "[LightGBM] [Warning] lambda_l1 is set=1.916769208794369, reg_alpha=0.0 will be ignored. Current value: lambda_l1=1.916769208794369\n",
      "[LightGBM] [Warning] bagging_freq is set=6, subsample_freq=0 will be ignored. Current value: bagging_freq=6\n",
      "[LightGBM] [Warning] feature_fraction is set=0.4994524322872082, colsample_bytree=1.0 will be ignored. Current value: feature_fraction=0.4994524322872082\n"
     ]
    },
    {
     "name": "stderr",
     "output_type": "stream",
     "text": [
      "\u001b[32m[I 2021-11-24 01:04:32,974]\u001b[0m Trial 52 finished with value: -0.0029651055619668073 and parameters: {'lambda_l1': 1.916769208794369, 'lambda_l2': 0.6312985695356678, 'num_leaves': 89, 'feature_fraction': 0.4994524322872082, 'bagging_fraction': 0.5827962634903127, 'bagging_freq': 6, 'min_child_samples': 40}. Best is trial 31 with value: -0.0029559275005732323.\u001b[0m\n"
     ]
    },
    {
     "name": "stdout",
     "output_type": "stream",
     "text": [
      "Trial done: mae values on folds: [0.004180045488198794, 0.0025601721245096364, 0.002155099073191991]\n",
      "[LightGBM] [Warning] bagging_fraction is set=0.7204881613139312, subsample=1.0 will be ignored. Current value: bagging_fraction=0.7204881613139312\n",
      "[LightGBM] [Warning] lambda_l2 is set=4.170425571424138, reg_lambda=0.0 will be ignored. Current value: lambda_l2=4.170425571424138\n",
      "[LightGBM] [Warning] lambda_l1 is set=3.9589180823284664, reg_alpha=0.0 will be ignored. Current value: lambda_l1=3.9589180823284664\n",
      "[LightGBM] [Warning] bagging_freq is set=5, subsample_freq=0 will be ignored. Current value: bagging_freq=5\n",
      "[LightGBM] [Warning] feature_fraction is set=0.4402876337198659, colsample_bytree=1.0 will be ignored. Current value: feature_fraction=0.4402876337198659\n",
      "[LightGBM] [Warning] bagging_fraction is set=0.7204881613139312, subsample=1.0 will be ignored. Current value: bagging_fraction=0.7204881613139312\n",
      "[LightGBM] [Warning] lambda_l2 is set=4.170425571424138, reg_lambda=0.0 will be ignored. Current value: lambda_l2=4.170425571424138\n",
      "[LightGBM] [Warning] lambda_l1 is set=3.9589180823284664, reg_alpha=0.0 will be ignored. Current value: lambda_l1=3.9589180823284664\n",
      "[LightGBM] [Warning] bagging_freq is set=5, subsample_freq=0 will be ignored. Current value: bagging_freq=5\n",
      "[LightGBM] [Warning] feature_fraction is set=0.4402876337198659, colsample_bytree=1.0 will be ignored. Current value: feature_fraction=0.4402876337198659\n",
      "[LightGBM] [Warning] bagging_fraction is set=0.7204881613139312, subsample=1.0 will be ignored. Current value: bagging_fraction=0.7204881613139312\n",
      "[LightGBM] [Warning] lambda_l2 is set=4.170425571424138, reg_lambda=0.0 will be ignored. Current value: lambda_l2=4.170425571424138\n",
      "[LightGBM] [Warning] lambda_l1 is set=3.9589180823284664, reg_alpha=0.0 will be ignored. Current value: lambda_l1=3.9589180823284664\n",
      "[LightGBM] [Warning] bagging_freq is set=5, subsample_freq=0 will be ignored. Current value: bagging_freq=5\n",
      "[LightGBM] [Warning] feature_fraction is set=0.4402876337198659, colsample_bytree=1.0 will be ignored. Current value: feature_fraction=0.4402876337198659\n"
     ]
    },
    {
     "name": "stderr",
     "output_type": "stream",
     "text": [
      "\u001b[32m[I 2021-11-24 01:04:59,433]\u001b[0m Trial 53 finished with value: -0.0029564654764896794 and parameters: {'lambda_l1': 3.9589180823284664, 'lambda_l2': 4.170425571424138, 'num_leaves': 3, 'feature_fraction': 0.4402876337198659, 'bagging_fraction': 0.7204881613139312, 'bagging_freq': 5, 'min_child_samples': 67}. Best is trial 31 with value: -0.0029559275005732323.\u001b[0m\n"
     ]
    },
    {
     "name": "stdout",
     "output_type": "stream",
     "text": [
      "Trial done: mae values on folds: [0.004163937325211989, 0.0025519610228694873, 0.0021534980813875623]\n",
      "[LightGBM] [Warning] bagging_fraction is set=0.6782862896095224, subsample=1.0 will be ignored. Current value: bagging_fraction=0.6782862896095224\n",
      "[LightGBM] [Warning] lambda_l2 is set=1.075747308665229, reg_lambda=0.0 will be ignored. Current value: lambda_l2=1.075747308665229\n",
      "[LightGBM] [Warning] lambda_l1 is set=1.1793245504227587, reg_alpha=0.0 will be ignored. Current value: lambda_l1=1.1793245504227587\n",
      "[LightGBM] [Warning] bagging_freq is set=4, subsample_freq=0 will be ignored. Current value: bagging_freq=4\n",
      "[LightGBM] [Warning] feature_fraction is set=0.4796046538108986, colsample_bytree=1.0 will be ignored. Current value: feature_fraction=0.4796046538108986\n",
      "[LightGBM] [Warning] bagging_fraction is set=0.6782862896095224, subsample=1.0 will be ignored. Current value: bagging_fraction=0.6782862896095224\n",
      "[LightGBM] [Warning] lambda_l2 is set=1.075747308665229, reg_lambda=0.0 will be ignored. Current value: lambda_l2=1.075747308665229\n",
      "[LightGBM] [Warning] lambda_l1 is set=1.1793245504227587, reg_alpha=0.0 will be ignored. Current value: lambda_l1=1.1793245504227587\n",
      "[LightGBM] [Warning] bagging_freq is set=4, subsample_freq=0 will be ignored. Current value: bagging_freq=4\n",
      "[LightGBM] [Warning] feature_fraction is set=0.4796046538108986, colsample_bytree=1.0 will be ignored. Current value: feature_fraction=0.4796046538108986\n",
      "[LightGBM] [Warning] bagging_fraction is set=0.6782862896095224, subsample=1.0 will be ignored. Current value: bagging_fraction=0.6782862896095224\n",
      "[LightGBM] [Warning] lambda_l2 is set=1.075747308665229, reg_lambda=0.0 will be ignored. Current value: lambda_l2=1.075747308665229\n",
      "[LightGBM] [Warning] lambda_l1 is set=1.1793245504227587, reg_alpha=0.0 will be ignored. Current value: lambda_l1=1.1793245504227587\n",
      "[LightGBM] [Warning] bagging_freq is set=4, subsample_freq=0 will be ignored. Current value: bagging_freq=4\n",
      "[LightGBM] [Warning] feature_fraction is set=0.4796046538108986, colsample_bytree=1.0 will be ignored. Current value: feature_fraction=0.4796046538108986\n"
     ]
    },
    {
     "name": "stderr",
     "output_type": "stream",
     "text": [
      "\u001b[32m[I 2021-11-24 01:05:38,770]\u001b[0m Trial 54 finished with value: -0.002975513979091573 and parameters: {'lambda_l1': 1.1793245504227587, 'lambda_l2': 1.075747308665229, 'num_leaves': 103, 'feature_fraction': 0.4796046538108986, 'bagging_fraction': 0.6782862896095224, 'bagging_freq': 4, 'min_child_samples': 6}. Best is trial 31 with value: -0.0029559275005732323.\u001b[0m\n"
     ]
    },
    {
     "name": "stdout",
     "output_type": "stream",
     "text": [
      "Trial done: mae values on folds: [0.00419993129220065, 0.0025683657612749966, 0.002158244883799073]\n",
      "[LightGBM] [Warning] bagging_fraction is set=0.40354881118115155, subsample=1.0 will be ignored. Current value: bagging_fraction=0.40354881118115155\n",
      "[LightGBM] [Warning] lambda_l2 is set=0.492799071695039, reg_lambda=0.0 will be ignored. Current value: lambda_l2=0.492799071695039\n",
      "[LightGBM] [Warning] lambda_l1 is set=8.869735681562146, reg_alpha=0.0 will be ignored. Current value: lambda_l1=8.869735681562146\n",
      "[LightGBM] [Warning] bagging_freq is set=5, subsample_freq=0 will be ignored. Current value: bagging_freq=5\n",
      "[LightGBM] [Warning] feature_fraction is set=0.4050052035596727, colsample_bytree=1.0 will be ignored. Current value: feature_fraction=0.4050052035596727\n",
      "[LightGBM] [Warning] bagging_fraction is set=0.40354881118115155, subsample=1.0 will be ignored. Current value: bagging_fraction=0.40354881118115155\n",
      "[LightGBM] [Warning] lambda_l2 is set=0.492799071695039, reg_lambda=0.0 will be ignored. Current value: lambda_l2=0.492799071695039\n",
      "[LightGBM] [Warning] lambda_l1 is set=8.869735681562146, reg_alpha=0.0 will be ignored. Current value: lambda_l1=8.869735681562146\n",
      "[LightGBM] [Warning] bagging_freq is set=5, subsample_freq=0 will be ignored. Current value: bagging_freq=5\n",
      "[LightGBM] [Warning] feature_fraction is set=0.4050052035596727, colsample_bytree=1.0 will be ignored. Current value: feature_fraction=0.4050052035596727\n",
      "[LightGBM] [Warning] bagging_fraction is set=0.40354881118115155, subsample=1.0 will be ignored. Current value: bagging_fraction=0.40354881118115155\n",
      "[LightGBM] [Warning] lambda_l2 is set=0.492799071695039, reg_lambda=0.0 will be ignored. Current value: lambda_l2=0.492799071695039\n",
      "[LightGBM] [Warning] lambda_l1 is set=8.869735681562146, reg_alpha=0.0 will be ignored. Current value: lambda_l1=8.869735681562146\n",
      "[LightGBM] [Warning] bagging_freq is set=5, subsample_freq=0 will be ignored. Current value: bagging_freq=5\n",
      "[LightGBM] [Warning] feature_fraction is set=0.4050052035596727, colsample_bytree=1.0 will be ignored. Current value: feature_fraction=0.4050052035596727\n"
     ]
    },
    {
     "name": "stderr",
     "output_type": "stream",
     "text": [
      "\u001b[32m[I 2021-11-24 01:06:04,082]\u001b[0m Trial 55 finished with value: -0.002955888566240135 and parameters: {'lambda_l1': 8.869735681562146, 'lambda_l2': 0.492799071695039, 'num_leaves': 36, 'feature_fraction': 0.4050052035596727, 'bagging_fraction': 0.40354881118115155, 'bagging_freq': 5, 'min_child_samples': 18}. Best is trial 55 with value: -0.002955888566240135.\u001b[0m\n"
     ]
    },
    {
     "name": "stdout",
     "output_type": "stream",
     "text": [
      "Trial done: mae values on folds: [0.004164046726892004, 0.0025503143565337037, 0.002153304615294698]\n",
      "[LightGBM] [Warning] bagging_fraction is set=0.40002352439429656, subsample=1.0 will be ignored. Current value: bagging_fraction=0.40002352439429656\n",
      "[LightGBM] [Warning] lambda_l2 is set=0.37367547798773976, reg_lambda=0.0 will be ignored. Current value: lambda_l2=0.37367547798773976\n",
      "[LightGBM] [Warning] lambda_l1 is set=3.5373958755848437e-07, reg_alpha=0.0 will be ignored. Current value: lambda_l1=3.5373958755848437e-07\n",
      "[LightGBM] [Warning] bagging_freq is set=3, subsample_freq=0 will be ignored. Current value: bagging_freq=3\n",
      "[LightGBM] [Warning] feature_fraction is set=0.4559976391390472, colsample_bytree=1.0 will be ignored. Current value: feature_fraction=0.4559976391390472\n",
      "[LightGBM] [Warning] bagging_fraction is set=0.40002352439429656, subsample=1.0 will be ignored. Current value: bagging_fraction=0.40002352439429656\n",
      "[LightGBM] [Warning] lambda_l2 is set=0.37367547798773976, reg_lambda=0.0 will be ignored. Current value: lambda_l2=0.37367547798773976\n",
      "[LightGBM] [Warning] lambda_l1 is set=3.5373958755848437e-07, reg_alpha=0.0 will be ignored. Current value: lambda_l1=3.5373958755848437e-07\n",
      "[LightGBM] [Warning] bagging_freq is set=3, subsample_freq=0 will be ignored. Current value: bagging_freq=3\n",
      "[LightGBM] [Warning] feature_fraction is set=0.4559976391390472, colsample_bytree=1.0 will be ignored. Current value: feature_fraction=0.4559976391390472\n",
      "[LightGBM] [Warning] bagging_fraction is set=0.40002352439429656, subsample=1.0 will be ignored. Current value: bagging_fraction=0.40002352439429656\n",
      "[LightGBM] [Warning] lambda_l2 is set=0.37367547798773976, reg_lambda=0.0 will be ignored. Current value: lambda_l2=0.37367547798773976\n",
      "[LightGBM] [Warning] lambda_l1 is set=3.5373958755848437e-07, reg_alpha=0.0 will be ignored. Current value: lambda_l1=3.5373958755848437e-07\n",
      "[LightGBM] [Warning] bagging_freq is set=3, subsample_freq=0 will be ignored. Current value: bagging_freq=3\n",
      "[LightGBM] [Warning] feature_fraction is set=0.4559976391390472, colsample_bytree=1.0 will be ignored. Current value: feature_fraction=0.4559976391390472\n"
     ]
    },
    {
     "name": "stderr",
     "output_type": "stream",
     "text": [
      "\u001b[32m[I 2021-11-24 01:06:31,787]\u001b[0m Trial 56 finished with value: -0.0029777327261530013 and parameters: {'lambda_l1': 3.5373958755848437e-07, 'lambda_l2': 0.37367547798773976, 'num_leaves': 36, 'feature_fraction': 0.4559976391390472, 'bagging_fraction': 0.40002352439429656, 'bagging_freq': 3, 'min_child_samples': 16}. Best is trial 55 with value: -0.002955888566240135.\u001b[0m\n"
     ]
    },
    {
     "name": "stdout",
     "output_type": "stream",
     "text": [
      "Trial done: mae values on folds: [0.004209729965109875, 0.0025580451056807147, 0.0021654231076684146]\n",
      "[LightGBM] [Warning] bagging_fraction is set=0.47947628333673387, subsample=1.0 will be ignored. Current value: bagging_fraction=0.47947628333673387\n",
      "[LightGBM] [Warning] lambda_l2 is set=0.11950965152792144, reg_lambda=0.0 will be ignored. Current value: lambda_l2=0.11950965152792144\n",
      "[LightGBM] [Warning] lambda_l1 is set=0.4292393192927178, reg_alpha=0.0 will be ignored. Current value: lambda_l1=0.4292393192927178\n",
      "[LightGBM] [Warning] bagging_freq is set=5, subsample_freq=0 will be ignored. Current value: bagging_freq=5\n",
      "[LightGBM] [Warning] feature_fraction is set=0.8394560893805808, colsample_bytree=1.0 will be ignored. Current value: feature_fraction=0.8394560893805808\n",
      "[LightGBM] [Warning] bagging_fraction is set=0.47947628333673387, subsample=1.0 will be ignored. Current value: bagging_fraction=0.47947628333673387\n",
      "[LightGBM] [Warning] lambda_l2 is set=0.11950965152792144, reg_lambda=0.0 will be ignored. Current value: lambda_l2=0.11950965152792144\n",
      "[LightGBM] [Warning] lambda_l1 is set=0.4292393192927178, reg_alpha=0.0 will be ignored. Current value: lambda_l1=0.4292393192927178\n",
      "[LightGBM] [Warning] bagging_freq is set=5, subsample_freq=0 will be ignored. Current value: bagging_freq=5\n",
      "[LightGBM] [Warning] feature_fraction is set=0.8394560893805808, colsample_bytree=1.0 will be ignored. Current value: feature_fraction=0.8394560893805808\n",
      "[LightGBM] [Warning] bagging_fraction is set=0.47947628333673387, subsample=1.0 will be ignored. Current value: bagging_fraction=0.47947628333673387\n",
      "[LightGBM] [Warning] lambda_l2 is set=0.11950965152792144, reg_lambda=0.0 will be ignored. Current value: lambda_l2=0.11950965152792144\n",
      "[LightGBM] [Warning] lambda_l1 is set=0.4292393192927178, reg_alpha=0.0 will be ignored. Current value: lambda_l1=0.4292393192927178\n",
      "[LightGBM] [Warning] bagging_freq is set=5, subsample_freq=0 will be ignored. Current value: bagging_freq=5\n",
      "[LightGBM] [Warning] feature_fraction is set=0.8394560893805808, colsample_bytree=1.0 will be ignored. Current value: feature_fraction=0.8394560893805808\n"
     ]
    },
    {
     "name": "stderr",
     "output_type": "stream",
     "text": [
      "\u001b[32m[I 2021-11-24 01:07:00,244]\u001b[0m Trial 57 finished with value: -0.0029638972200636987 and parameters: {'lambda_l1': 0.4292393192927178, 'lambda_l2': 0.11950965152792144, 'num_leaves': 22, 'feature_fraction': 0.8394560893805808, 'bagging_fraction': 0.47947628333673387, 'bagging_freq': 5, 'min_child_samples': 24}. Best is trial 55 with value: -0.002955888566240135.\u001b[0m\n"
     ]
    },
    {
     "name": "stdout",
     "output_type": "stream",
     "text": [
      "Trial done: mae values on folds: [0.004177703997003175, 0.002555931782091462, 0.0021580558810964596]\n",
      "[LightGBM] [Warning] bagging_fraction is set=0.5235950853950513, subsample=1.0 will be ignored. Current value: bagging_fraction=0.5235950853950513\n",
      "[LightGBM] [Warning] lambda_l2 is set=4.792317835910924, reg_lambda=0.0 will be ignored. Current value: lambda_l2=4.792317835910924\n",
      "[LightGBM] [Warning] lambda_l1 is set=3.647396609497688, reg_alpha=0.0 will be ignored. Current value: lambda_l1=3.647396609497688\n",
      "[LightGBM] [Warning] bagging_freq is set=4, subsample_freq=0 will be ignored. Current value: bagging_freq=4\n",
      "[LightGBM] [Warning] feature_fraction is set=0.5873713258569121, colsample_bytree=1.0 will be ignored. Current value: feature_fraction=0.5873713258569121\n",
      "[LightGBM] [Warning] bagging_fraction is set=0.5235950853950513, subsample=1.0 will be ignored. Current value: bagging_fraction=0.5235950853950513\n",
      "[LightGBM] [Warning] lambda_l2 is set=4.792317835910924, reg_lambda=0.0 will be ignored. Current value: lambda_l2=4.792317835910924\n",
      "[LightGBM] [Warning] lambda_l1 is set=3.647396609497688, reg_alpha=0.0 will be ignored. Current value: lambda_l1=3.647396609497688\n",
      "[LightGBM] [Warning] bagging_freq is set=4, subsample_freq=0 will be ignored. Current value: bagging_freq=4\n",
      "[LightGBM] [Warning] feature_fraction is set=0.5873713258569121, colsample_bytree=1.0 will be ignored. Current value: feature_fraction=0.5873713258569121\n",
      "[LightGBM] [Warning] bagging_fraction is set=0.5235950853950513, subsample=1.0 will be ignored. Current value: bagging_fraction=0.5235950853950513\n",
      "[LightGBM] [Warning] lambda_l2 is set=4.792317835910924, reg_lambda=0.0 will be ignored. Current value: lambda_l2=4.792317835910924\n",
      "[LightGBM] [Warning] lambda_l1 is set=3.647396609497688, reg_alpha=0.0 will be ignored. Current value: lambda_l1=3.647396609497688\n",
      "[LightGBM] [Warning] bagging_freq is set=4, subsample_freq=0 will be ignored. Current value: bagging_freq=4\n",
      "[LightGBM] [Warning] feature_fraction is set=0.5873713258569121, colsample_bytree=1.0 will be ignored. Current value: feature_fraction=0.5873713258569121\n"
     ]
    },
    {
     "name": "stderr",
     "output_type": "stream",
     "text": [
      "\u001b[32m[I 2021-11-24 01:07:30,831]\u001b[0m Trial 58 finished with value: -0.0029586189148888033 and parameters: {'lambda_l1': 3.647396609497688, 'lambda_l2': 4.792317835910924, 'num_leaves': 54, 'feature_fraction': 0.5873713258569121, 'bagging_fraction': 0.5235950853950513, 'bagging_freq': 4, 'min_child_samples': 19}. Best is trial 55 with value: -0.002955888566240135.\u001b[0m\n"
     ]
    },
    {
     "name": "stdout",
     "output_type": "stream",
     "text": [
      "Trial done: mae values on folds: [0.004167974977108142, 0.0025541361876920887, 0.0021537455798661793]\n",
      "[LightGBM] [Warning] bagging_fraction is set=0.45828330645395154, subsample=1.0 will be ignored. Current value: bagging_fraction=0.45828330645395154\n",
      "[LightGBM] [Warning] lambda_l2 is set=0.024294736583156326, reg_lambda=0.0 will be ignored. Current value: lambda_l2=0.024294736583156326\n",
      "[LightGBM] [Warning] lambda_l1 is set=9.998434026401673, reg_alpha=0.0 will be ignored. Current value: lambda_l1=9.998434026401673\n",
      "[LightGBM] [Warning] bagging_freq is set=5, subsample_freq=0 will be ignored. Current value: bagging_freq=5\n",
      "[LightGBM] [Warning] feature_fraction is set=0.6337887852801547, colsample_bytree=1.0 will be ignored. Current value: feature_fraction=0.6337887852801547\n",
      "[LightGBM] [Warning] bagging_fraction is set=0.45828330645395154, subsample=1.0 will be ignored. Current value: bagging_fraction=0.45828330645395154\n",
      "[LightGBM] [Warning] lambda_l2 is set=0.024294736583156326, reg_lambda=0.0 will be ignored. Current value: lambda_l2=0.024294736583156326\n",
      "[LightGBM] [Warning] lambda_l1 is set=9.998434026401673, reg_alpha=0.0 will be ignored. Current value: lambda_l1=9.998434026401673\n",
      "[LightGBM] [Warning] bagging_freq is set=5, subsample_freq=0 will be ignored. Current value: bagging_freq=5\n",
      "[LightGBM] [Warning] feature_fraction is set=0.6337887852801547, colsample_bytree=1.0 will be ignored. Current value: feature_fraction=0.6337887852801547\n",
      "[LightGBM] [Warning] bagging_fraction is set=0.45828330645395154, subsample=1.0 will be ignored. Current value: bagging_fraction=0.45828330645395154\n",
      "[LightGBM] [Warning] lambda_l2 is set=0.024294736583156326, reg_lambda=0.0 will be ignored. Current value: lambda_l2=0.024294736583156326\n",
      "[LightGBM] [Warning] lambda_l1 is set=9.998434026401673, reg_alpha=0.0 will be ignored. Current value: lambda_l1=9.998434026401673\n",
      "[LightGBM] [Warning] bagging_freq is set=5, subsample_freq=0 will be ignored. Current value: bagging_freq=5\n",
      "[LightGBM] [Warning] feature_fraction is set=0.6337887852801547, colsample_bytree=1.0 will be ignored. Current value: feature_fraction=0.6337887852801547\n"
     ]
    },
    {
     "name": "stderr",
     "output_type": "stream",
     "text": [
      "\u001b[32m[I 2021-11-24 01:07:55,744]\u001b[0m Trial 59 finished with value: -0.0029559659347242425 and parameters: {'lambda_l1': 9.998434026401673, 'lambda_l2': 0.024294736583156326, 'num_leaves': 42, 'feature_fraction': 0.6337887852801547, 'bagging_fraction': 0.45828330645395154, 'bagging_freq': 5, 'min_child_samples': 49}. Best is trial 55 with value: -0.002955888566240135.\u001b[0m\n"
     ]
    },
    {
     "name": "stdout",
     "output_type": "stream",
     "text": [
      "Trial done: mae values on folds: [0.004164464970495407, 0.0025502098856226884, 0.0021532229480546337]\n"
     ]
    }
   ],
   "source": [
    "study = optuna.create_study(direction=\"maximize\")\n",
    "study.optimize(objective, n_trials=60)"
   ]
  },
  {
   "cell_type": "code",
   "execution_count": 31,
   "metadata": {},
   "outputs": [
    {
     "name": "stdout",
     "output_type": "stream",
     "text": [
      "Best trial:\n",
      "  Value: -0.002955888566240135\n"
     ]
    }
   ],
   "source": [
    "print(\"Best trial:\")\n",
    "trial = study.best_trial\n",
    "\n",
    "print(\"  Value: {}\".format(trial.value))"
   ]
  },
  {
   "cell_type": "code",
   "execution_count": 32,
   "metadata": {},
   "outputs": [
    {
     "name": "stdout",
     "output_type": "stream",
     "text": [
      "  Params: \n",
      "    lambda_l1: 8.869735681562146\n",
      "    lambda_l2: 0.492799071695039\n",
      "    num_leaves: 36\n",
      "    feature_fraction: 0.4050052035596727\n",
      "    bagging_fraction: 0.40354881118115155\n",
      "    bagging_freq: 5\n",
      "    min_child_samples: 18\n"
     ]
    }
   ],
   "source": [
    "print(\"  Params: \")\n",
    "for key, value in trial.params.items():\n",
    "    print(\"    {}: {}\".format(key, value))\n",
    "best_params = trial.params "
   ]
  },
  {
   "cell_type": "code",
   "execution_count": 34,
   "metadata": {},
   "outputs": [
    {
     "name": "stdout",
     "output_type": "stream",
     "text": [
      "[LightGBM] [Warning] lambda_l1 is set=8.869735681562146, reg_alpha=0.0 will be ignored. Current value: lambda_l1=8.869735681562146\n",
      "[LightGBM] [Warning] feature_fraction is set=0.4050052035596727, colsample_bytree=1.0 will be ignored. Current value: feature_fraction=0.4050052035596727\n",
      "[LightGBM] [Warning] bagging_freq is set=5, subsample_freq=0 will be ignored. Current value: bagging_freq=5\n",
      "[LightGBM] [Warning] lambda_l2 is set=0.492799071695039, reg_lambda=0.0 will be ignored. Current value: lambda_l2=0.492799071695039\n",
      "[LightGBM] [Warning] bagging_fraction is set=0.40354881118115155, subsample=1.0 will be ignored. Current value: bagging_fraction=0.40354881118115155\n",
      "[LightGBM] [Warning] lambda_l1 is set=8.869735681562146, reg_alpha=0.0 will be ignored. Current value: lambda_l1=8.869735681562146\n",
      "[LightGBM] [Warning] feature_fraction is set=0.4050052035596727, colsample_bytree=1.0 will be ignored. Current value: feature_fraction=0.4050052035596727\n",
      "[LightGBM] [Warning] bagging_freq is set=5, subsample_freq=0 will be ignored. Current value: bagging_freq=5\n",
      "[LightGBM] [Warning] lambda_l2 is set=0.492799071695039, reg_lambda=0.0 will be ignored. Current value: lambda_l2=0.492799071695039\n",
      "[LightGBM] [Warning] bagging_fraction is set=0.40354881118115155, subsample=1.0 will be ignored. Current value: bagging_fraction=0.40354881118115155\n",
      "[LightGBM] [Warning] lambda_l1 is set=8.869735681562146, reg_alpha=0.0 will be ignored. Current value: lambda_l1=8.869735681562146\n",
      "[LightGBM] [Warning] feature_fraction is set=0.4050052035596727, colsample_bytree=1.0 will be ignored. Current value: feature_fraction=0.4050052035596727\n",
      "[LightGBM] [Warning] bagging_freq is set=5, subsample_freq=0 will be ignored. Current value: bagging_freq=5\n",
      "[LightGBM] [Warning] lambda_l2 is set=0.492799071695039, reg_lambda=0.0 will be ignored. Current value: lambda_l2=0.492799071695039\n",
      "[LightGBM] [Warning] bagging_fraction is set=0.40354881118115155, subsample=1.0 will be ignored. Current value: bagging_fraction=0.40354881118115155\n",
      "Score: 0.002955888566240135\n"
     ]
    }
   ],
   "source": [
    "maes = []\n",
    "oof = np.zeros(len(X_train))\n",
    "imp_mean = SimpleImputer(missing_values=np.nan, strategy='mean')\n",
    "scaler = StandardScaler()\n",
    "for i, (train_idx, valid_idx) in enumerate(cv.split(X_train, y_labels, groups=groups)):\n",
    "\n",
    "    clf = LGBMRegressor(**best_params)\n",
    "    pipe = Pipeline(steps=[('imputer', imp_mean), ('scaler', scaler), ('catb', clf)])\n",
    "    _ = pipe.fit(X_train[train_idx, :], y_labels[train_idx])\n",
    "    preds = pipe.predict(X_train[valid_idx, :])\n",
    "    oof[valid_idx] = preds\n",
    "\n",
    "    mae = mean_absolute_error(y_labels[valid_idx], preds)\n",
    "    maes.append(mae)\n",
    "\n",
    "print(f'Score: {np.mean(maes)}')"
   ]
  },
  {
   "cell_type": "code",
   "execution_count": 36,
   "metadata": {},
   "outputs": [
    {
     "name": "stdout",
     "output_type": "stream",
     "text": [
      "/home/lzhao/projects\n"
     ]
    }
   ],
   "source": [
    "!pwd"
   ]
  },
  {
   "cell_type": "code",
   "execution_count": 37,
   "metadata": {},
   "outputs": [],
   "source": [
    "import gresearch_crypto"
   ]
  },
  {
   "cell_type": "code",
   "execution_count": 38,
   "metadata": {},
   "outputs": [],
   "source": [
    "env = gresearch_crypto.make_env()\n"
   ]
  },
  {
   "cell_type": "code",
   "execution_count": 39,
   "metadata": {},
   "outputs": [],
   "source": [
    "iter_test = env.iter_test()"
   ]
  },
  {
   "cell_type": "code",
   "execution_count": 40,
   "metadata": {},
   "outputs": [],
   "source": [
    "import traceback"
   ]
  },
  {
   "cell_type": "code",
   "execution_count": 45,
   "metadata": {},
   "outputs": [],
   "source": [
    "all_df_test = []\n",
    "pipe_prod = pipe\n",
    "for i, (df_test, df_pred) in enumerate(iter_test):\n",
    "    for j , row in df_test.iterrows():\n",
    "        try:            \n",
    "            row['upper_Shadow'] = upper_shadow(row)\n",
    "            row['lower_Shadow'] = lower_shadow(row)\n",
    "            row[\"high_div_low\"] = row[\"High\"] / row[\"Low\"]\n",
    "            row[\"open_sub_close\"] = row[\"Open\"] - row[\"Close\"]   \n",
    "            #x_test = get_features(row)\n",
    "            row = row.fillna(0)\n",
    "            row = row.replace([np.inf, -np.inf], 0)\n",
    "            #x_test = fill_nan_inf(x_test)\n",
    "            y_pred = pipe_prod.predict([row[feature_names].values])            \n",
    "        except: \n",
    "            y_pred = 0.0\n",
    "            traceback.print_exc()\n",
    "        df_pred.loc[df_pred['row_id'] == row['row_id'], 'Target'] = y_pred\n",
    "    all_df_test.append(df_test)\n",
    "    env.predict(df_pred)"
   ]
  },
  {
   "cell_type": "code",
   "execution_count": 46,
   "metadata": {},
   "outputs": [
    {
     "data": {
      "text/plain": [
       "0"
      ]
     },
     "execution_count": 46,
     "metadata": {},
     "output_type": "execute_result"
    }
   ],
   "source": [
    "len(all_df_test)"
   ]
  }
 ],
 "metadata": {
  "kernelspec": {
   "display_name": "Python 3",
   "language": "python",
   "name": "python3"
  },
  "language_info": {
   "codemirror_mode": {
    "name": "ipython",
    "version": 3
   },
   "file_extension": ".py",
   "mimetype": "text/x-python",
   "name": "python",
   "nbconvert_exporter": "python",
   "pygments_lexer": "ipython3",
   "version": "3.7.11"
  },
  "orig_nbformat": 4
 },
 "nbformat": 4,
 "nbformat_minor": 2
}
